{
 "cells": [
  {
   "cell_type": "markdown",
   "id": "a2e38e5a",
   "metadata": {},
   "source": [
    "# Assignment-4 Feature Engineering"
   ]
  },
  {
   "cell_type": "markdown",
   "id": "4931a8be",
   "metadata": {},
   "source": [
    "Q1. What is data encoding? How is it useful in data science?"
   ]
  },
  {
   "cell_type": "code",
   "execution_count": null,
   "id": "cb292abf",
   "metadata": {},
   "outputs": [],
   "source": [
    "#Ans1.\n",
    "Data encoding is the process of converting data from one form to another, usually for storage, transmission, or analysis.\n",
    "It is an essential technique in data science that enables us to communicate information digitally and use it effectively. \n",
    "\n",
    "#Use in Data Science-\n",
    "In data science, encoding is the process of converting data from one form to another, usually from a human-readable format\n",
    "to a machine-readable format. On the other hand, decoding is the reverse process, where data is converted from\n",
    "machine-readable format back to a human-readable format."
   ]
  },
  {
   "cell_type": "markdown",
   "id": "112dc08c",
   "metadata": {},
   "source": [
    "Q2. What is nominal encoding? Provide an example of how you would use it in a real-world scenario."
   ]
  },
  {
   "cell_type": "code",
   "execution_count": null,
   "id": "59e56382",
   "metadata": {},
   "outputs": [],
   "source": [
    "#Ans2.\n",
    "Nominal categorical variables are those for which we do not have to worry about the arrangement of the categories.\n",
    "\n",
    "#Example-\n",
    "\n",
    "Suppose we have a gender column with categories as Male and Female."
   ]
  },
  {
   "cell_type": "markdown",
   "id": "e0ad99c5",
   "metadata": {},
   "source": [
    "Q3. In what situations is nominal encoding preferred over one-hot encoding? Provide a practical example."
   ]
  },
  {
   "cell_type": "code",
   "execution_count": null,
   "id": "957eb466",
   "metadata": {},
   "outputs": [],
   "source": [
    "#Ans3.\n",
    "To prevent biases from being introduced, One-Hot Encoding is preferable for nominal data (where there is no inherent order\n",
    "among categories). Label encoding, however, might be more appropriate for ordinal data (where categories naturally have\n",
    "an order). The effect of dimensionality should also be taken into account.\n",
    "\n",
    "#Example-\n",
    "consider a dataset containing a variable representing educational attainment, with categories \"High School Diploma\"\n",
    "\"Bachelor's Degree\", \"Master's Degree,\" and \"Ph.D.\". Each category has a clear order from least to most education. \n",
    "In this case, using nominal encoding to assign numerical values such as 1, 2, 3, and 4 respectively preserves the\n",
    "ordinal relationship between the categories."
   ]
  },
  {
   "cell_type": "markdown",
   "id": "602045dd",
   "metadata": {},
   "source": [
    "Q4. Suppose you have a dataset containing categorical data with 5 unique values. Which encoding \n",
    "technique would you use to transform this data into a format suitable for machine learning algorithms? \n",
    "Explain why you made this choice."
   ]
  },
  {
   "cell_type": "code",
   "execution_count": null,
   "id": "645b3b96",
   "metadata": {},
   "outputs": [],
   "source": [
    "#Ans4.\n",
    "The choice between encoding techniques would depend on the nature of the categorical variable and the specific requirements\n",
    "of the machine learning algorithm being used. However, assuming that the categorical variable does not have a natural order\n",
    "or hierarchy, and the algorithm can handle binary-encoded features efficiently, I would opt for one-hot encoding.\n",
    "\n",
    "#Why One Hot Encoding-\n",
    "Non-linearity: One-hot encoding treats each category independently, which is beneficial for machine learning algorithms\n",
    "    that do not assume linear relationships between features and the target variable. This flexibility allows the algorithm\n",
    "    to capture complex, nonlinear patterns in the data.\n",
    "    \n",
    "Algorithm Compatibility: Many machine learning algorithms, such as decision trees, random forests, and support vector\n",
    "    machines, can efficiently handle binary-encoded features produced by one-hot encoding. Therefore, using one-hot\n",
    "    encoding ensures compatibility with a wide range of algorithms.\n",
    "    \n",
    "Interpretability: While one-hot encoding increases the dimensionality of the feature space, making it less interpretable\n",
    "    compared to nominal encoding, it provides clear and explicit representations of each category, making it easier to\n",
    "    interpret the model's behavior."
   ]
  },
  {
   "cell_type": "markdown",
   "id": "7bcfdf98",
   "metadata": {},
   "source": [
    "Q5. In a machine learning project, you have a dataset with 1000 rows and 5 columns. Two of the columns \n",
    "are categorical, and the remaining three columns are numerical. If you were to use nominal encoding to \n",
    "transform the categorical data, how many new columns would be created? Show your calculations."
   ]
  },
  {
   "cell_type": "code",
   "execution_count": 8,
   "id": "1098e9a9",
   "metadata": {},
   "outputs": [
    {
     "name": "stdout",
     "output_type": "stream",
     "text": [
      "Total new columns created using nominal encoding: 7\n"
     ]
    }
   ],
   "source": [
    "import pandas as pd\n",
    "\n",
    "# Example dataset with 1000 rows and 5 columns\n",
    "data = {\n",
    "    'cat_col1': ['A', 'B', 'C', 'A', 'B', 'D', 'C', 'C', 'B', 'A'],\n",
    "    'cat_col2': ['X', 'Y', 'X', 'Z', 'Y', 'Y', 'Z', 'X', 'Z', 'X'],\n",
    "    'num_col1': [10, 20, 30, 40, 50, 60, 70, 80, 90, 100],\n",
    "    'num_col2': [1.1, 2.2, 3.3, 4.4, 5.5, 6.6, 7.7, 8.8, 9.9, 10.1],\n",
    "    'num_col3': [1000, 2000, 3000, 4000, 5000, 6000, 7000, 8000, 9000, 10000]\n",
    "}\n",
    "\n",
    "df = pd.DataFrame(data)\n",
    "unique_cats_col1 = df['cat_col1'].nunique()\n",
    "unique_cats_col2 = df['cat_col2'].nunique()\n",
    "total_new_columns = unique_cats_col1 + unique_cats_col2\n",
    "\n",
    "print(\"Total new columns created using nominal encoding:\", total_new_columns)\n"
   ]
  },
  {
   "cell_type": "markdown",
   "id": "79603d66",
   "metadata": {},
   "source": [
    "Q6. You are working with a dataset containing information about different types of animals, including their \n",
    "species, habitat, and diet. Which encoding technique would you use to transform the categorical data into \n",
    "a format suitable for machine learning algorithms? Justify your answer."
   ]
  },
  {
   "cell_type": "code",
   "execution_count": null,
   "id": "2289404b",
   "metadata": {},
   "outputs": [],
   "source": [
    "#Ans6.\n",
    "One-hot encoding is preferred when dealing with categorical variables with no inherent order or hierarchy. It creates\n",
    "binary features for each category, preserving all information without making any assumptions about relationships between\n",
    "categories.\n",
    "Nominal encoding is suitable when the categorical variable has a natural order or hierarchy that should be preserved.\n",
    "It assigns numerical values to categories while maintaining their relative order, making it beneficial for ordinal\n",
    "variables.\n",
    "Ultimately, the decision between one-hot encoding and nominal encoding should be based on the specific characteristics of\n",
    "each categorical variable and the needs of the machine learning algorithm being employed.\n"
   ]
  },
  {
   "cell_type": "markdown",
   "id": "c8804238",
   "metadata": {},
   "source": [
    "Q7.You are working on a project that involves predicting customer churn for a telecommunications \n",
    "company. You have a dataset with 5 features, including the customer's gender, age, contract type, \n",
    "monthly charges, and tenure. Which encoding technique(s) would you use to transform the categorical \n",
    "data into numerical data? Provide a step-by-step explanation of how you would implement the encoding."
   ]
  },
  {
   "cell_type": "code",
   "execution_count": 9,
   "id": "38baae91",
   "metadata": {},
   "outputs": [
    {
     "name": "stdout",
     "output_type": "stream",
     "text": [
      "Encoded dataset:\n",
      "   age  monthly_charges  tenure  gender_Female  gender_Male  \\\n",
      "0   35             50.0       6              0            1   \n",
      "1   45             70.0      12              1            0   \n",
      "2   28             60.0       3              0            1   \n",
      "3   50             80.0      24              0            1   \n",
      "4   60             90.0      18              1            0   \n",
      "\n",
      "   contract_type_Month-to-month  contract_type_One year  \\\n",
      "0                             1                       0   \n",
      "1                             0                       1   \n",
      "2                             1                       0   \n",
      "3                             0                       0   \n",
      "4                             0                       1   \n",
      "\n",
      "   contract_type_Two year  \n",
      "0                       0  \n",
      "1                       0  \n",
      "2                       0  \n",
      "3                       1  \n",
      "4                       0  \n"
     ]
    }
   ],
   "source": [
    "#Ans7.\n",
    "import pandas as pd\n",
    "data = {\n",
    "    'gender': ['Male', 'Female', 'Male', 'Male', 'Female'],\n",
    "    'age': [35, 45, 28, 50, 60],\n",
    "    'contract_type': ['Month-to-month', 'One year', 'Month-to-month', 'Two year', 'One year'],\n",
    "    'monthly_charges': [50.0, 70.0, 60.0, 80.0, 90.0],\n",
    "    'tenure': [6, 12, 3, 24, 18]\n",
    "}\n",
    "df = pd.DataFrame(data)\n",
    "encoded_df = pd.get_dummies(df, columns=['gender', 'contract_type'])\n",
    "\n",
    "# Display the encoded dataset\n",
    "print(\"Encoded dataset:\")\n",
    "print(encoded_df)\n"
   ]
  },
  {
   "cell_type": "code",
   "execution_count": null,
   "id": "29e9a0e5",
   "metadata": {},
   "outputs": [],
   "source": [
    "#Step-by-Step Explanation-\n",
    "Step 1: Identify Categorical and Numerical Features\n",
    "\n",
    "Gender and contract type are categorical features.\n",
    "Age, monthly charges, and tenure are numerical features.\n",
    "Step 2: One-Hot Encoding for Categorical Features\n",
    "\n",
    "Use one-hot encoding to transform the gender and contract type features into binary features.\n",
    "For gender, create two binary features: \"Male\" and \"Female.\"\n",
    "For contract type, create binary features for each contract type present in the dataset.\n",
    "Step 3: Concatenate Encoded Features with Numerical Features\n",
    "\n",
    "After one-hot encoding the categorical features, concatenate the resulting binary features with the original numerical\n",
    "features (age, monthly charges, tenure) to create the final dataset."
   ]
  }
 ],
 "metadata": {
  "kernelspec": {
   "display_name": "Python 3 (ipykernel)",
   "language": "python",
   "name": "python3"
  },
  "language_info": {
   "codemirror_mode": {
    "name": "ipython",
    "version": 3
   },
   "file_extension": ".py",
   "mimetype": "text/x-python",
   "name": "python",
   "nbconvert_exporter": "python",
   "pygments_lexer": "ipython3",
   "version": "3.10.9"
  }
 },
 "nbformat": 4,
 "nbformat_minor": 5
}
