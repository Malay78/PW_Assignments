{
 "cells": [
  {
   "cell_type": "code",
   "execution_count": null,
   "id": "45d20dc7",
   "metadata": {},
   "outputs": [],
   "source": [
    "Q1. Create one variable containing following type of data:\n",
    "\n",
    "(i)\tstring\n",
    "\n",
    "(ii)\tlist\n",
    "\n",
    "(iii)\tfloat\n",
    "\n",
    "(iv)\ttuple"
   ]
  },
  {
   "cell_type": "code",
   "execution_count": 17,
   "id": "3afe9e70",
   "metadata": {},
   "outputs": [
    {
     "name": "stdout",
     "output_type": "stream",
     "text": [
      "('Hello', [43, 45, 23], 45.78, 23)\n"
     ]
    }
   ],
   "source": [
    "#Ans1.\n",
    "temp=\"Hello\",[43,45,23],45.78,(23)\n",
    "print(temp)"
   ]
  },
  {
   "cell_type": "code",
   "execution_count": 4,
   "id": "aa292e97",
   "metadata": {},
   "outputs": [],
   "source": [
    "Q2. Given are some following variables containing data:\n",
    "\n",
    "(i)\tvar1 = ‘ ‘\n",
    "\n",
    "(ii)\tvar2 = ‘[ DS , ML , Python]’\n",
    "\n",
    "(iii)\tvar3 = [ ‘DS’ , ’ML’ , ‘Python’ ]\n",
    "\n",
    "(iv)\tvar4 = 1.\n",
    "What will be the data type of the above given variable."
   ]
  },
  {
   "cell_type": "code",
   "execution_count": null,
   "id": "b65ca882",
   "metadata": {},
   "outputs": [],
   "source": [
    "#Ans2.\n",
    "i. str\n",
    "ii. str\n",
    "iii. list\n",
    "iv. float"
   ]
  },
  {
   "cell_type": "code",
   "execution_count": null,
   "id": "c70269ea",
   "metadata": {},
   "outputs": [],
   "source": [
    "Q3. Explain the use of the following operators using an example:\n",
    "\n",
    "(i) /\n",
    "\n",
    "(ii)\t% \n",
    "\n",
    "(iii)\t//\n",
    "\n",
    "(iv)\t**"
   ]
  },
  {
   "cell_type": "code",
   "execution_count": 5,
   "id": "bb331416",
   "metadata": {},
   "outputs": [
    {
     "name": "stdout",
     "output_type": "stream",
     "text": [
      "5.333333333333333\n",
      "2\n",
      "5\n",
      "27\n"
     ]
    }
   ],
   "source": [
    "#Ans3.\n",
    "'''i. This operator is used for division purpose, the output from this operator will be in both integer and floating constant\n",
    "ii. This operator is known as modulus, it gives remainder of any divison process.\n",
    "iii. This operator is known as floor division and it gives the output only in integer format, if the output is decimal or \n",
    "        floating point constant then it will give only integer part of that operator.\n",
    "iv. This operator is used to do exponent of any number.'''\n",
    "#Examples-\n",
    "a=32/6\n",
    "print(a)\n",
    "#Output-:5.333333333333\n",
    "b=32%5\n",
    "print(b)\n",
    "#Output-: 2\n",
    "c=32//6\n",
    "print(c)\n",
    "#Output-: 5\n",
    "d=3**3\n",
    "print(d)\n",
    "#Output-: 27"
   ]
  },
  {
   "cell_type": "code",
   "execution_count": null,
   "id": "ecd5fb58",
   "metadata": {},
   "outputs": [],
   "source": [
    "Q4. Create a list of length 10 of your choice containing multiple types of data. Using for loop print the \n",
    "element and its data type."
   ]
  },
  {
   "cell_type": "code",
   "execution_count": 7,
   "id": "52bf7db3",
   "metadata": {},
   "outputs": [
    {
     "name": "stdout",
     "output_type": "stream",
     "text": [
      "38\n",
      "Data type: <class 'int'>\n",
      "67\n",
      "Data type: <class 'int'>\n",
      "48\n",
      "Data type: <class 'int'>\n",
      "57\n",
      "Data type: <class 'int'>\n",
      "53\n",
      "Data type: <class 'int'>\n",
      "39\n",
      "Data type: <class 'int'>\n",
      "Malay\n",
      "Data type: <class 'str'>\n",
      "87.23\n",
      "Data type: <class 'float'>\n",
      "(5+6j)\n",
      "Data type: <class 'complex'>\n",
      "25\n",
      "Data type: <class 'int'>\n"
     ]
    }
   ],
   "source": [
    "#Ans4.\n",
    "var=[38,67,48,57,53,39,\"Malay\",87.23,5+6j,25]\n",
    "for i in var:\n",
    "    print(i)\n",
    "    print(\"Data type:\",type(i))"
   ]
  },
  {
   "cell_type": "code",
   "execution_count": null,
   "id": "1738cb46",
   "metadata": {},
   "outputs": [],
   "source": [
    "Q5. Using a while loop, verify if the number A is purely divisible by number B and if so then how many \n",
    "times it can be divisible."
   ]
  },
  {
   "cell_type": "code",
   "execution_count": 12,
   "id": "3b35f024",
   "metadata": {},
   "outputs": [
    {
     "name": "stdout",
     "output_type": "stream",
     "text": [
      "4\n",
      "30\n",
      "0\n"
     ]
    }
   ],
   "source": [
    "#Ans5.\n",
    "a=int(input(\"A=\"))\n",
    "b=int(input(\"B=\"))\n",
    "count=0\n",
    "while(a<b):\n",
    "    if(a%b==0):\n",
    "        count+=1\n",
    "    a+=1\n",
    "print(count)"
   ]
  },
  {
   "cell_type": "code",
   "execution_count": null,
   "id": "9aa694f9",
   "metadata": {},
   "outputs": [],
   "source": [
    "Q6. Create a list containing 25 int type data. Using for loop and if-else condition print if the element is \n",
    "divisible by 3 or not."
   ]
  },
  {
   "cell_type": "code",
   "execution_count": 13,
   "id": "15a0a284",
   "metadata": {},
   "outputs": [
    {
     "name": "stdout",
     "output_type": "stream",
     "text": [
      "26 is not divisible by 3\n",
      "60 is divisible by 3\n",
      "39 is divisible by 3\n",
      "36 is divisible by 3\n",
      "3 is divisible by 3\n",
      "42 is divisible by 3\n",
      "44 is not divisible by 3\n",
      "40 is not divisible by 3\n",
      "21 is divisible by 3\n",
      "25 is not divisible by 3\n",
      "13 is not divisible by 3\n",
      "14 is not divisible by 3\n",
      "58 is not divisible by 3\n",
      "63 is divisible by 3\n",
      "99 is divisible by 3\n",
      "95 is not divisible by 3\n",
      "20 is not divisible by 3\n",
      "67 is not divisible by 3\n",
      "81 is divisible by 3\n",
      "96 is divisible by 3\n",
      "65 is not divisible by 3\n",
      "12 is divisible by 3\n",
      "57 is divisible by 3\n",
      "69 is divisible by 3\n",
      "42 is divisible by 3\n"
     ]
    }
   ],
   "source": [
    "#Ans6.\n",
    "var1=[26,60,39,36,3,42,44,40,21,25,13,14,58,63,99,95,20,67,81,96,65,12,57,69,42]\n",
    "for i in var1:\n",
    "    if(i%3==0):\n",
    "        print(i,\"is divisible by 3\")\n",
    "    else:\n",
    "        print(i,\"is not divisible by 3\")\n",
    "        "
   ]
  },
  {
   "cell_type": "code",
   "execution_count": null,
   "id": "e61bd626",
   "metadata": {},
   "outputs": [],
   "source": [
    "Q7. What do you understand about mutable and immutable data types? Give examples for both showing \n",
    "this property"
   ]
  },
  {
   "cell_type": "code",
   "execution_count": 14,
   "id": "4e04b67f",
   "metadata": {},
   "outputs": [
    {
     "name": "stdout",
     "output_type": "stream",
     "text": [
      "[36, 455, 96, 12, 25]\n"
     ]
    },
    {
     "ename": "AttributeError",
     "evalue": "'tuple' object has no attribute 'append'",
     "output_type": "error",
     "traceback": [
      "\u001b[1;31m---------------------------------------------------------------------------\u001b[0m",
      "\u001b[1;31mAttributeError\u001b[0m                            Traceback (most recent call last)",
      "Cell \u001b[1;32mIn[14], line 11\u001b[0m\n\u001b[0;32m      9\u001b[0m \u001b[38;5;28mprint\u001b[39m(var3)\n\u001b[0;32m     10\u001b[0m var4\u001b[38;5;241m=\u001b[39m(\u001b[38;5;241m23\u001b[39m,\u001b[38;5;241m96\u001b[39m,\u001b[38;5;241m45\u001b[39m)\n\u001b[1;32m---> 11\u001b[0m \u001b[43mvar4\u001b[49m\u001b[38;5;241;43m.\u001b[39;49m\u001b[43mappend\u001b[49m(\u001b[38;5;241m64\u001b[39m)\n\u001b[0;32m     12\u001b[0m \u001b[38;5;28mprint\u001b[39m(var4)\n",
      "\u001b[1;31mAttributeError\u001b[0m: 'tuple' object has no attribute 'append'"
     ]
    }
   ],
   "source": [
    "#Ans7.\n",
    "'''Mutable data types are those data type which can be easily modify its values present in its data collection.\n",
    "Eg- Lists,Dictionaries,Sets\n",
    "Immutable data types are those data types in which no change can occur over time, the values of this data types are fixed.\n",
    "Eg- Tuple,Strings'''\n",
    "#Example for Mutable Data types\n",
    "var3=[36,455,96,12]\n",
    "var3.append(25)\n",
    "print(var3)\n",
    "var4=(23,96,45)\n",
    "var4.append(64)\n",
    "print(var4)"
   ]
  },
  {
   "cell_type": "code",
   "execution_count": null,
   "id": "7012da90",
   "metadata": {},
   "outputs": [],
   "source": []
  }
 ],
 "metadata": {
  "kernelspec": {
   "display_name": "Python 3 (ipykernel)",
   "language": "python",
   "name": "python3"
  },
  "language_info": {
   "codemirror_mode": {
    "name": "ipython",
    "version": 3
   },
   "file_extension": ".py",
   "mimetype": "text/x-python",
   "name": "python",
   "nbconvert_exporter": "python",
   "pygments_lexer": "ipython3",
   "version": "3.10.9"
  }
 },
 "nbformat": 4,
 "nbformat_minor": 5
}
