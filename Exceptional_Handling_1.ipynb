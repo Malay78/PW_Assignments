{
 "cells": [
  {
   "cell_type": "code",
   "execution_count": null,
   "id": "7c9c9c99",
   "metadata": {},
   "outputs": [],
   "source": [
    "Q1. What is an Exception in python? Write the difference between Exceptions and syntax errors.\n",
    "#Ans1.\n",
    "Exceptions-:\n",
    "An exception is a type of error that occurs when a syntactically correct Python code raises an error. An arrow indicates the\n",
    "line where the exception occurred, while the last line of the error message specifies the exact type of exception and provides\n",
    "its description to facilitate debugging.\n",
    "\n",
    "Syntax Errors-:\n",
    "As the name suggests this error is caused by the wrong syntax in the code. It leads to the termination of the program."
   ]
  },
  {
   "cell_type": "code",
   "execution_count": null,
   "id": "9b38590b",
   "metadata": {},
   "outputs": [],
   "source": [
    "Q2. What happen when an exception is not handled? Explain with an example.\n",
    "#Ans2.\n",
    "If an exception is not handled it will give an error. To overcome from this problem we use exceptional handling.\n"
   ]
  },
  {
   "cell_type": "code",
   "execution_count": 21,
   "id": "5a2dcaba",
   "metadata": {},
   "outputs": [
    {
     "ename": "TypeError",
     "evalue": "unsupported operand type(s) for +: 'int' and 'str'",
     "output_type": "error",
     "traceback": [
      "\u001b[1;31m---------------------------------------------------------------------------\u001b[0m",
      "\u001b[1;31mTypeError\u001b[0m                                 Traceback (most recent call last)",
      "Cell \u001b[1;32mIn[21], line 3\u001b[0m\n\u001b[0;32m      1\u001b[0m \u001b[38;5;66;03m#Example\u001b[39;00m\n\u001b[0;32m      2\u001b[0m a\u001b[38;5;241m=\u001b[39m\u001b[38;5;241m10\u001b[39m\n\u001b[1;32m----> 3\u001b[0m \u001b[38;5;28mprint\u001b[39m(\u001b[43ma\u001b[49m\u001b[38;5;241;43m+\u001b[39;49m\u001b[38;5;124;43m\"\u001b[39;49m\u001b[38;5;124;43mHello\u001b[39;49m\u001b[38;5;124;43m\"\u001b[39;49m)\n",
      "\u001b[1;31mTypeError\u001b[0m: unsupported operand type(s) for +: 'int' and 'str'"
     ]
    }
   ],
   "source": [
    "#Example\n",
    "a=10\n",
    "print(a+\"Hello\")"
   ]
  },
  {
   "cell_type": "code",
   "execution_count": null,
   "id": "ea4cca74",
   "metadata": {},
   "outputs": [],
   "source": [
    "Q3. Which Python statements are used to catch and handle exceptions? Explain with an example.\n",
    "#Ans3.\n",
    "try and except are the two statements which are used to catch and handle the exceptions respectively.\n"
   ]
  },
  {
   "cell_type": "code",
   "execution_count": 12,
   "id": "5554be59",
   "metadata": {},
   "outputs": [
    {
     "name": "stdout",
     "output_type": "stream",
     "text": [
      "list index out of range\n"
     ]
    }
   ],
   "source": [
    "#Example\n",
    "try:\n",
    "    k=[45,36,25,75,36,87]\n",
    "    print(k[9])\n",
    "except Exception as e:\n",
    "    print(e)"
   ]
  },
  {
   "cell_type": "code",
   "execution_count": null,
   "id": "a04b9259",
   "metadata": {},
   "outputs": [],
   "source": [
    "Q4. Explain with an example:\n",
    "a. try and else \n",
    "b. finally\n",
    "c. raise "
   ]
  },
  {
   "cell_type": "code",
   "execution_count": 16,
   "id": "fe9c62c8",
   "metadata": {},
   "outputs": [
    {
     "name": "stdout",
     "output_type": "stream",
     "text": [
      "Sorry! You're dividing by zero\n"
     ]
    }
   ],
   "source": [
    "#Ans4.\n",
    "#a.\n",
    "'''try and else  is used to handle these errores withing our code in Python. The try block is used to check some code for\n",
    "errors i.e. the inside the try block will execute when there is no error in the program. Whereas the code inside the except\n",
    "block will execute whenever the program encounters some error in the preceding try block.'''\n",
    "#Example\n",
    "def divide(x,y):\n",
    "    try:\n",
    "        result=x//y\n",
    "        print(\"The answer is:\",result)\n",
    "    except ZeroDivisionError:\n",
    "        print(\"Sorry! You're dividing by zero\")\n",
    "divide(3,0)"
   ]
  },
  {
   "cell_type": "code",
   "execution_count": 17,
   "id": "654d7d5f",
   "metadata": {},
   "outputs": [
    {
     "name": "stdout",
     "output_type": "stream",
     "text": [
      "Inside try block\n",
      "Inside Finally\n",
      "1\n"
     ]
    }
   ],
   "source": [
    "#b.\n",
    "'''finally block is always executed after leaving the try statement. In case if some exception was not handled by except block, \n",
    "it is re-raised after execution of finally block. It is used to deallocate the system resources.'''\n",
    "#Example\n",
    "def learn():\n",
    "    try:\n",
    "        print(\"Inside try block\")\n",
    "        return 1\n",
    "    except Exception as e:\n",
    "        print(e)\n",
    "    finally:\n",
    "        print(\"Inside Finally\")\n",
    "print(learn())"
   ]
  },
  {
   "cell_type": "code",
   "execution_count": 19,
   "id": "1656dd25",
   "metadata": {},
   "outputs": [
    {
     "name": "stdout",
     "output_type": "stream",
     "text": [
      "An error occurred: Cannot divide by zero\n"
     ]
    }
   ],
   "source": [
    "#c.\n",
    "'''The raise statement in Python is used to raise an exception. When an exception is triggered, the programme goes to  the closest exception handler, interrupting the regular flow of execution'''\n",
    "def divide(a,b):\n",
    "    if b==0:\n",
    "        raise Exception(\"Cannot divide by zero\")\n",
    "    return a/b\n",
    "try :\n",
    "    result=divide(10,0)\n",
    "except Exception as e:\n",
    "    print(\"An error occurred:\",e)"
   ]
  },
  {
   "cell_type": "code",
   "execution_count": null,
   "id": "cc82e855",
   "metadata": {},
   "outputs": [],
   "source": [
    "Q5. What are Custom Exceptions in python? Why do we need Custom Exceptions? Explain with an example.\n",
    "#Ans5.\n",
    "A custom exception is an exception which is defined by the user. It is used when the built-in funcitons are not sufficient to\n",
    "handle the particular scenario in the program."
   ]
  },
  {
   "cell_type": "code",
   "execution_count": 2,
   "id": "5e53d0f0",
   "metadata": {},
   "outputs": [
    {
     "name": "stdout",
     "output_type": "stream",
     "text": [
      "Enter a number:8\n",
      "Exception occured: Invalid Age\n"
     ]
    }
   ],
   "source": [
    "#Example\n",
    "class InvalidAgeException(Exception):\n",
    "    \"Raised wehn the input value is less than 18\"\n",
    "    pass\n",
    "number=18\n",
    "try:\n",
    "    input_num=int(input(\"Enter a number:\"))\n",
    "    if input_num < number:\n",
    "        raise InvalidAgeException\n",
    "    else:\n",
    "        print(\"Eligible to Vote\")\n",
    "except InvalidAgeException:\n",
    "    print(\"Exception occured: Invalid Age\")"
   ]
  },
  {
   "cell_type": "code",
   "execution_count": null,
   "id": "db43ff86",
   "metadata": {},
   "outputs": [],
   "source": [
    "Q6. Create a custom exception class. Use this class to handle an exception."
   ]
  },
  {
   "cell_type": "code",
   "execution_count": 17,
   "id": "2d1f59e2",
   "metadata": {},
   "outputs": [],
   "source": [
    "#Ans6.\n",
    "class Coin(Exception):\n",
    "    \n",
    "    def __init__(self,flip):\n",
    "        self.flip=flip\n",
    "def result(win):\n",
    "    if win=='H':\n",
    "        raise Coin(\"Head\")\n",
    "    elif win=='T':\n",
    "        raise Coin(\"Tail\")\n",
    "    else:\n",
    "        print(\"Wrong Input\")\n",
    "        \n",
    "        "
   ]
  },
  {
   "cell_type": "code",
   "execution_count": 20,
   "id": "c46d137d",
   "metadata": {},
   "outputs": [
    {
     "name": "stdout",
     "output_type": "stream",
     "text": [
      "Enter H or T\n",
      "T\n",
      "Tail\n"
     ]
    }
   ],
   "source": [
    "try:\n",
    "    win=input(\"Enter H or T\\n\")\n",
    "    result(win)\n",
    "except Coin as e:\n",
    "    print(e)"
   ]
  },
  {
   "cell_type": "code",
   "execution_count": null,
   "id": "652195bd",
   "metadata": {},
   "outputs": [],
   "source": []
  }
 ],
 "metadata": {
  "kernelspec": {
   "display_name": "Python 3 (ipykernel)",
   "language": "python",
   "name": "python3"
  },
  "language_info": {
   "codemirror_mode": {
    "name": "ipython",
    "version": 3
   },
   "file_extension": ".py",
   "mimetype": "text/x-python",
   "name": "python",
   "nbconvert_exporter": "python",
   "pygments_lexer": "ipython3",
   "version": "3.10.9"
  }
 },
 "nbformat": 4,
 "nbformat_minor": 5
}
