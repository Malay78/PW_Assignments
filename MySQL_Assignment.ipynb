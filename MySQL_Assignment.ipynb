{
 "cells": [
  {
   "cell_type": "code",
   "execution_count": null,
   "id": "c171d1d7",
   "metadata": {},
   "outputs": [],
   "source": [
    "Q1. What is a database? Differentiate between SQL and NoSQL databases\n",
    "#Ans1.\n",
    "A database is, an organized collection of data from which users can efficiently retrieve the desired information. A \n",
    "database consists of four components-\n",
    "a. Data Item\n",
    "b. Relationships\n",
    "c. Constraints\n",
    "d. Schema\n",
    "\n",
    "#Difference between SQL and NoSQL\n",
    "SQL-\n",
    "* SQL stands for Structured Query Language\n",
    "* It contains data in the format of table(i.e. rows and columns)\n",
    "* Vertically Scalable\n",
    "* Examples- MySQL, Oracle, Sybase, Informix, MS Access\n",
    "NoSQL-\n",
    "* NoSQL stands for Not Only Structured Query Language\n",
    "* It contains the data in key and value format.\n",
    "* Horizontally Scalable\n",
    "* Examples- MongoDB,Neo4j, Cassandra"
   ]
  },
  {
   "cell_type": "code",
   "execution_count": null,
   "id": "4de30f6b",
   "metadata": {},
   "outputs": [],
   "source": [
    "Q2. What is DDL? Explain why CREATE, DROP, ALTER, and TRUNCATE are used with an example.\n",
    "#Ans2.\n",
    "DDL stands for Data definition Language describes the portion of SQL that creates, alters, and deletes database objects.\n",
    "These database objects include schemas, tables, views, sequences, catalogs, indexes, variables, masks, permissions and\n",
    "aliases.\n",
    "\n",
    "#Use of CREATE\n",
    "SQL provides the CREATE TABLE statement to create a new table in a given database. An SQL query to create a table must\n",
    "define the structure of a table.\n",
    "#Example-\n",
    "CREATE TABLE S1(\n",
    "Name     VARCHAR(20) NOT NULL\n",
    "Age      INT NOT NULL,\n",
    "Address  CHAR(25));\n",
    "\n",
    "#Use of DROP\n",
    "The SQL DROP TABLE statement is a Data Definition Language(DDL) command that is used to remove a table's definition.\n",
    "#Example\n",
    "DROP TABLE S1;\n",
    "\n",
    "#Use of ALTER\n",
    "The ALTER table statement in SQL is used to add, remove, or modify columns in the existing table.The ALTER table is also\n",
    "used to add or remove constraints in the tables.\n",
    "#Example\n",
    "ALTER TABLE Students\n",
    "ADD Email varchar(255);\n",
    "\n",
    "#Use of TRUNCATE\n",
    "TRUNCATE command is used to remove all of the rows from a table, regardless of whether or not any conditions are met and\n",
    "resets the table definition. It is DDL command.\n",
    "#Example\n",
    "TRUNCATE TABLE table_name;\n",
    "table_name: Name of the table to be truncated.\n",
    "DATABASE name- student_data"
   ]
  },
  {
   "cell_type": "code",
   "execution_count": null,
   "id": "deee968d",
   "metadata": {},
   "outputs": [],
   "source": [
    "Q3. What is DML? Explain INSERT, UPDATE, and DELETE with an example.\n",
    "#Ans3.\n",
    "DML stands for Data Manipulation Language, it is a class of SQL statements that are used to query, edit, add and delete\n",
    "row-level data from database tables.\n",
    "#Use of INSERT\n",
    "Insert is another most important data manipulation command in Structured Query Language, which allows users to insert\n",
    "data in database tables.\n",
    "#Example\n",
    "INSERT INTO TABLE_NAME(column_Name1, column_Name2, column_Name3) VALUES(value_1, value_2,value_3);\n",
    "\n",
    "#Use of UPDATE\n",
    "UPDATE is another most important daata manipulation command in Structured Query Language, which allows users to update or\n",
    "modify the existing data in database tables.\n",
    "#Example\n",
    "UPDATE Table_name SET [column_name1= value1,.....,columns_nameN=value_N] WHERE CONDITION;\n",
    "\n",
    "#Use of DELETE\n",
    "Delete is DML command which allows SQL users to remove single or multiple single or multiple existing records from the\n",
    "database tables.\n",
    "#Example\n",
    "DELETE FROM Table_Name WHERE condition;"
   ]
  },
  {
   "cell_type": "code",
   "execution_count": null,
   "id": "0a29b4b8",
   "metadata": {},
   "outputs": [],
   "source": [
    "Q4. What is DQL? Explain SELECT with an example.\n",
    "#Ans4.\n",
    "The full form of DQL is Data Query Language. DQL is a part of the grouping involved in SQL sub-languages. The SQL sub \n",
    "languages have four major categories, DQL,DDL,DCL and DML.\n",
    "\n",
    "#Use of Select\n",
    "The SELECT statement is used to select data from a database.\n",
    "#Examples\n",
    "SELECT CustomerName, City FROM Customers;"
   ]
  },
  {
   "cell_type": "code",
   "execution_count": null,
   "id": "22362c4d",
   "metadata": {},
   "outputs": [],
   "source": [
    "Q5. Explain Primary Key and Foreign Key.\n",
    "#Ans5.\n",
    "Primary Key is used to ensure data in the specific column is unique. It uniquely identifies a record in the relational \n",
    "database table. It does not allow NULL values.\n",
    "Foreign Key is a column or group of columns in a relational database table that provides a link between data in two tables.\n",
    "It refers to the field in a table which is the primary key of another table. It can also contain NULL value\n"
   ]
  },
  {
   "cell_type": "code",
   "execution_count": null,
   "id": "43c3d896",
   "metadata": {},
   "outputs": [],
   "source": [
    "Q6. Write a python code to connect MySQL to python. Explain the cursor() and execute() method.\n",
    "#Ans6.\n",
    "import mysql.connector\n",
    "# import mysql.connector\n",
    "#create user 'user'@'%' identified by 'password'\n",
    "mydb = mysql.connector.connect(\n",
    "  host=\"localhost\",\n",
    "  user=\"abc\",\n",
    "  password=\"password\"\n",
    ")\n",
    "print(mydb)\n",
    "mycursor = mydb.cursor()\n",
    "mycursor.execute(\"SHOW DATABASES\")\n",
    "for x in mycursor:\n",
    "    print(x)"
   ]
  },
  {
   "cell_type": "code",
   "execution_count": null,
   "id": "6e76603b",
   "metadata": {},
   "outputs": [],
   "source": [
    "#Cursor()-\n",
    "A cursor is an object which helps to execute the query and fetch and records from the database. The cursor plays a very\n",
    "important role in executing the query.\n",
    "\n",
    "#Execute()-\n",
    "This method executes the given database operation(query or command). The parameters found in the tuple or dictionary params\n",
    "are bound to the variables in the operation."
   ]
  },
  {
   "cell_type": "code",
   "execution_count": null,
   "id": "185d5b1c",
   "metadata": {},
   "outputs": [],
   "source": [
    "Q7. Give the order of execution of SQL clauses in an SQL query.\n",
    "#Ans7.\n",
    "1. from-: It choose and join tables to get base data.\n",
    "2. where-: Filters the base data.\n",
    "3. group by-: Aggregates the base data.\n",
    "4. having-: Filters the aggregated data.\n",
    "5. select-: Returns the final data.\n",
    "6. order by-: Sorts the final data.\n",
    "7. limit-: Limits the returned data to a row count.\n"
   ]
  }
 ],
 "metadata": {
  "kernelspec": {
   "display_name": "Python 3 (ipykernel)",
   "language": "python",
   "name": "python3"
  },
  "language_info": {
   "codemirror_mode": {
    "name": "ipython",
    "version": 3
   },
   "file_extension": ".py",
   "mimetype": "text/x-python",
   "name": "python",
   "nbconvert_exporter": "python",
   "pygments_lexer": "ipython3",
   "version": "3.10.9"
  }
 },
 "nbformat": 4,
 "nbformat_minor": 5
}
