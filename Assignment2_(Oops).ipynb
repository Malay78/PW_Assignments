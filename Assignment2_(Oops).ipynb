{
 "cells": [
  {
   "cell_type": "code",
   "execution_count": null,
   "id": "146afe6c",
   "metadata": {},
   "outputs": [],
   "source": [
    "Q1. What is Abstraction in OOps? Explain with an example.\n",
    "#Ans1. \n",
    "Abstraction means displaying only essential information and hididng the details. Data abstraction refers to providing only \n",
    "essential information about the data to the outside world, hiding the background details or implementation."
   ]
  },
  {
   "cell_type": "code",
   "execution_count": 1,
   "id": "9b45b4cc",
   "metadata": {},
   "outputs": [],
   "source": [
    "#Example of Abstraction\n",
    "import abc\n",
    "class pwskills:\n",
    "    @abc.abstractmethod\n",
    "    def students_details(self):\n",
    "        pass\n",
    "    @abc.abstractmethod\n",
    "    def students_assignment(self):\n",
    "        pass\n",
    "    @abc.abstractmethod\n",
    "    def student_marks(self):\n",
    "        pass"
   ]
  },
  {
   "cell_type": "code",
   "execution_count": 3,
   "id": "0b246236",
   "metadata": {},
   "outputs": [],
   "source": [
    "class web_development(pwskills):\n",
    "    def students_details(self):\n",
    "        return \"Taking Students details\"\n",
    "    def students_assignment(self):\n",
    "        return \"This returns assignments details\""
   ]
  },
  {
   "cell_type": "code",
   "execution_count": 6,
   "id": "3f1c065d",
   "metadata": {},
   "outputs": [
    {
     "data": {
      "text/plain": [
       "'This returns assignments details'"
      ]
     },
     "execution_count": 6,
     "metadata": {},
     "output_type": "execute_result"
    }
   ],
   "source": [
    "wd=web_development()\n",
    "wd.students_assignment()"
   ]
  },
  {
   "cell_type": "code",
   "execution_count": null,
   "id": "a10460d0",
   "metadata": {},
   "outputs": [],
   "source": [
    "Q2. Differentiate between Abstraction and Encapsulation. Explain with an example.\n",
    "#Ans2.\n",
    "Abstraction:\n",
    "* In abstraction, problems are solved at the design or interface level\n",
    "* Abstraction is the method of hiding important information.\n",
    "* In abstraction, implementation complexities are hidden using abstract classes and interfaces.\n",
    "Encapsulation:\n",
    "* In encapsulation, problems are solved at the implementation level.\n",
    "* It is a method to hide the data in a single entity or unit along with a method to protect information from outside.\n",
    "* In encapsulation the data is hidden using methods of getters and setters\n"
   ]
  },
  {
   "cell_type": "code",
   "execution_count": 10,
   "id": "920c549c",
   "metadata": {},
   "outputs": [
    {
     "name": "stdout",
     "output_type": "stream",
     "text": [
      "The mileage is 30 kmph\n",
      "The mileage is 25kmph\n"
     ]
    }
   ],
   "source": [
    "#Abstraction\n",
    "from abc import ABC, abstractmethod\n",
    "class Car(ABC):\n",
    "    def mileage(self):\n",
    "        pass\n",
    "class Tesla(Car):\n",
    "    def mileage(self):\n",
    "        print(\"The mileage is 30 kmph\")\n",
    "class Suzuki(Car):\n",
    "    def mileage(self):\n",
    "        print(\"The mileage is 25kmph\")\n",
    "class Duster(Car):\n",
    "    def mileage(self):\n",
    "        print(\"The mileage is 24 kmph\")\n",
    "t=Tesla()\n",
    "t.mileage()\n",
    "s=Suzuki()\n",
    "s.mileage()"
   ]
  },
  {
   "cell_type": "code",
   "execution_count": 16,
   "id": "5045143e",
   "metadata": {},
   "outputs": [
    {
     "data": {
      "text/plain": [
       "2020"
      ]
     },
     "execution_count": 16,
     "metadata": {},
     "output_type": "execute_result"
    }
   ],
   "source": [
    "#Encapsulation\n",
    "class car:\n",
    "    def __init__(self, year, make, model,speed):\n",
    "        self.__year=year\n",
    "        self.__make=make\n",
    "        self.__model=model\n",
    "        self.__speed=0\n",
    "c=car(2020,\"Honda\",\"City\",90)\n",
    "c._car__year"
   ]
  },
  {
   "cell_type": "code",
   "execution_count": null,
   "id": "5eaa4804",
   "metadata": {},
   "outputs": [],
   "source": [
    "Q3. What is abc module in python? Why is it used?\n",
    "#Ans3. \n",
    "abc stands for abstract base class that offers the necessary tools for crafting an abstract base class. The main goal of the \n",
    "abstract base class is to provide a standardized way to test whether an object adheres to a given specification."
   ]
  },
  {
   "cell_type": "code",
   "execution_count": null,
   "id": "98e29948",
   "metadata": {},
   "outputs": [],
   "source": [
    "Q4. How can we achieve data abstraction?\n",
    "#Ans4. \n",
    "Data Abstraction focuses on hiding the internal representation of data objects and only exposing the necessary information.\n",
    "\n",
    "For example- The concept of a bank account can be represented as an abstract data type. The user can interact with the account\n",
    "through methods like deposit, withdraw, and checking of Balance, while the internal details, such as the storage mechanism or \n",
    "transaction processing, remains abstracted."
   ]
  },
  {
   "cell_type": "code",
   "execution_count": null,
   "id": "8db789e3",
   "metadata": {},
   "outputs": [],
   "source": [
    "Q5. Can we create an instance of an abstract class? Explain your answer.\n",
    "#Ans5. \n",
    "No, we cannot create instance of an abstract class. \n",
    "We can only inherit a subclass with its parent class.The main class is the blueprint for the other subclasses. The object is \n",
    "created for the subclasses not for the parent class."
   ]
  }
 ],
 "metadata": {
  "kernelspec": {
   "display_name": "Python 3 (ipykernel)",
   "language": "python",
   "name": "python3"
  },
  "language_info": {
   "codemirror_mode": {
    "name": "ipython",
    "version": 3
   },
   "file_extension": ".py",
   "mimetype": "text/x-python",
   "name": "python",
   "nbconvert_exporter": "python",
   "pygments_lexer": "ipython3",
   "version": "3.10.9"
  }
 },
 "nbformat": 4,
 "nbformat_minor": 5
}
