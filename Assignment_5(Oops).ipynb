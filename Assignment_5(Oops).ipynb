{
 "cells": [
  {
   "cell_type": "code",
   "execution_count": null,
   "id": "cfca502a",
   "metadata": {},
   "outputs": [],
   "source": [
    "Q1, Create a vehicle class with an init method having instance variables as name_of_vehicle, max_speed \n",
    "and average_of_vehicle."
   ]
  },
  {
   "cell_type": "code",
   "execution_count": 71,
   "id": "4a50aae2",
   "metadata": {},
   "outputs": [],
   "source": [
    "#Ans1.\n",
    "class vehicle:\n",
    "    def __init__(self, name_of_vehicle,max_speed,average_of_vehicle):\n",
    "        self.name_of_vehicle=name_of_vehicle\n",
    "        self.max_speed=max_speed\n",
    "        self.average_of_vehicle=average_of_vehicle\n",
    "    def return_vehicle(self):\n",
    "        return self.name_of_vehicle, self.max_speed,self.average_of_vehicle"
   ]
  },
  {
   "cell_type": "code",
   "execution_count": 72,
   "id": "7515f09f",
   "metadata": {},
   "outputs": [],
   "source": [
    "temp=vehicle(\"Honda City\",120,30)"
   ]
  },
  {
   "cell_type": "code",
   "execution_count": 73,
   "id": "4386b19d",
   "metadata": {},
   "outputs": [
    {
     "data": {
      "text/plain": [
       "('Honda City', 120, 30)"
      ]
     },
     "execution_count": 73,
     "metadata": {},
     "output_type": "execute_result"
    }
   ],
   "source": [
    "temp.return_vehicle()"
   ]
  },
  {
   "cell_type": "code",
   "execution_count": null,
   "id": "0b0f49d6",
   "metadata": {},
   "outputs": [],
   "source": [
    "Q2.  Create a child class car from the vehicle class created in Que 1, which will inherit the vehicle class. \n",
    "Create a method named seating_capacity which takes capacity as an argument and returns the name of \n",
    "the vehicle and its seating capacity."
   ]
  },
  {
   "cell_type": "code",
   "execution_count": 75,
   "id": "959dc6ee",
   "metadata": {},
   "outputs": [],
   "source": [
    "#Ans2.\n",
    "class car(vehicle):\n",
    "    def __init__(self,seating_capacity,name_of_vehicle):\n",
    "        self.seating_capacity=seating_capacity\n",
    "        self.name_of_vehicle=name_of_vehicle\n",
    "    def return_(self):\n",
    "        return self.name_of_vehicle,self.seating_capacity"
   ]
  },
  {
   "cell_type": "code",
   "execution_count": 76,
   "id": "e90affd0",
   "metadata": {},
   "outputs": [],
   "source": [
    "flag=car(\"Suzuki Ciaz\",5)"
   ]
  },
  {
   "cell_type": "code",
   "execution_count": 77,
   "id": "e573efb6",
   "metadata": {},
   "outputs": [
    {
     "name": "stdout",
     "output_type": "stream",
     "text": [
      "(5, 'Suzuki Ciaz')\n"
     ]
    }
   ],
   "source": [
    "k=flag.return_()\n",
    "print(k)"
   ]
  },
  {
   "cell_type": "code",
   "execution_count": null,
   "id": "1b94d7b9",
   "metadata": {},
   "outputs": [],
   "source": [
    "Q3. What is multiple inheritance? Write a python code to demonstrate multiple inheritance.\n",
    "Ans3. When a class is derived from more than one base class it is called multiple Inheritance. The derived class inherits all\n",
    "      the features of the base case."
   ]
  },
  {
   "cell_type": "code",
   "execution_count": 89,
   "id": "71783f79",
   "metadata": {},
   "outputs": [],
   "source": [
    "#Python Code for Multiple Inheritance(Ans3.)\n",
    "class test1:\n",
    "    def class_test1(self):\n",
    "        return \"This is the first class\"\n",
    "class test2(test1):\n",
    "    def class_test2(self):\n",
    "        return \"This is the second class\"\n",
    "class test3(test1):\n",
    "    def class_test3(self):\n",
    "        return \"This is the third class\"\n",
    "class test4(test2,test3):\n",
    "    pass"
   ]
  },
  {
   "cell_type": "code",
   "execution_count": 80,
   "id": "773ddff0",
   "metadata": {},
   "outputs": [],
   "source": [
    "temp=test4()"
   ]
  },
  {
   "cell_type": "code",
   "execution_count": 90,
   "id": "94ed9338",
   "metadata": {},
   "outputs": [
    {
     "data": {
      "text/plain": [
       "'This is the first class'"
      ]
     },
     "execution_count": 90,
     "metadata": {},
     "output_type": "execute_result"
    }
   ],
   "source": [
    "temp.class_test1()"
   ]
  },
  {
   "cell_type": "code",
   "execution_count": null,
   "id": "e298f284",
   "metadata": {},
   "outputs": [],
   "source": [
    "Q4. What are getter and setter in python? Create a class and create a getter and a setter method in this \n",
    "class."
   ]
  },
  {
   "cell_type": "code",
   "execution_count": null,
   "id": "b5e25cfd",
   "metadata": {},
   "outputs": [],
   "source": [
    "#Ans4. \n",
    "Getter are the methods that are used in Oops to access private attributes of the classes.\n",
    "Setters are the methods which help change or set the value of private attributes."
   ]
  },
  {
   "cell_type": "code",
   "execution_count": 3,
   "id": "36414a6a",
   "metadata": {},
   "outputs": [],
   "source": [
    "#Example\n",
    "class skills:\n",
    "    def __init__(self):\n",
    "        self.__age=0\n",
    "    @property\n",
    "    def age(self):\n",
    "        print(\"getter method called\")\n",
    "        return self.__age\n",
    "    @age.setter\n",
    "    def age(self,a):\n",
    "        if(a<18):\n",
    "            print(\"Not eligible\")\n",
    "        print(\"Setter method Called\")\n",
    "        self._age=a\n"
   ]
  },
  {
   "cell_type": "code",
   "execution_count": 4,
   "id": "62f12397",
   "metadata": {},
   "outputs": [],
   "source": [
    "temp=skills()"
   ]
  },
  {
   "cell_type": "code",
   "execution_count": 5,
   "id": "04b29ae6",
   "metadata": {},
   "outputs": [
    {
     "name": "stdout",
     "output_type": "stream",
     "text": [
      "Setter method Called\n"
     ]
    }
   ],
   "source": [
    "temp.age=19"
   ]
  },
  {
   "cell_type": "code",
   "execution_count": 7,
   "id": "97da6312",
   "metadata": {},
   "outputs": [
    {
     "name": "stdout",
     "output_type": "stream",
     "text": [
      "Not eligible\n",
      "Setter method Called\n"
     ]
    }
   ],
   "source": [
    "temp.age=17"
   ]
  },
  {
   "cell_type": "code",
   "execution_count": null,
   "id": "213f8bb7",
   "metadata": {},
   "outputs": [],
   "source": [
    "Q5.What is method overriding in python? Write a python code to demonstrate method overriding."
   ]
  },
  {
   "cell_type": "code",
   "execution_count": null,
   "id": "f8fbebde",
   "metadata": {},
   "outputs": [],
   "source": [
    "#Ans5.\n",
    "Object Oriented Programming language allows the child class to provide a specific implementation of a method that is already \n",
    "provided by one of its parent class."
   ]
  },
  {
   "cell_type": "code",
   "execution_count": 8,
   "id": "5922cd82",
   "metadata": {},
   "outputs": [],
   "source": [
    "#Code for Overriding\n",
    "class parent:\n",
    "    def __init__(self):\n",
    "        self.value=\"Inside the Parent Class\"\n",
    "    def show(self):\n",
    "        print(self.value)\n",
    "class child(parent):\n",
    "    def __init__(self):\n",
    "        self.value=\"Inside the Child Class\"\n",
    "    def show(self):\n",
    "        print(self.value)\n",
    "    "
   ]
  },
  {
   "cell_type": "code",
   "execution_count": 13,
   "id": "2b67f287",
   "metadata": {},
   "outputs": [],
   "source": [
    "obj1=parent()\n",
    "obj2=child()"
   ]
  },
  {
   "cell_type": "code",
   "execution_count": 17,
   "id": "a5dddb8d",
   "metadata": {},
   "outputs": [
    {
     "name": "stdout",
     "output_type": "stream",
     "text": [
      "Inside the Parent Class\n",
      "Inside the Child Class\n"
     ]
    }
   ],
   "source": [
    "obj1.show()\n",
    "obj2.show()"
   ]
  },
  {
   "cell_type": "code",
   "execution_count": null,
   "id": "a6827d94",
   "metadata": {},
   "outputs": [],
   "source": []
  }
 ],
 "metadata": {
  "kernelspec": {
   "display_name": "Python 3 (ipykernel)",
   "language": "python",
   "name": "python3"
  },
  "language_info": {
   "codemirror_mode": {
    "name": "ipython",
    "version": 3
   },
   "file_extension": ".py",
   "mimetype": "text/x-python",
   "name": "python",
   "nbconvert_exporter": "python",
   "pygments_lexer": "ipython3",
   "version": "3.10.9"
  }
 },
 "nbformat": 4,
 "nbformat_minor": 5
}
