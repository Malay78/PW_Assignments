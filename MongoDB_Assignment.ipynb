{
 "cells": [
  {
   "cell_type": "markdown",
   "id": "fb9b9c40",
   "metadata": {},
   "source": [
    "# Assignment- MongoDB"
   ]
  },
  {
   "cell_type": "markdown",
   "id": "1a823b5d",
   "metadata": {},
   "source": [
    "Q1. What is MongoDB? Explain non-relational databases in short. In which scenarios it is preferred to use\n",
    "MongoDB over SQL databases?"
   ]
  },
  {
   "cell_type": "code",
   "execution_count": null,
   "id": "ac8b9e82",
   "metadata": {},
   "outputs": [],
   "source": [
    "#Ans 1.\n",
    "\n",
    "MongoDB is a NoSQL, document-oriented database that uses a flexible, JSON-like format to store data. It’s designed for ease\n",
    "of development and scaling, making it perfect for handling large volumes of unstructured data.\n",
    "\n",
    "Non-relational databases, or NoSQL databases, offer a flexible and scalable approach to data management, compared\n",
    "to traditional relational (SQL) databases.\n",
    "\n",
    "Key Characteristics:\n",
    "\n",
    "Schema-less: They don't require a fixed schema, allowing for dynamic changes.\n",
    "\n",
    "Horizontal Scalability: They can distribute data across multiple servers, handling large data volumes efficiently.\n",
    "Variety of Data Models: They support document, key-value, wide-column, and graph data models, each suited for different\n",
    "                        types of applications.\n",
    "\n",
    "                                Scenarios where MongoDB is preferred over SQL databases:\n",
    "\n",
    "Handling Large Volumes of Unstructured Data: When dealing with unstructured or semi-structured data like logs, social\n",
    "                                             media feeds, or JSON objects.\n",
    "Scalability: If you need to scale your application horizontally and handle a large amount of concurrent users or \n",
    "             transactions.\n",
    "Rapid Development: When you want flexibility in schema design and fast iteration during development without dealing\n",
    "                    with rigid schema migrations.\n",
    "Complex Data Structures: When your application works with complex data structures that don't fit well into tabular formats.\n",
    "Geographically Distributed Data: If your application requires data to be distributed across multiple locations for\n",
    "                                    redundancy and performance."
   ]
  },
  {
   "cell_type": "markdown",
   "id": "a2ded1bc",
   "metadata": {},
   "source": [
    "Q2 State and Explain features of MongoDB."
   ]
  },
  {
   "cell_type": "code",
   "execution_count": null,
   "id": "4de0b9ed",
   "metadata": {},
   "outputs": [],
   "source": [
    "#Ans2.\n",
    "\n",
    "Document-Oriented Storage:\n",
    "MongoDB stores data in JSON-like documents. This makes the data structure more intuitive and flexible compared to\n",
    "traditional rows and columns.\n",
    "\n",
    "Schema-Less:\n",
    "You can store documents with varying structures in the same collection. This flexibility allows for rapid development\n",
    "and iteration.\n",
    "\n",
    "Scalability:\n",
    "MongoDB supports horizontal scaling through sharding, which distributes data across multiple servers, ensuring high\n",
    "performance and availability as data grows.\n",
    "\n",
    "Indexing:\n",
    "Indexes can be created to improve the performance of queries. This includes primary, secondary, geospatial, and text indexes.\n",
    "\n",
    "Replication:\n",
    "MongoDB offers high availability through replica sets. A replica set consists of two or more copies of the data, which\n",
    "ensures data redundancy and failover capability.\n",
    "\n",
    "Aggregation Framework:\n",
    "MongoDB provides powerful aggregation operations like filtering, grouping, and transformation of data. This is useful\n",
    "for generating analytics and reports.\n",
    "\n",
    "Ad Hoc Queries:\n",
    "You can perform a wide range of queries on the data, including search by field, range queries, and regular expression\n",
    "searches.\n",
    "\n",
    "Load Balancing:\n",
    "Built-in load balancing distributes workload across multiple servers, preventing any single server from becoming a bottleneck.\n",
    "\n",
    "File Storage:\n",
    "MongoDB has GridFS for storing and retrieving large files, such as images or videos, efficiently.\n",
    "\n",
    "High Performance:\n",
    "MongoDB is designed to handle large volumes of data and high-throughput operations efficiently, making it suitable for big\n",
    "data applications."
   ]
  },
  {
   "cell_type": "markdown",
   "id": "53178d15",
   "metadata": {},
   "source": [
    "Q3. Write a code to connect MongoDB to Python. Also, create a database and a collection in MongoDB."
   ]
  },
  {
   "cell_type": "code",
   "execution_count": 6,
   "id": "5418a8dd",
   "metadata": {},
   "outputs": [],
   "source": [
    "#Ans 3.\n",
    "!pip install pymongo\n",
    "from pymongo import MongoClient\n",
    "\n",
    "# Connect to MongoDB\n",
    "client = MongoClient(\"mongodb://localhost:27017/\")\n",
    "\n",
    "# Create a database\n",
    "mydb = client[\"mydatabase\"]\n",
    "\n",
    "# Create a collection\n",
    "mycollection = mydb[\"mycollection\"]\n",
    "\n",
    "# Insert a sample document\n",
    "sample_data = {\"name\": \"John Doe\", \"email\": \"john.doe@example.com\"}\n",
    "mycollection.insert_one(sample_data)\n",
    "\n",
    "print(\"Database and collection created successfully!\")\n"
   ]
  },
  {
   "cell_type": "markdown",
   "id": "2f5a8fb6",
   "metadata": {},
   "source": [
    "Q4. Using the database and the collection created in question number 3, write a code to insert one record,\n",
    "and insert many records. Use the find() and find_one() methods to print the inserted record."
   ]
  },
  {
   "cell_type": "code",
   "execution_count": null,
   "id": "0f87671d",
   "metadata": {},
   "outputs": [],
   "source": [
    "from pymongo import MongoClient\n",
    "\n",
    "# Connect to MongoDB\n",
    "client = MongoClient(\"mongodb://localhost:27017/\")\n",
    "\n",
    "# Create a database\n",
    "mydb = client[\"mydatabase\"]\n",
    "\n",
    "# Create a collection\n",
    "mycollection = mydb[\"mycollection\"]\n",
    "\n",
    "# Insert one record\n",
    "one_record = {\"name\": \"Alice\", \"email\": \"alice@example.com\"}\n",
    "inserted_id = mycollection.insert_one(one_record).inserted_id\n",
    "print(f\"Inserted one record with ID: {inserted_id}\")\n",
    "\n",
    "# Insert many records\n",
    "many_records = [\n",
    "    {\"name\": \"Bob\", \"email\": \"bob@example.com\"},\n",
    "    {\"name\": \"Charlie\", \"email\": \"charlie@example.com\"},\n",
    "    {\"name\": \"David\", \"email\": \"david@example.com\"}\n",
    "]\n",
    "inserted_ids = mycollection.insert_many(many_records).inserted_ids\n",
    "print(f\"Inserted many records with IDs: {inserted_ids}\")\n",
    "\n",
    "# Use find_one() to print the inserted record\n",
    "record = mycollection.find_one({\"name\": \"Alice\"})\n",
    "print(\"Record found using find_one():\", record)\n",
    "\n",
    "# Use find() to print all records\n",
    "all_records = mycollection.find()\n",
    "print(\"All records:\")\n",
    "for rec in all_records:\n",
    "    print(rec)\n"
   ]
  },
  {
   "cell_type": "markdown",
   "id": "7e758f63",
   "metadata": {},
   "source": [
    "Q5. Explain how you can use the find() method to query the MongoDB database. Write a simple code to\n",
    "demonstrate this."
   ]
  },
  {
   "cell_type": "code",
   "execution_count": null,
   "id": "2b6828f9",
   "metadata": {},
   "outputs": [],
   "source": [
    "#Ans5\n",
    "The find() method in MongoDB is used to query the database and retrieve documents that match certain criteria. It's\n",
    "quite versatile and allows you to specify filters, projections, and other query options."
   ]
  },
  {
   "cell_type": "code",
   "execution_count": null,
   "id": "48afc655",
   "metadata": {},
   "outputs": [],
   "source": [
    "from pymongo import MongoClient\n",
    "\n",
    "# Connect to MongoDB\n",
    "client = MongoClient(\"mongodb://localhost:27017/\")\n",
    "\n",
    "# Access the database\n",
    "mydb = client[\"mydatabase\"]\n",
    "\n",
    "# Access the collection\n",
    "mycollection = mydb[\"mycollection\"]\n",
    "\n",
    "sample_data = [\n",
    "    {\"name\": \"Alice\", \"email\": \"alice@example.com\"},\n",
    "    {\"name\": \"Bob\", \"email\": \"bob@example.com\"},\n",
    "    {\"name\": \"Charlie\", \"email\": \"charlie@example.com\"},\n",
    "    {\"name\": \"David\", \"email\": \"david@example.com\"}\n",
    "]\n",
    "mycollection.insert_many(sample_data)\n",
    "\n",
    "# Find all documents\n",
    "all_docs = mycollection.find()\n",
    "print(\"All documents:\")\n",
    "for doc in all_docs:\n",
    "    print(doc)\n",
    "\n",
    "# Find specific documents\n",
    "specific_docs = mycollection.find({\"name\": \"Alice\"})\n",
    "print(\"\\nDocuments with name 'Alice':\")\n",
    "for doc in specific_docs:\n",
    "    print(doc)\n",
    "\n",
    "# Find documents with a projection to include only the 'name' field\n",
    "projected_docs = mycollection.find({}, {\"name\": 1, \"_id\": 0})\n",
    "print(\"\\nDocuments with only 'name' field:\")\n",
    "for doc in projected_docs:\n",
    "    print(doc)\n"
   ]
  },
  {
   "cell_type": "markdown",
   "id": "05fc1bbe",
   "metadata": {},
   "source": [
    "Q6. Explain the sort() method. Give an example to demonstrate sorting in MongoDB."
   ]
  },
  {
   "cell_type": "code",
   "execution_count": 9,
   "id": "6340fd12",
   "metadata": {},
   "outputs": [],
   "source": [
    "#Ans6.\n",
    "from pymongo import MongoClient\n",
    "\n",
    "# Connect to MongoDB\n",
    "client = MongoClient(\"mongodb://localhost:27017/\")\n",
    "mydb = client[\"mydatabase\"]\n",
    "mycollection = mydb[\"mycollection\"]\n",
    "\n",
    "# Sort by age in ascending order\n",
    "sorted_docs = mycollection.find().sort(\"age\", 1)\n",
    "print(\"Documents sorted by age (ascending):\")\n",
    "for doc in sorted_docs:\n",
    "    print(doc)\n"
   ]
  },
  {
   "cell_type": "markdown",
   "id": "5696a0d0",
   "metadata": {},
   "source": [
    "Documents sorted by age (ascending): \n",
    "\n",
    "{'_id': 3, 'name': 'Charlie', 'age': 20}\n",
    "\n",
    "{'_id': 1, 'name': 'Alice', 'age': 25}\n",
    "\n",
    "{'_id': 2, 'name': 'Bob', 'age': 30} \n",
    "\n",
    "{'_id': 4, 'name': 'David', 'age'}"
   ]
  },
  {
   "cell_type": "markdown",
   "id": "181bedfc",
   "metadata": {},
   "source": [
    "Q7. Explain why delete_one(), delete_many(), and drop() is used."
   ]
  },
  {
   "cell_type": "code",
   "execution_count": null,
   "id": "5aa9397e",
   "metadata": {},
   "outputs": [],
   "source": [
    "delete_one():\n",
    "\n",
    "Purpose: Removes a single document that matches the given filter criteria.\n",
    "Use Case: When you want to delete just one specific document. Even if multiple documents match the criteria, only the\n",
    "    first one encountered will be deleted.\n",
    "\n",
    "delete_many():\n",
    "\n",
    "Purpose: Removes all documents that match the given filter criteria.\n",
    "Use Case: When you need to delete multiple documents at once based on a specific condition.\n",
    "\n",
    "drop():\n",
    "\n",
    "Purpose: Removes the entire collection from the database.\n",
    "Use Case: When you need to completely delete a collection along with all its documents. This is useful for cleanup or\n",
    "    when the collection is no longer needed."
   ]
  },
  {
   "cell_type": "code",
   "execution_count": null,
   "id": "8316026c",
   "metadata": {},
   "outputs": [],
   "source": []
  }
 ],
 "metadata": {
  "kernelspec": {
   "display_name": "Python 3 (ipykernel)",
   "language": "python",
   "name": "python3"
  },
  "language_info": {
   "codemirror_mode": {
    "name": "ipython",
    "version": 3
   },
   "file_extension": ".py",
   "mimetype": "text/x-python",
   "name": "python",
   "nbconvert_exporter": "python",
   "pygments_lexer": "ipython3",
   "version": "3.10.9"
  }
 },
 "nbformat": 4,
 "nbformat_minor": 5
}
