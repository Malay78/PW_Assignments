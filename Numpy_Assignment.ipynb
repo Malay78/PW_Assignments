{
 "cells": [
  {
   "cell_type": "code",
   "execution_count": null,
   "id": "c09354bf",
   "metadata": {},
   "outputs": [],
   "source": [
    "list_ = [ ‘1’ , ’2’ , ‘3’ , ‘4’ , ‘5’ ]\n",
    "\n",
    "array_list = np.array(object = list_)\n",
    "Q1. Is there any difference in the data type of variables list_ and array_list? If there is then write a code \n",
    "to print the data types of both the variables"
   ]
  },
  {
   "cell_type": "code",
   "execution_count": 19,
   "id": "b0519d8e",
   "metadata": {},
   "outputs": [
    {
     "name": "stdout",
     "output_type": "stream",
     "text": [
      "<class 'list'>\n",
      "<class 'numpy.ndarray'>\n"
     ]
    }
   ],
   "source": [
    "#Ans1\n",
    "Yes, there is difference between variable list and array list.\n",
    "\n",
    "import numpy as np\n",
    "\n",
    "list_ = ['1', '2', '3', '4', '5']\n",
    "print(type(list_))\n",
    "list_1 = np.array([['1'], ['2'], ['3'], ['4'], ['5']])\n",
    "print(type(list_1))"
   ]
  },
  {
   "cell_type": "code",
   "execution_count": null,
   "id": "40021e60",
   "metadata": {},
   "outputs": [],
   "source": [
    "Q2. Write a code to print the data type of each and every element of both the variables list_ and arra_list."
   ]
  },
  {
   "cell_type": "code",
   "execution_count": 12,
   "id": "dcde127f",
   "metadata": {},
   "outputs": [
    {
     "name": "stdout",
     "output_type": "stream",
     "text": [
      "Data Types in Variable List\n",
      "<class 'str'>\n",
      "<class 'int'>\n",
      "<class 'float'>\n",
      "<class 'str'>\n",
      "Data Types in Array List\n",
      "<class 'list'>\n",
      "<class 'list'>\n",
      "<class 'list'>\n"
     ]
    }
   ],
   "source": [
    "#Ans2\n",
    "print(\"Data Types in Variable List\")\n",
    "list = [\"Alpha\", 34, 32.43, \"Physics Wallah\"]\n",
    "for i in list:\n",
    "    print(type(i))\n",
    "\n",
    "array_list = ([[23], [24.23], [\"Sure\"]])\n",
    "print(\"Data Types in Array List\")\n",
    "for i in array_list:\n",
    "    print(type(i))"
   ]
  },
  {
   "cell_type": "code",
   "execution_count": null,
   "id": "308e5eec",
   "metadata": {},
   "outputs": [],
   "source": [
    "Q3. Considering the following changes in the variable, array_list:\n",
    "\n",
    "array_list = np.array(object = list_, dtype = int)\n",
    "\n",
    "Will there be any difference in the data type of the elements present in both the variables, list_ and \n",
    "arra_list? If so then print the data types of each and every element present in both the variables, list_ \n",
    "and arra_list.\n",
    "\n",
    "Consider the below code to answer further questions:\n",
    "\n",
    "import numpy as np\n",
    "\n",
    "num_list = [ [ 1 , 2 , 3 ] , [ 4 , 5 , 6 ] ]\n",
    "\n",
    "num_array = np.array(object = num_list)"
   ]
  },
  {
   "cell_type": "code",
   "execution_count": 30,
   "id": "43503de8",
   "metadata": {},
   "outputs": [
    {
     "name": "stdout",
     "output_type": "stream",
     "text": [
      "Data Type in Array List:  <class 'numpy.ndarray'>\n",
      "Data Type in Variable List:  <class 'list'>\n",
      "int32\n",
      "<class 'list'>\n",
      "<class 'list'>\n",
      "int32\n",
      "int32\n"
     ]
    }
   ],
   "source": [
    "#Ans3\n",
    "import numpy as np\n",
    "array_list = np.array(object = list_, dtype = int)\n",
    "print(\"Data Type in Array List: \", type(array_list))\n",
    "print(\"Data Type in Variable List: \",type(list_))\n",
    "\n",
    "num_list = [ [ 1 , 2 , 3 ] , [ 4 , 5 , 6 ] ]\n",
    "\n",
    "num_array = np.array(object = num_list)\n",
    "print(num_array.dtype)\n",
    "\n",
    "for i in num_list:\n",
    "    print(type(i))\n",
    "for j in num_array:\n",
    "    print(j.dtype)"
   ]
  },
  {
   "cell_type": "code",
   "execution_count": null,
   "id": "89d84d7d",
   "metadata": {},
   "outputs": [],
   "source": [
    "Q4. Write a code to find the following characteristics of variable, num_array:\n",
    "\n",
    "(i)\t shape\n",
    "\n",
    "(ii) size"
   ]
  },
  {
   "cell_type": "code",
   "execution_count": 34,
   "id": "ea05bbfa",
   "metadata": {},
   "outputs": [
    {
     "name": "stdout",
     "output_type": "stream",
     "text": [
      "(2, 3)\n",
      "6\n"
     ]
    }
   ],
   "source": [
    "#Ans4\n",
    "#i) Shape\n",
    "print(num_array.shape)\n",
    "\n",
    "#ii) Size\n",
    "print(num_array.size)"
   ]
  },
  {
   "cell_type": "code",
   "execution_count": null,
   "id": "42f3cab6",
   "metadata": {},
   "outputs": [],
   "source": [
    "Q5. Write a code to create numpy array of 3*3 matrix containing zeros only, using a numpy array \n",
    "creation function.\n",
    "\n",
    "[Hint: The size of the array will be 9 and the shape will be (3,3).]"
   ]
  },
  {
   "cell_type": "code",
   "execution_count": 46,
   "id": "7c15d486",
   "metadata": {},
   "outputs": [
    {
     "name": "stdout",
     "output_type": "stream",
     "text": [
      "[[0. 0. 0.]\n",
      " [0. 0. 0.]\n",
      " [0. 0. 0.]]\n",
      "Size of Array =  9\n"
     ]
    }
   ],
   "source": [
    "#Ans5\n",
    "arr = np.zeros((3,3))\n",
    "print(arr)\n",
    "print(\"Size of Array = \",arr.size)\n"
   ]
  },
  {
   "cell_type": "code",
   "execution_count": null,
   "id": "999db540",
   "metadata": {},
   "outputs": [],
   "source": [
    "Q6. Create an identity matrix of shape (5,5) using numpy functions?\n",
    "\n",
    "[Hint: An identity matrix is a matrix containing 1 diagonally and other elements will be 0.]"
   ]
  },
  {
   "cell_type": "code",
   "execution_count": 50,
   "id": "ab900ab7",
   "metadata": {},
   "outputs": [
    {
     "data": {
      "text/plain": [
       "array([[1., 0., 0., 0., 0.],\n",
       "       [0., 1., 0., 0., 0.],\n",
       "       [0., 0., 1., 0., 0.],\n",
       "       [0., 0., 0., 1., 0.],\n",
       "       [0., 0., 0., 0., 1.]])"
      ]
     },
     "execution_count": 50,
     "metadata": {},
     "output_type": "execute_result"
    }
   ],
   "source": [
    "#Ans6\n",
    "arr1 = np.eye(5)\n",
    "arr1"
   ]
  },
  {
   "cell_type": "code",
   "execution_count": null,
   "id": "b2cefebf",
   "metadata": {},
   "outputs": [],
   "source": []
  }
 ],
 "metadata": {
  "kernelspec": {
   "display_name": "Python 3 (ipykernel)",
   "language": "python",
   "name": "python3"
  },
  "language_info": {
   "codemirror_mode": {
    "name": "ipython",
    "version": 3
   },
   "file_extension": ".py",
   "mimetype": "text/x-python",
   "name": "python",
   "nbconvert_exporter": "python",
   "pygments_lexer": "ipython3",
   "version": "3.10.9"
  }
 },
 "nbformat": 4,
 "nbformat_minor": 5
}
