{
 "cells": [
  {
   "cell_type": "markdown",
   "id": "bd832b41",
   "metadata": {},
   "source": [
    "Machine Learning-1 Assignment"
   ]
  },
  {
   "cell_type": "markdown",
   "id": "1cd1f61a",
   "metadata": {},
   "source": [
    "Q1- Explain the following with an example:\n",
    "a) Artificial Intelligence\n",
    "b) Machine Learning\n",
    "c) Deep Learning"
   ]
  },
  {
   "cell_type": "code",
   "execution_count": null,
   "id": "520e92b6",
   "metadata": {},
   "outputs": [],
   "source": [
    "#Ans1-\n",
    "a) Artificial Intellegence\n",
    "\n",
    "Artificial Intelligence is basically the mechanism to incorporate human intelligence into machines through a set of\n",
    "rules(algorithm). AI is a combination of two words: “Artificial” meaning something made by humans or non-natural things\n",
    "and “Intelligence” meaning the ability to understand or think accordingly. Another definition could be that “AI is\n",
    "basically the study of training your machine(computers) to mimic a human brain and its thinking capabilities\n",
    "\n",
    "b) Machine Learning\n",
    "\n",
    "Machine Learning is basically the study/process which provides the system(computer) to learn automatically on its own\n",
    "through experiences it had and improve accordingly without being explicitly programmed. ML is an application or subset\n",
    "of AI. ML focuses on the development of programs so that it can access data to use it for itself. The entire process makes\n",
    "observations on data to identify the possible patterns being formed and make better future decisions as per the examples\n",
    "provided to them. The major aim of ML is to allow the systems to learn by themselves through experience without any kind\n",
    "of human intervention or assistance.\n",
    "\n",
    "c)Deep Learning\n",
    "\n",
    "Deep Learning is basically a sub-part of the broader family of Machine Learning which makes use of Neural\n",
    "Networks(similar to the neurons working in our brain) to mimic human brain-like behavior. DL algorithms focus\n",
    "on information processing patterns mechanism to possibly identify the patterns just like our human brain does\n",
    "and classifies the information accordingly. DL works on larger sets of data when compared to ML and the prediction\n",
    "mechanism is self-administered by machines.\n",
    "    "
   ]
  },
  {
   "cell_type": "markdown",
   "id": "b7c9f7df",
   "metadata": {},
   "source": [
    "Q2- What is supervised Learning? List some examples of supervised Learning."
   ]
  },
  {
   "cell_type": "code",
   "execution_count": null,
   "id": "575d24ff",
   "metadata": {},
   "outputs": [],
   "source": [
    "Supervised learning is the types of machine learning in which machines are trained using well \"labelled\" training data,\n",
    "and on basis of that data, machines predict the output. The labelled data means some input data isalready tagged with\n",
    "the correct output.\n",
    "In supervised learning, the training data provided to the machines work as the supervisor that teaches the machines to\n",
    "predict the output correctly. It applies the same concept as a student learns in the supervision of the teacher.\n",
    "#Examples-\n",
    "Risk Assessment\n",
    "Image classification\n",
    "Fraud Detection\n",
    "Spam filtering"
   ]
  },
  {
   "cell_type": "code",
   "execution_count": null,
   "id": "d2364ba7",
   "metadata": {},
   "outputs": [],
   "source": [
    "Q3- What is unsupervised Learning? List some examples of unsupervised Learning."
   ]
  },
  {
   "cell_type": "code",
   "execution_count": null,
   "id": "7fed1150",
   "metadata": {},
   "outputs": [],
   "source": [
    "#Ans3-\n",
    "Unsupervised learning is a type of machine learning in which models are trained using unlabeled dataset and are allowed\n",
    "to act on that data without any supervision. Unsupervised learning cannot be directly applied to a regression or\n",
    "classification problem because unlike supervised learning, we have the input data but no corresponding output data.\n",
    "The goal of unsupervised learning is to find the underlying structure of dataset, group that data according to similarities,\n",
    "and represent that dataset in a compressed format.\n",
    "#Examples-\n",
    "Market Basket Analysis\n",
    "Semantic Clustering\n",
    "Delivery Store Optimization\n",
    "Identifying Accident Prone Areas"
   ]
  },
  {
   "cell_type": "markdown",
   "id": "385ac93c",
   "metadata": {},
   "source": [
    "Q4.What is the difference between AI, ML, DL, and DS?"
   ]
  },
  {
   "cell_type": "code",
   "execution_count": null,
   "id": "514c4f26",
   "metadata": {},
   "outputs": [],
   "source": [
    "Data science is the broad scientific study that focuses on making sense of data. Think of, say, recommendation systems\n",
    "used to provide personalized suggestions to customers based on their search history. If, say, one customer searches for\n",
    "a rod and a lure and the other looks for a fishing line in addition to the other products, there’s a decent chance that\n",
    "the first customer will also be interested in purchasing a fishing line.\n",
    "\n",
    "Machine learning aims at training machines on historical data so that they can process new inputs based on learned patterns\n",
    "without explicit programming, meaning without manually written out instructions for a system to do an action. If it were not\n",
    "for machine learning, the recommendation engines we already mentioned above would be out of reach as it is difficult for a\n",
    "human to process millions of search queries, likes, and reviews to discover which customers commonly buy rods with lures\n",
    "and which purchase fishing line on top of that.\n",
    "\n",
    "Deep learning is the most hyped branch of machine learning that uses complex algorithms of deep neural networks that are\n",
    "inspired by the way the human brain works. DL models can draw accurate results from large volumes of input data without\n",
    "being told which data characteristics to look at. Imagine you need to determine which fishing rods generate positive online\n",
    "reviews on your website and which cause the negative ones. In this case, deep neural nets can extract meaningful\n",
    "characteristics from reviews and perform sentiment analysis.\n",
    "\n",
    "Artificial intelligence is a complex topic. But for the sake of simplicity, let’s say that any real-life data product can\n",
    "be called AI. Let us stay with our fishing-inspired example. You want to buy a certain model fishing rod but you only have\n",
    "a picture of it and do not know the brand name. An AI system is a software product that can examine your image and provide\n",
    "suggestions as to a product name and shops where you can buy it. To build an AI product you need to use data mining, machine\n",
    "learning, and sometimes deep learning."
   ]
  },
  {
   "attachments": {
    "download.png": {
     "image/png": "[encoded data removed]"
    }
   },
   "cell_type": "markdown",
   "id": "69c66c87",
   "metadata": {},
   "source": [
    "![download.png](attachment:download.png)"
   ]
  },
  {
   "cell_type": "markdown",
   "id": "62252a60",
   "metadata": {},
   "source": [
    "Q5- What are the main difference between supervised, unsupervised, and semi-supervised learning?"
   ]
  },
  {
   "cell_type": "code",
   "execution_count": null,
   "id": "45b8d990",
   "metadata": {},
   "outputs": [],
   "source": [
    "#Ans5-\n",
    "Supervised Learning-\n",
    "Supervised learning is the types of machine learning in which machines are trained using well \"labelled\" training data,\n",
    "and on basis of that data, machines predict the output. The labelled data means some input data isalready tagged with\n",
    "the correct output. In supervised learning, the training data provided to the machines work as the supervisor that teaches the machines to\n",
    "predict the output correctly. It applies the same concept as a student learns in the supervision of the teacher.\n",
    "\n",
    "Unsupervised Learning-\n",
    "Unsupervised learning is a type of machine learning in which models are trained using unlabeled dataset and are allowed\n",
    "to act on that data without any supervision. Unsupervised learning cannot be directly applied to a regression or\n",
    "classification problem because unlike supervised learning, we have the input data but no corresponding output data.\n",
    "The goal of unsupervised learning is to find the underlying structure of dataset, group that data according to similarities,\n",
    "and represent that dataset in a compressed format.\n",
    "\n",
    "Semi-Supervised Learning-\n",
    "Semi-supervised learning is, for the most part, just what it sounds like: a training dataset with both labeled and unlabeled\n",
    "data. This method is particularly useful when extracting relevant features from the data is difficult, and labeling\n",
    "examples is a time-intensive task for experts."
   ]
  },
  {
   "cell_type": "markdown",
   "id": "bf4425a5",
   "metadata": {},
   "source": [
    "Q6- What is train, test and validation split? Explain the importance of each term."
   ]
  },
  {
   "cell_type": "code",
   "execution_count": 2,
   "id": "69ad946e",
   "metadata": {},
   "outputs": [],
   "source": [
    "#Ans6.\n",
    "Train Dataset-\n",
    "The training set is the portion of the dataset reserved to fit the model. In other words, the model sees and learns from\n",
    "the data in the training set to directly improve its parameters. To maximize model performance, the training set must be\n",
    "(i) large enough to yield meaningful results (but not too large that the model overfits) and \n",
    "(ii) representative of the dataset as a whole. This will allow the trained model to predict any unseen data that may\n",
    "     appear in the future.\n",
    "    \n",
    "Test Dataset-\n",
    "The test set is the set of data used to evaluate the final performance of a trained model. It serves as an unbiased measure\n",
    "of how well the model generalizes to unseen data, assessing its generalization capabilities in real-world scenarios. By\n",
    "keeping the test set separate throughout the development process, we obtain a reliable benchmark of the model’s performance. \n",
    "\n",
    "Validation Set-\n",
    "The validation set is the set of data used to evaluate and fine-tune a machine learning model during training, helping\n",
    "to assess the model’s performance and make adjustments. By evaluating a trained model on the validation set, we gain\n",
    "insights into its ability to generalize to unseen data. This assessment helps identify potential issues such as overfitting,\n",
    "which can have a significant impact on the model’s performance in real-world scenarios."
   ]
  },
  {
   "cell_type": "markdown",
   "id": "bfded313",
   "metadata": {},
   "source": [
    "Q7- How can unsupervised learning be used in anomaly detection?"
   ]
  },
  {
   "cell_type": "code",
   "execution_count": null,
   "id": "7c80606f",
   "metadata": {},
   "outputs": [],
   "source": [
    "Unsupervised anomaly detection works by identifying data points that deviate significantly from the majority of the data.\n",
    "The process includes:\n",
    "i) Dimensionality reduction: Using Principal Component Analysis (PCA)\n",
    "ii) Data segmentation: Using K-means clustering\n",
    "iii) Neural network structure: Using input, hidden, and output layers\n",
    "iv) Model evaluation: Using a separate dataset to validate the model's ability to detect anomalies"
   ]
  },
  {
   "cell_type": "markdown",
   "id": "5e6d7564",
   "metadata": {},
   "source": [
    "Q8- List down some commonly used supervised learning algorithms and unsupervised learning algorithms."
   ]
  },
  {
   "cell_type": "code",
   "execution_count": null,
   "id": "9f379cf2",
   "metadata": {},
   "outputs": [],
   "source": [
    "Supervised Learning Algorithm-\n",
    "i) Linear regression for regression problems.\n",
    "ii) Random forest for classification and regression problems.\n",
    "iii) Support vector machines for classification problems.\n",
    "\n",
    "Unsupervised Learning Algorithm-\n",
    "i) K-means for clustering problems.\n",
    "ii) Apriori algorithm for association rule learning problems.\n",
    "iii) LDA for topic modeling of text passages, i.e., discover and associate keywords to text."
   ]
  },
  {
   "cell_type": "code",
   "execution_count": null,
   "id": "38f09b02",
   "metadata": {},
   "outputs": [],
   "source": []
  }
 ],
 "metadata": {
  "kernelspec": {
   "display_name": "Python 3 (ipykernel)",
   "language": "python",
   "name": "python3"
  },
  "language_info": {
   "codemirror_mode": {
    "name": "ipython",
    "version": 3
   },
   "file_extension": ".py",
   "mimetype": "text/x-python",
   "name": "python",
   "nbconvert_exporter": "python",
   "pygments_lexer": "ipython3",
   "version": "3.10.9"
  }
 },
 "nbformat": 4,
 "nbformat_minor": 5
}
