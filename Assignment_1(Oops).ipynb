{
 "cells": [
  {
   "cell_type": "code",
   "execution_count": null,
   "id": "af8402e6",
   "metadata": {},
   "outputs": [],
   "source": [
    "Q1. Explain Class and Object with respect to Object-Oriented Programming. Give a suitable example.\n",
    "#Ans1.\n",
    "#Class\n",
    "A class is an object constructor, or a \"Blueprint\" for creating objects. It is user defined data structures, which holds its \n",
    "own data members and member functions, which can be accessed  and used by creating an instance of that class.\n",
    "#Objects\n",
    "Objects are the instances of a particular class. Every other element in Python will be an object of same class. It includes\n",
    "variable, function, list, tuple, dictionary, set etc."
   ]
  },
  {
   "cell_type": "code",
   "execution_count": 1,
   "id": "466ec00e",
   "metadata": {},
   "outputs": [],
   "source": [
    "#Example\n",
    "\n",
    "class bank:   #Creating_a_class\n",
    "    def __init__(self):\n",
    "        self.employee=15\n",
    "    def return_(self):\n",
    "        return self.employee"
   ]
  },
  {
   "cell_type": "code",
   "execution_count": 5,
   "id": "27705935",
   "metadata": {},
   "outputs": [],
   "source": [
    "pw=bank()    #Creating_an_object"
   ]
  },
  {
   "cell_type": "code",
   "execution_count": 6,
   "id": "738c4605",
   "metadata": {},
   "outputs": [
    {
     "data": {
      "text/plain": [
       "15"
      ]
     },
     "execution_count": 6,
     "metadata": {},
     "output_type": "execute_result"
    }
   ],
   "source": [
    "pw.return_()"
   ]
  },
  {
   "cell_type": "code",
   "execution_count": null,
   "id": "a29eb4fb",
   "metadata": {},
   "outputs": [],
   "source": [
    "Q2. Name the four pillars of OOPs\n",
    "#Ans2. Four Pillars of OOps\n",
    "1. Polymorphism\n",
    "2. Encapsulation\n",
    "3. Inheritance\n",
    "4. Abstraction"
   ]
  },
  {
   "cell_type": "code",
   "execution_count": null,
   "id": "09eedf21",
   "metadata": {},
   "outputs": [],
   "source": [
    "Q3. Explain why the __init__() function is used. Give a suitable example.\n",
    "#Ans3.\n",
    "__init__ is also known as constructor. The __init__ function is called every time an object is created from a class. It is run \n",
    "as soon as an object of a class is instantiated."
   ]
  },
  {
   "cell_type": "code",
   "execution_count": 1,
   "id": "1cc4879c",
   "metadata": {},
   "outputs": [],
   "source": [
    "#Example for __init__() function\n",
    "class student:\n",
    "    def __init__(self, number,email_id, student_id):\n",
    "        self.number=number\n",
    "        self.email_id=email_id\n",
    "        self.student_id=student_id\n",
    "    def return_details(self):\n",
    "        return self.number,self.email_id,self.student_id"
   ]
  },
  {
   "cell_type": "code",
   "execution_count": 5,
   "id": "aa705322",
   "metadata": {},
   "outputs": [],
   "source": [
    "flag=student(9956,\"amit@gmail.com\",49)"
   ]
  },
  {
   "cell_type": "code",
   "execution_count": 9,
   "id": "e1ef9e20",
   "metadata": {},
   "outputs": [
    {
     "data": {
      "text/plain": [
       "9956"
      ]
     },
     "execution_count": 9,
     "metadata": {},
     "output_type": "execute_result"
    }
   ],
   "source": [
    "flag.number"
   ]
  },
  {
   "cell_type": "code",
   "execution_count": null,
   "id": "4805fabb",
   "metadata": {},
   "outputs": [],
   "source": [
    "#In the above example (9956,\"amit@gmail.com\",49) is passed as an argument, this argument is passed to the __init__ method to\n",
    "initialize the object."
   ]
  },
  {
   "cell_type": "code",
   "execution_count": null,
   "id": "198150d0",
   "metadata": {},
   "outputs": [],
   "source": [
    "Q4. Why self is used in OOPs?\n",
    "#Ans4.\n",
    "Self is used to connect/bind the variable created inside the class with the class. Self is a type of pointer or it provides \n",
    "reference to the class.\n"
   ]
  },
  {
   "cell_type": "code",
   "execution_count": null,
   "id": "d20aa4d0",
   "metadata": {},
   "outputs": [],
   "source": [
    "Q5. What is inheritance? Give an example for each type of inheritance.\n",
    "#Ans5.\n",
    "Inheritance provides code reusability to the program because we can use an existing class to create a new class instead of \n",
    "creating it from scratch. A derived class can inherit base class by just mentioning the base in the bracket after the derived\n",
    "class name.\n",
    "Types of Inheritance-\n",
    "1. Single Inheritance\n",
    "2. Multiple Inheritance\n",
    "3. Multilevel Inheritance\n",
    "4. Hierarical Inheritance\n",
    "5. Hybrid Inheritance"
   ]
  },
  {
   "cell_type": "code",
   "execution_count": 24,
   "id": "48268894",
   "metadata": {},
   "outputs": [
    {
     "name": "stdout",
     "output_type": "stream",
     "text": [
      "Livo belongs to  Honda\n"
     ]
    }
   ],
   "source": [
    "#Single Inheritance\n",
    "class Bikes:        #Parent Class\n",
    "    bike_1=\"Livo\"\n",
    "    bike_2=\"Passion Pro\"\n",
    "    bike_3=\"Apache\"\n",
    "class Brands(Bikes): #Child Class\n",
    "    brand_1=\"Honda\"\n",
    "    brand_2=\"Hero\"\n",
    "    brand_3=\"Yamaha\"\n",
    "obj_name=Brands()\n",
    "print(obj_name.bike_1+ \" belongs to  \" + obj_name.brand_1)"
   ]
  },
  {
   "cell_type": "code",
   "execution_count": 30,
   "id": "7f8091f3",
   "metadata": {},
   "outputs": [
    {
     "name": "stdout",
     "output_type": "stream",
     "text": [
      "Price of Passion Pro is 95000\n"
     ]
    }
   ],
   "source": [
    "#Multiple Inheritance\n",
    "class Bikes1:        #Parent Class\n",
    "    bike_1=\"Livo\"\n",
    "    bike_2=\"Passion Pro\"\n",
    "    bike_3=\"Apache\"\n",
    "class Brands1(Bikes1): #Child Class\n",
    "    brand_1=\"Honda\"\n",
    "    brand_2=\"Hero\"\n",
    "    brand_3=\"Yamaha\"\n",
    "class Price(Brands1,Bikes1):\n",
    "    bike_1_price= \"92000\"\n",
    "    bike_2_price= \"95000\"\n",
    "    bike_3_price= \"120000\"\n",
    "obj=Price()\n",
    "print(\"Price of \" + obj.bike_2+\" is \"+ obj.bike_2_price)"
   ]
  },
  {
   "cell_type": "code",
   "execution_count": 48,
   "id": "6e943a82",
   "metadata": {},
   "outputs": [
    {
     "name": "stdout",
     "output_type": "stream",
     "text": [
      "Price of Apache is  120000\n"
     ]
    }
   ],
   "source": [
    "#Multilevel Inheritance\n",
    "class Bikes1:        #Parent Class\n",
    "    bike_1=\"Livo\"\n",
    "    bike_2=\"Passion Pro\"\n",
    "    bike_3=\"Apache\"\n",
    "class Brands1(Bikes1): #Child Class\n",
    "    brand_1=\"Honda\"\n",
    "    brand_2=\"Hero\"\n",
    "    brand_3=\"Yamaha\"\n",
    "class Price(Brands1):  #Grand Child Class\n",
    "    bike_1_price= 92000\n",
    "    bike_2_price= 95000\n",
    "    bike_3_price= 120000\n",
    "obj=Price()\n",
    "print(\"Price of \" + obj.bike_3+\" is \", obj.bike_3_price)"
   ]
  },
  {
   "cell_type": "code",
   "execution_count": 58,
   "id": "9acbcec5",
   "metadata": {},
   "outputs": [
    {
     "name": "stdout",
     "output_type": "stream",
     "text": [
      "Mileage of Livo is  60\n"
     ]
    }
   ],
   "source": [
    "#Hierarchical Inheritance\n",
    "class Bikes2:        #Parent Class\n",
    "    bike_1=\"Livo\"\n",
    "    bike_2=\"Passion Pro\"\n",
    "    bike_3=\"Apache\"\n",
    "class Brands2(Bikes2): #Child Class\n",
    "    brand_1=\"Honda\"\n",
    "    brand_2=\"Hero\"\n",
    "    brand_3=\"Yamaha\"\n",
    "class Price(Bikes2):  #Grand Child Class\n",
    "    bike_1_price= \"92000\"\n",
    "    bike_2_price= \"95000\"\n",
    "    bike_3_price= \"120000\"\n",
    "class Mileage(Bikes2):\n",
    "    bike_1_Mileage= 60\n",
    "    bike_2_Mileage= 65\n",
    "    bike_3_Mileage= 62\n",
    "obj=Mileage()\n",
    "print(\"Mileage of \" + obj.bike_1 + \" is \", obj.bike_1_Mileage)"
   ]
  },
  {
   "cell_type": "code",
   "execution_count": 62,
   "id": "6559bb1d",
   "metadata": {},
   "outputs": [
    {
     "name": "stdout",
     "output_type": "stream",
     "text": [
      "Laptop Class inheriting PC Class\n",
      "PC Class\n"
     ]
    }
   ],
   "source": [
    "#Hybrid Class\n",
    "class PC:   #Creating_a_class\n",
    "    def func1(self):\n",
    "        print(\"PC Class\")\n",
    "class Laptop(PC):   #Creating_a_class\n",
    "    def func2(self):\n",
    "        print(\"Laptop Class inheriting PC Class\")\n",
    "class Mouse(Laptop):   #Creating_a_class\n",
    "    def func3(self):\n",
    "        print(\"Mouse Class inheriting laptop Class\")\n",
    "class Student(Mouse, Laptop):   #Creating_a_class\n",
    "    def func4(self):\n",
    "        print(\"Student Class inheriting PC and Laptop Class\")\n",
    "temp1=Student()\n",
    "temp2=Mouse()\n",
    "temp1.func2()\n",
    "temp2.func1()"
   ]
  },
  {
   "cell_type": "code",
   "execution_count": null,
   "id": "6ef86951",
   "metadata": {},
   "outputs": [],
   "source": []
  }
 ],
 "metadata": {
  "kernelspec": {
   "display_name": "Python 3 (ipykernel)",
   "language": "python",
   "name": "python3"
  },
  "language_info": {
   "codemirror_mode": {
    "name": "ipython",
    "version": 3
   },
   "file_extension": ".py",
   "mimetype": "text/x-python",
   "name": "python",
   "nbconvert_exporter": "python",
   "pygments_lexer": "ipython3",
   "version": "3.10.9"
  }
 },
 "nbformat": 4,
 "nbformat_minor": 5
}
