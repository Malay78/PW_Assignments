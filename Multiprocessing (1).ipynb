{
 "cells": [
  {
   "cell_type": "code",
   "execution_count": null,
   "id": "cba327b2",
   "metadata": {},
   "outputs": [],
   "source": [
    "Q1. What is multiprocessing in python? Why is it useful?\n",
    "#Ans1\n",
    "Multiprocessor i.e. a computer with more than one central processor. In Python, the multiprocessing module includes a very\n",
    "simple and intutive API for dividing work between multiple processes.\n",
    "It allows you to run multiple processes simultaneously."
   ]
  },
  {
   "cell_type": "code",
   "execution_count": null,
   "id": "0255fd9c",
   "metadata": {},
   "outputs": [],
   "source": [
    "Q2. What are the differences between multiprocessing and multithreading?\n",
    "#Ans2.\n",
    "Multiprocessing-\n",
    "* In Multiprocessing, CPUs are added for increasing computing power.\n",
    "* In Multiprocessing, Many processes are executed simultaneously.\n",
    "* Process creation is a time-consuming process.\n",
    "Multithreading-\n",
    "* Many threads are created of a single process for increasing computing power.\n",
    "* Many threads of a process are executed simultaneously.\n",
    "* Process creation is according to economical."
   ]
  },
  {
   "cell_type": "code",
   "execution_count": null,
   "id": "1897ddc9",
   "metadata": {},
   "outputs": [],
   "source": [
    "Q3. Write a python code to create a process using the multiprocessing module."
   ]
  },
  {
   "cell_type": "code",
   "execution_count": 8,
   "id": "8e44ee8c",
   "metadata": {},
   "outputs": [
    {
     "name": "stdout",
     "output_type": "stream",
     "text": [
      "Cube:1000\n",
      "Square:100\n",
      "Done!\n"
     ]
    }
   ],
   "source": [
    "import multiprocessing\n",
    "\n",
    "def print_cube(num):\n",
    "    print(\"Cube:{}\".format(num*num*num))\n",
    "\n",
    "def print_square(num):\n",
    "    print(\"Square:{}\".format(num*num))\n",
    "\n",
    "if __name__==\"__main__\":\n",
    "    p1=multiprocessing.Process(target=print_square, args=(10,))\n",
    "    p2=multiprocessing.Process(target=print_cube, args=(10,))\n",
    "    p1.start()\n",
    "    p2.start()\n",
    "    p1.join()\n",
    "    p2.join()\n",
    "    print(\"Done!\")"
   ]
  },
  {
   "cell_type": "code",
   "execution_count": null,
   "id": "e53a24d1",
   "metadata": {},
   "outputs": [],
   "source": [
    "Q4. What is a multiprocessing pool in python? Why is it used?\n",
    "#Ans4.\n",
    "The Pool class in multiprocessing can handle an enormous number of processes. It allows you to run multiple jobs per process\n",
    "(due to its ability to queue the jobs). \n",
    "It is used when you need to execute many short to modest length tasks throughout the duration of you application."
   ]
  },
  {
   "cell_type": "code",
   "execution_count": null,
   "id": "e5f9d257",
   "metadata": {},
   "outputs": [],
   "source": [
    "Q5. How can we create a pool of worker processes in python using the multiprocessing module?"
   ]
  },
  {
   "cell_type": "code",
   "execution_count": 1,
   "id": "0f7de415",
   "metadata": {},
   "outputs": [
    {
     "name": "stdout",
     "output_type": "stream",
     "text": [
      "[1, 4, 9, 16, 25, 36, 49, 64, 81]\n"
     ]
    }
   ],
   "source": [
    "#Ans5.\n",
    "import multiprocessing\n",
    "def square(n):\n",
    "    return n**2\n",
    "if __name__=='__main__':\n",
    "    with multiprocessing.Pool(processes=4) as pool:\n",
    "        out=pool.map(square,[1,2,3,4,5,6,7,8,9])\n",
    "        print(out)"
   ]
  },
  {
   "cell_type": "code",
   "execution_count": null,
   "id": "a3d5c6fe",
   "metadata": {},
   "outputs": [],
   "source": [
    "Q6. Write a python program to create 4 processes, each process should print a different number using the \n",
    "multiprocessing module in python."
   ]
  },
  {
   "cell_type": "code",
   "execution_count": 4,
   "id": "f1f6e453",
   "metadata": {},
   "outputs": [
    {
     "name": "stdout",
     "output_type": "stream",
     "text": [
      "10\n",
      "15\n",
      "12\n",
      "90\n"
     ]
    }
   ],
   "source": [
    "#Ans6.\n",
    "import multiprocessing\n",
    "\n",
    "def processes(num):\n",
    "    print(num)\n",
    "    \n",
    "if __name__==\"__main__\":\n",
    "    p1=multiprocessing.Process(target=processes, args=(10,))\n",
    "    p2=multiprocessing.Process(target=processes, args=(15,))\n",
    "    p3=multiprocessing.Process(target=processes, args=(12,))\n",
    "    p4=multiprocessing.Process(target=processes, args=(90,))\n",
    "    p1.start()\n",
    "    p2.start()\n",
    "    p3.start()\n",
    "    p4.start()\n",
    "    p1.join()\n",
    "    p2.join()\n",
    "    p3.join()\n",
    "    p4.join()"
   ]
  },
  {
   "cell_type": "code",
   "execution_count": null,
   "id": "cd597708",
   "metadata": {},
   "outputs": [],
   "source": []
  }
 ],
 "metadata": {
  "kernelspec": {
   "display_name": "Python 3 (ipykernel)",
   "language": "python",
   "name": "python3"
  },
  "language_info": {
   "codemirror_mode": {
    "name": "ipython",
    "version": 3
   },
   "file_extension": ".py",
   "mimetype": "text/x-python",
   "name": "python",
   "nbconvert_exporter": "python",
   "pygments_lexer": "ipython3",
   "version": "3.10.9"
  }
 },
 "nbformat": 4,
 "nbformat_minor": 5
}
