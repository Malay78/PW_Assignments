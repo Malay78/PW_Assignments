{
 "cells": [
  {
   "cell_type": "code",
   "execution_count": null,
   "id": "738d7489",
   "metadata": {},
   "outputs": [],
   "source": [
    "Q1. What is the Probability density function?\n",
    "#Ans1.\n",
    "The probability density function (PDF) is a statistical expression that defines the probability that some outcome will occur. \n",
    "PDF is used by financial analysts to understand how returns are distributed in order to evaluate the risk and expectations of\n",
    "investment prices and returns."
   ]
  },
  {
   "cell_type": "code",
   "execution_count": null,
   "id": "4f196f87",
   "metadata": {},
   "outputs": [],
   "source": [
    "Q2. What are the types of Probability distribution?\n",
    "#Ans2.\n",
    "There are 5 main types of probability density functions depending upon the different distributions such as\n",
    "normal distribution, standard normal distribution, Student - t distribution, chi-square distribution, and\n",
    "continuous uniform distribution."
   ]
  },
  {
   "cell_type": "markdown",
   "id": "0a4e6720",
   "metadata": {},
   "source": [
    "Q3. Write a Python function to calculate the probability density function of a normal distribution with \n",
    "given mean and standard deviation at a given point."
   ]
  },
  {
   "cell_type": "code",
   "execution_count": 2,
   "id": "0d99c389",
   "metadata": {},
   "outputs": [
    {
     "name": "stdout",
     "output_type": "stream",
     "text": [
      "PDF at x = 1.5 : 0.12951759566589174\n"
     ]
    }
   ],
   "source": [
    "import math\n",
    "\n",
    "def pdf(x, mean, std_dev):\n",
    "    coefficient = 1 / math.sqrt(2 * math.pi * std_dev**2)\n",
    "    exponent = -((x - mean)**2) / (2 * std_dev**2)\n",
    "    pdf_value = coefficient * math.exp(exponent)\n",
    "    return pdf_value\n",
    "mean = 0\n",
    "std_dev = 1\n",
    "x = 1.5\n",
    "pdf_at_x = pdf(x, mean, std_dev)\n",
    "print(\"PDF at x =\", x, \":\", pdf_at_x)\n"
   ]
  },
  {
   "cell_type": "markdown",
   "id": "8081b7e2",
   "metadata": {},
   "source": [
    "Q4. What are the properties of Binomial distribution? Give two examples of events where binomial \n",
    "distribution can be applied"
   ]
  },
  {
   "cell_type": "code",
   "execution_count": null,
   "id": "791c4524",
   "metadata": {},
   "outputs": [],
   "source": [
    "Properties of Binomial distribution-\n",
    "1. There are only two distinct possible outcomes: true/false, success/failure, yes/no.\n",
    "2. There is a fixed number of 'n' times repeated trials in a given experiment.\n",
    "3. The probability of success or failure remains constant for each attempt/trial.\n",
    "4. Only the successful attempts are calculated out of 'n' independent trials.\n",
    "5. Every trial is an independent trial on its own, this means that the outcome of one trial has no effect on the\n",
    "    outcome of another trial.\n",
    "\n",
    "#Two examples of events where binomial distribution can be applied\n",
    "\n",
    "a. Finding the quantity of raw and used materials while making a product.\n",
    "b. Taking a survey of positive and negative reviews from the public for any specific product or place."
   ]
  },
  {
   "cell_type": "code",
   "execution_count": null,
   "id": "e1b85c27",
   "metadata": {},
   "outputs": [],
   "source": [
    "Q5. Generate a random sample of size 1000 from a binomial distribution with probability of success 0.4 \n",
    "and plot a histogram of the results using matplotlib."
   ]
  },
  {
   "cell_type": "code",
   "execution_count": 1,
   "id": "ed13c564",
   "metadata": {},
   "outputs": [
    {
     "data": {
      "image/png": "[encoded data removed]",
      "text/plain": [
       "<Figure size 640x480 with 1 Axes>"
      ]
     },
     "metadata": {},
     "output_type": "display_data"
    }
   ],
   "source": [
    "#Answer\n",
    "import numpy as np\n",
    "import matplotlib.pyplot as plt\n",
    "\n",
    "n = 1000  \n",
    "p = 0.4   \n",
    "\n",
    "random_sample = np.random.binomial(n=1, p=p, size=n)\n",
    "\n",
    "plt.hist(random_sample, bins=2, edgecolor='black')\n",
    "plt.title('Histogram of Random Sample from Binomial Distribution')\n",
    "plt.xlabel('Outcome')\n",
    "plt.ylabel('Frequency')\n",
    "plt.xticks([0, 1], ['Failure', 'Success'])\n",
    "plt.grid(axis='y', alpha=0.5)\n",
    "plt.show()\n"
   ]
  },
  {
   "cell_type": "markdown",
   "id": "258956ea",
   "metadata": {},
   "source": [
    "Q6. Write a Python function to calculate the cumulative distribution function of a Poisson distribution \n",
    "with given mean at a given point."
   ]
  },
  {
   "cell_type": "code",
   "execution_count": 2,
   "id": "2555b823",
   "metadata": {},
   "outputs": [
    {
     "name": "stdout",
     "output_type": "stream",
     "text": [
      "CDF of Poisson distribution with mean 3 at point 2 is: 0.42319008112684353\n"
     ]
    }
   ],
   "source": [
    "#Answer6\n",
    "import math\n",
    "\n",
    "def poisson_cdf(mean, k):\n",
    "\n",
    "    if k < 0:\n",
    "        return 0.0\n",
    "    \n",
    "    cdf = 0.0\n",
    "    for i in range(k + 1):\n",
    "        cdf += (math.exp(-mean) * (mean ** i)) / math.factorial(i)\n",
    "    \n",
    "    return cdf\n",
    "mean = 3\n",
    "k = 2\n",
    "print(\"CDF of Poisson distribution with mean\", mean, \"at point\", k, \"is:\", poisson_cdf(mean, k))\n"
   ]
  },
  {
   "cell_type": "markdown",
   "id": "06ea38c9",
   "metadata": {},
   "source": [
    "Q7. How Binomial distribution different from Poisson distribution?"
   ]
  },
  {
   "cell_type": "code",
   "execution_count": null,
   "id": "290087f7",
   "metadata": {},
   "outputs": [],
   "source": [
    "#Answer7\n",
    "Binomial distribution describes the distribution of binary data from a finite sample. Thus it gives the probability\n",
    "of getting r events out of n trials. Poisson distribution describes the distribution of binary data from an infinite\n",
    "sample. Thus it gives the probability of getting r events in a population."
   ]
  },
  {
   "cell_type": "code",
   "execution_count": null,
   "id": "b8c8ea39",
   "metadata": {},
   "outputs": [],
   "source": [
    "Q8. Generate a random sample of size 1000 from a Poisson distribution with mean 5 and calculate the \n",
    "sample mean and variance."
   ]
  },
  {
   "cell_type": "code",
   "execution_count": 3,
   "id": "267c8577",
   "metadata": {},
   "outputs": [
    {
     "name": "stdout",
     "output_type": "stream",
     "text": [
      "Sample mean: 5.097\n",
      "Sample variance: 5.333591\n"
     ]
    }
   ],
   "source": [
    "#Answer8\n",
    "import numpy as np\n",
    "\n",
    "sample_size = 1000\n",
    "mean = 5\n",
    "\n",
    "random_sample = np.random.poisson(mean, size=sample_size)\n",
    "\n",
    "sample_mean = np.mean(random_sample)\n",
    "sample_variance = np.var(random_sample)\n",
    "\n",
    "print(\"Sample mean:\", sample_mean)\n",
    "print(\"Sample variance:\", sample_variance)\n"
   ]
  },
  {
   "cell_type": "code",
   "execution_count": null,
   "id": "429a9880",
   "metadata": {},
   "outputs": [],
   "source": [
    "Q9. How mean and variance are related in Binomial distribution and Poisson distribution?"
   ]
  },
  {
   "cell_type": "code",
   "execution_count": null,
   "id": "680c4edc",
   "metadata": {},
   "outputs": [],
   "source": [
    "#Answer9\n",
    "1. Binomial Distribution:\n",
    "\n",
    "Mean (μ) = n * p\n",
    "Variance (σ^2) = n * p * (1 - p)\n",
    "In the binomial distribution, the variance increases as the probability of success (p) moves away from 0.5 \n",
    "(assuming n is constant). When p = 0.5, the variance is maximized. As p moves away from 0.5 towards 0 or 1, the \n",
    "variance decreases.\n",
    "\n",
    "2. Poisson Distribution:\n",
    "\n",
    "Mean (λ) = Variance (σ^2) = λ\n",
    "In the Poisson distribution, the mean and variance are equal, both represented by the parameter λ (lambda). This is a\n",
    "unique property of the Poisson distribution. It means that in a Poisson distribution, the spread of the data is directly\n",
    "proportional to the mean.\n",
    "\n",
    "'''In the binomial distribution, the variance depends on both the number of trials (n) and the probability of success (p),\n",
    "whereas in the Poisson distribution, the variance is solely determined by the mean (λ), and the mean and variance are equal.'''"
   ]
  },
  {
   "cell_type": "code",
   "execution_count": null,
   "id": "e2287ba2",
   "metadata": {},
   "outputs": [],
   "source": [
    "Q10. In normal distribution with respect to mean position, where does the least frequent data appear?"
   ]
  },
  {
   "cell_type": "code",
   "execution_count": null,
   "id": "94d95718",
   "metadata": {},
   "outputs": [],
   "source": [
    "#Answer10.\n",
    "\n",
    "In a normal distribution, also known as a Gaussian distribution, the least frequent data points occur at the tails of\n",
    "the distribution, farthest away from the mean.\n",
    "\n",
    "The normal distribution is symmetric around its mean, with the highest frequency of data points occurring at the mean\n",
    "itself. As you move away from the mean in either direction, the frequency of data points decreases. However, the rate\n",
    "at which the frequency decreases depends on the standard deviation of the distribution."
   ]
  }
 ],
 "metadata": {
  "kernelspec": {
   "display_name": "Python 3 (ipykernel)",
   "language": "python",
   "name": "python3"
  },
  "language_info": {
   "codemirror_mode": {
    "name": "ipython",
    "version": 3
   },
   "file_extension": ".py",
   "mimetype": "text/x-python",
   "name": "python",
   "nbconvert_exporter": "python",
   "pygments_lexer": "ipython3",
   "version": "3.10.9"
  }
 },
 "nbformat": 4,
 "nbformat_minor": 5
}
