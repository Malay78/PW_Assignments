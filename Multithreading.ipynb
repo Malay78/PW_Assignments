{
 "cells": [
  {
   "cell_type": "code",
   "execution_count": null,
   "id": "c65cf555",
   "metadata": {},
   "outputs": [],
   "source": [
    "Q1. What is multithreading in python? Why is it used? Name the module used to handle threads in python.\n",
    "#Ans1.\n",
    "Multithreading is defined as the abiblity of a processor to execute multiple threads concurrently. In a simple, single-core CPU, it is achieved using frequent switching between threads.\n",
    "#Use\n",
    "It gives the illusion that they are running parallely, but they work in a concurrent manner.\n",
    "#Module:-\n",
    "import threading"
   ]
  },
  {
   "cell_type": "code",
   "execution_count": 2,
   "id": "070d7867",
   "metadata": {},
   "outputs": [],
   "source": [
    "Q2. Why threading module used? Write the use of the following functions\u001d",
    "\n",
    "a. activeCount()\n",
    "b. currentThread()\n",
    "c. enumerate()"
   ]
  },
  {
   "cell_type": "code",
   "execution_count": 6,
   "id": "686ae462",
   "metadata": {},
   "outputs": [
    {
     "name": "stdout",
     "output_type": "stream",
     "text": [
      "Number of active threads in the starting: 6\n",
      "The active threads in the starting is 1 which is the main thread that executes till the program runs\n",
      "Number of active threads: 9\n",
      "Value by Thread 3: 3\n",
      "Number of active threads: 8\n",
      "Value by Thread 1: 1\n",
      "Number of active threads: 7\n",
      "Value by Thread 2: 2\n"
     ]
    }
   ],
   "source": [
    "                    #Ans2.\n",
    "#a. activeCount()\n",
    "\n",
    "import time\n",
    "import threading\n",
    "\n",
    "def thread_1(i):\n",
    "    time.sleep(2)\n",
    "    print(\"Number of active threads:\", threading.active_count())\n",
    "    print('Value by Thread 1:', i)\n",
    "\n",
    "def thread_2(i):\n",
    "    time.sleep(5)\n",
    "    print(\"Number of active threads:\", threading.active_count())\n",
    "    print('Value by Thread 2:', i)\n",
    "    \n",
    "def thread_3(i):\n",
    "    print(\"Number of active threads:\", threading.active_count())\n",
    "    print(\"Value by Thread 3:\", i)\n",
    "    \n",
    " \n",
    "thread1 = threading.Thread(target=thread_1, args=(1,))\n",
    "thread2 = threading.Thread(target=thread_2, args=(2,))\n",
    "thread3 = threading.Thread(target=thread_3, args=(3,))\n",
    "\n",
    "print(\"Number of active threads in the starting:\", threading.active_count())\n",
    "print(\"The active threads in the starting is 1 which is the main thread that executes till the program runs\")\n",
    "\n",
    "\n",
    "thread1.start()\n",
    "thread2.start()\n",
    "thread3.start()\n"
   ]
  },
  {
   "cell_type": "code",
   "execution_count": 7,
   "id": "63a55234",
   "metadata": {},
   "outputs": [
    {
     "name": "stdout",
     "output_type": "stream",
     "text": [
      "Active current thread right now: <_MainThread(MainThread, started 18780)>\n",
      "Active current thread right now: <Thread(Thread-16 (thread_3), started 11132)>\n",
      "Value by Thread 3: 3\n",
      "Active current thread right now: <Thread(Thread-14 (thread_1), started 18656)>\n",
      "Value by Thread 1: 1\n",
      "Active current thread right now: <Thread(Thread-15 (thread_2), started 5280)>\n",
      "Value by Thread 2: 2\n"
     ]
    }
   ],
   "source": [
    "#b. currentThread()\n",
    "\n",
    "\n",
    "import time\n",
    "import threading\n",
    "\n",
    "def thread_1(i):\n",
    "    time.sleep(2)\n",
    "    print(\"Active current thread right now:\", (threading.current_thread()))\n",
    "    print('Value by Thread 1:', i)\n",
    "\n",
    "def thread_2(i):\n",
    "    time.sleep(5)\n",
    "    print(\"Active current thread right now:\", (threading.current_thread()))\n",
    "    print('Value by Thread 2:', i)\n",
    "    \n",
    "def thread_3(i):\n",
    "    print(\"Active current thread right now:\", (threading.current_thread()))\n",
    "    print(\"Value by Thread 3:\", i)\n",
    "    \n",
    " \n",
    "thread1 = threading.Thread(target=thread_1, args=(1,))\n",
    "thread2 = threading.Thread(target=thread_2, args=(2,))\n",
    "thread3 = threading.Thread(target=thread_3, args=(3,))\n",
    "\n",
    "print(\"Active current thread right now:\", (threading.current_thread()))\n",
    "\n",
    "thread1.start()\n",
    "thread2.start()\n",
    "thread3.start()\n"
   ]
  },
  {
   "cell_type": "code",
   "execution_count": 10,
   "id": "bc08059f",
   "metadata": {},
   "outputs": [
    {
     "name": "stdout",
     "output_type": "stream",
     "text": [
      "Return type: <class 'enumerate'>\n",
      "[(0, 'eat'), (1, 'sleep'), (2, 'repeat')]\n",
      "[(1, 'l'), (2, 'e'), (3, 'a'), (4, 'r'), (5, 'n')]\n"
     ]
    }
   ],
   "source": [
    "#enumerate\n",
    "l1=[\"eat\",\"sleep\",\"repeat\"]\n",
    "s1=\"learn\"\n",
    "obj1=enumerate(l1)\n",
    "obj2=enumerate(s1)\n",
    "print(\"Return type:\", type(obj1))\n",
    "print(list(enumerate(l1)))\n",
    "print(list(enumerate(s1,1)))"
   ]
  },
  {
   "cell_type": "code",
   "execution_count": null,
   "id": "341e936f",
   "metadata": {},
   "outputs": [],
   "source": [
    "Q3. Explain the following functions\u001d",
    "\n",
    "a. run()\n",
    "b. start()\n",
    "c. join()\n",
    "d. isAlive()"
   ]
  },
  {
   "cell_type": "code",
   "execution_count": null,
   "id": "cc238eac",
   "metadata": {},
   "outputs": [],
   "source": [
    "#Ans3.\n",
    "a. run()\n",
    "The run method executes any target function belonging to a given thread object that is now active. It normally executes in the background after the .start() method is invoked\n",
    "\n",
    "b. start()\n",
    "start() method is an inbuilt method of the Thread class of the threading module, it is used to start a thread's activity. The method calls the run() method internally which then executes the target method. This method must be called at most one time for one thread.\n",
    "\n",
    "c. join()\n",
    "The join() startegy is an underlying technique in Python that has a place with the string class. Concatenating or joining elements from an iterable, like a list,tuple or string, into a single string is what this method does. The join() technique takes the accompanying syntax.\n",
    "\n",
    "d. isAlive()\n",
    "The isAlive() methods checks whether a thread is still executing. The is_alive() method is called on the t thread object to checck if the thread is alive before starting it.\n"
   ]
  },
  {
   "cell_type": "code",
   "execution_count": null,
   "id": "42db6e96",
   "metadata": {},
   "outputs": [],
   "source": [
    "Q4. Write a python program to create two threads. Thread one must print the list of squares and thread \n",
    "two must print the list of cubes."
   ]
  },
  {
   "cell_type": "code",
   "execution_count": 14,
   "id": "56049f70",
   "metadata": {},
   "outputs": [],
   "source": [
    "#Ans4.\n",
    "import threading"
   ]
  },
  {
   "cell_type": "code",
   "execution_count": 68,
   "id": "4f7e9271",
   "metadata": {},
   "outputs": [
    {
     "name": "stdout",
     "output_type": "stream",
     "text": [
      "Squares: 0\n"
     ]
    }
   ],
   "source": [
    "temp=[]\n",
    "def square(id):\n",
    "    print(\"Squares: %d\"%id**2)\n",
    "square(0) \n",
    "def cubes(k):\n",
    "    print(\"Cubes: %d\"%k**3)"
   ]
  },
  {
   "cell_type": "code",
   "execution_count": 71,
   "id": "2ee83c85",
   "metadata": {},
   "outputs": [],
   "source": [
    "t1=[threading.Thread(target=square, args=(i,)) for i in range(6)]\n",
    "t2=[threading.Thread(target=cubes, args=(i,)) for i in range(6)]"
   ]
  },
  {
   "cell_type": "code",
   "execution_count": 72,
   "id": "f2f3505c",
   "metadata": {},
   "outputs": [
    {
     "name": "stdout",
     "output_type": "stream",
     "text": [
      "Squares: 0\n",
      "Squares: 1\n",
      "Squares: 4\n",
      "Squares: 9\n",
      "Squares: 16\n",
      "Squares: 25\n",
      "Cubes: 0\n",
      "Cubes: 1\n",
      "Cubes: 8\n",
      "Cubes: 27\n",
      "Cubes: 64\n",
      "Cubes: 125\n"
     ]
    }
   ],
   "source": [
    "for t in t1:\n",
    "    t.start()\n",
    "for t in t2:\n",
    "    t.start()"
   ]
  },
  {
   "cell_type": "code",
   "execution_count": null,
   "id": "74d5d5f2",
   "metadata": {},
   "outputs": [],
   "source": [
    "Q5. State advantages and disadvantages of multithreading.\n",
    "#Ans5.\n",
    "#Advantages of Multithreading-\n",
    "* Enhanced performance by decreased development time\n",
    "* Simplified and streamlined program coding\n",
    "* Improvised GUI responsiveness\n",
    "* Better use of cache storage by utilization of resources\n",
    "\n",
    "#Disadvantages of Multithreading\n",
    "* Complex debugging and testing processes\n",
    "* Overhead switching of context\n",
    "* Unpredictable results"
   ]
  },
  {
   "cell_type": "code",
   "execution_count": null,
   "id": "bb9d4ace",
   "metadata": {},
   "outputs": [],
   "source": [
    "Q6. Explain deadlocks and race conditions.\n",
    "#Ans6.\n",
    "#1. Race Condition\n",
    "When two processes are competing with each other causing data corruption.\n",
    "Eg:- Two persons are trying to deposit 1 dollar online into the same bank account. The initial amount is 17 dollar. Both the\n",
    "    persons would be able to see $17 initially. Each of them tries to deposit $1, and the final amount is expected to be $19.\n",
    "    But due to race conditions, the final amount in the bank is $18 instead of $19. This is also known as dirty read.\n",
    "#2. Deadlocks\n",
    "When two processes are waiting for each other directly or indirectly, it is called deadlock.\n",
    "Eg:- If thread t1 acquired its task. But the resource R2 is acquired by thread T2 which is waiting for resource R1(which is\n",
    "    acquired by T1). Neither of them will be able to accomplish its task, as they keep waiting for the other resources they\n",
    "    need.\n",
    "    "
   ]
  }
 ],
 "metadata": {
  "kernelspec": {
   "display_name": "Python 3 (ipykernel)",
   "language": "python",
   "name": "python3"
  },
  "language_info": {
   "codemirror_mode": {
    "name": "ipython",
    "version": 3
   },
   "file_extension": ".py",
   "mimetype": "text/x-python",
   "name": "python",
   "nbconvert_exporter": "python",
   "pygments_lexer": "ipython3",
   "version": "3.10.9"
  }
 },
 "nbformat": 4,
 "nbformat_minor": 5
}
