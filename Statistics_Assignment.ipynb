{
 "cells": [
  {
   "cell_type": "code",
   "execution_count": null,
   "id": "8ff0c148",
   "metadata": {},
   "outputs": [],
   "source": [
    "Q1. What is Statistics?\n",
    "#Ans1.\n",
    "Statistics is the science of collecting,organizing and analyzing data. It involves the collection, description, analysis and\n",
    "inference of conclusions."
   ]
  },
  {
   "cell_type": "code",
   "execution_count": null,
   "id": "8dfcaaa5",
   "metadata": {},
   "outputs": [],
   "source": [
    "Q2. Define the different types of statistics and give an example of when each type might be used.\n",
    "#Ans2. \n",
    "There are two types of statistics-\n",
    "\n",
    "1. Desciptive Statistics-: It consists of organizing and summarizing data. Descriptive statistics mostly focus on the central\n",
    "    tendency(Mean, Median and Mode), Measure of Dispersion(Variance, Standard Deviation) and distribution of sample data.\n",
    "    \n",
    "2. Inferential Statistics:- It consists of using data you have measured to form conclusion. Inference Statistics makes\n",
    "   inference and prediction about population based on a sample of data taken from population.\n",
    "\n",
    "   Eg:- If there are 20 statistics classes at your college and you have collected the height of students in the class.\n",
    "        Heights are recorded[175, 180,172,168,165,189,159,166]cm\n",
    "    Discriptive Question-\"What is the average height of the entire classroom\"\n",
    "                         This can be calculated with the help of central tendancy\n",
    "    Inferential Question-\"Are the height of the students in the classroom similar to what you expect in the entire college\"\n",
    "    "
   ]
  },
  {
   "cell_type": "code",
   "execution_count": null,
   "id": "e0b8057e",
   "metadata": {},
   "outputs": [],
   "source": [
    "Q3.  What are the different types of data and how do they differ from each other? Provide an example of \n",
    "each type of data\n",
    "#Ans3.\n",
    "There are two different types of data, they are- qualitative and quantitative\n",
    "1. Quantitative Data- It can be expressed in terms of numbers and simply measured by numerical variables. All the mathematical operations(addition, subtraction, multiplication, division) can be performed in quantitative data. It is further divided into two parts-\n",
    "a. Discrete: The term discrete means discrete means distinct or separate. The discrete data contain the values that fall under integers or whole numbers.\n",
    "    Example- Number of children in the family, number of bank accounts\n",
    "b. Continuous- This data contains integer as well as floating values in itself.\n",
    "    Example- Height, Weight, Length etc.\n",
    "    \n",
    "2. Qualitative Data-It is also known as Categorical Data, it cannot be measured in the form of numbers. The data is stored by category, not by numbers.\n",
    "                 It is further divided into two parts-\n",
    "a. Nominal: It is used to label variables without any order or quantitative value. It can not be ranked.\n",
    "    Example-The color of hair(as it cannot be compared or ranked with other colors)\n",
    "b. Ordinal: In this categorical data all the data entries are compared with one another and placed with respect to their rank/precendence.\n",
    "    Example-Grades in exam(A,B,C,D)"
   ]
  },
  {
   "cell_type": "code",
   "execution_count": null,
   "id": "5e61c5f8",
   "metadata": {},
   "outputs": [],
   "source": [
    "Q4. Categorise the following datasets with respect to quantitative and qualitative data types:\n",
    "\n",
    "(i)\tGrading in exam: A+, A, B+, B, C+, C, D, E\n",
    "\n",
    "(ii)\tColour of mangoes: yellow, green, orange, red\n",
    "\n",
    "(iii)\tHeight data of a class: [178.9, 179, 179.5, 176, 177.2, 178.3, 175.8,...]\n",
    "\n",
    "(iv)\tNumber of mangoes exported by a farm: [500, 600, 478, 672, …]"
   ]
  },
  {
   "cell_type": "code",
   "execution_count": null,
   "id": "43e4733e",
   "metadata": {},
   "outputs": [],
   "source": [
    "(i) Grading in exam: Qualitative Data(Ordinal)\n",
    "\n",
    "(ii) Colour of mangoes: Qualitative Data(Nominal)\n",
    "    \n",
    "(iii) Height data of a class : Quantitative Data(Continuous)\n",
    "    \n",
    "(iv) Number of mangoes exported by a farm: Quantitative(Discrete)\n"
   ]
  },
  {
   "cell_type": "code",
   "execution_count": null,
   "id": "4f234635",
   "metadata": {},
   "outputs": [],
   "source": [
    "Q5. Explain the concept of levels of measurement and give an example of a variable for each level."
   ]
  },
  {
   "cell_type": "code",
   "execution_count": null,
   "id": "f3cf1e64",
   "metadata": {},
   "outputs": [],
   "source": [
    "#Ans5.\n",
    "1. Nominal Scale Data:- The data is stored in categorical form. There is no comparision among the data i.e. order is not \n",
    "                        present in Nominal Scale Data.\n",
    "    Eg:- Colors, Gender, Label\n",
    "        \n",
    "2. Ordinal Scale Data:- The data is in categorized format and rank your data in an order. Ranking is important in this \n",
    "                        Scale of data. There is no difference between the data.\n",
    "    Eg:-Time Interval, IQ in exams(Excellent, Good, Bad)\n",
    "        \n",
    "3. Interval Scale Data:- In this the data is stored in an order and there is no 'zero' string, which means that the data can be\n",
    "                         negative. Ratio between the data is absent and difference can be measured.\n",
    "    Eg:- Temperature, Graph of Stock Market[#In these examples the data can be negative and difference can be measured]\n",
    "        \n",
    "4. Ratio Scale Data:- The data can be stored in ordered way and there will be a true 'zero' point in Ratio Scale Data. Ratio \n",
    "                      and difference can be measured.\n",
    "    Eg:- Length of any object, Students marks\n"
   ]
  },
  {
   "cell_type": "code",
   "execution_count": null,
   "id": "a69a8e5d",
   "metadata": {},
   "outputs": [],
   "source": [
    "Q6. Why is it important to understand the level of measurement when analyzing data? Provide an \n",
    "example to illustrate your answer."
   ]
  },
  {
   "cell_type": "code",
   "execution_count": null,
   "id": "61a76feb",
   "metadata": {},
   "outputs": [],
   "source": [
    "#Ans6.\n",
    "Level of measurement are scales that allow us to measure  and classify gathered data in well-defined variables to be used\n",
    "to perform statistical data analysis.\n",
    "\n",
    "For example, it is practically impossible to calculate the average hourly rate of a worker in the US. So, a sample audience\n",
    "is randomly selected such it represents the larger population appropriately. Then the average hourly rate of this\n",
    "sample audience is calculated."
   ]
  },
  {
   "cell_type": "code",
   "execution_count": null,
   "id": "b9800e64",
   "metadata": {},
   "outputs": [],
   "source": [
    "Q7. How nominal data type is different from ordinal data type."
   ]
  },
  {
   "cell_type": "code",
   "execution_count": null,
   "id": "d727c860",
   "metadata": {},
   "outputs": [],
   "source": [
    "#Ans7 \n",
    "In nominal data type there is numeric value inside it and the data cannot be compared with one other whereas, in ordinal data\n",
    "type the data is compared with one another and rank is given to every data, the data is stored in a given order."
   ]
  },
  {
   "cell_type": "code",
   "execution_count": null,
   "id": "2e9d51ee",
   "metadata": {},
   "outputs": [],
   "source": [
    "Q8. Which type of plot can be used to display data in terms of range?\n",
    "#Ans8.\n",
    "Matplotlib(Pyplot) or Histograms can be used to display data in terms of range."
   ]
  },
  {
   "cell_type": "code",
   "execution_count": null,
   "id": "b0952914",
   "metadata": {},
   "outputs": [],
   "source": [
    "Q9. Describe the difference between descriptive and inferential statistics. Give an example of each \n",
    "type of statistics and explain how they are used."
   ]
  },
  {
   "cell_type": "code",
   "execution_count": null,
   "id": "d3a367e0",
   "metadata": {},
   "outputs": [],
   "source": [
    "1. Descriptive Statistics-\n",
    "    * It describe and summarize data \n",
    "    * Focuses on the entire population or dataset\n",
    "    * It includes measurements like central tendancy and dispersion\n",
    "    * Examples: Mean, Meadian, Mode, Standard Deviation\n",
    "2. Inferential Statistics-\n",
    "    * It makes inferences and draw conclusions about a population.\n",
    "    * It takes the sample of data from a population\n",
    "    * Estimates parameters, tests hypotheses, and determines the level of significance in the results\n",
    "    * Examples: ANOVA,chi-square test, t-test, z-test,f-test, regression analysis.\n",
    "#How they are used\n",
    "If there are 10 branches of a bachelor course and the weight of the students of one class are-\n",
    "[56,58,62,69,63,53,78,59,72]\n",
    "\n",
    "#Question arise in Descriptive\n",
    "Calculate the average weights of a branch-\n",
    "Average Weight=(56+58+62+69+63+53+78+59+72)/9\n",
    "Average Weight=63.33\n",
    "#Question arise in Inferential\n",
    "Are the weight of the students in the branches similar to what you expect in the entire college\n",
    "This can be calculate by applying a test statistics in the sample data"
   ]
  },
  {
   "cell_type": "code",
   "execution_count": null,
   "id": "4b41ea4b",
   "metadata": {},
   "outputs": [],
   "source": [
    "Q10. What are some common measures of central tendency and variability used in statistics? Explain \n",
    "how each measure can be used to describe a dataset.\n",
    "#Ans10.\n",
    "Mean, Meadian and Mode are the common mesures of central tendancy.\n",
    "Range, Variance and Standard Deviation are some common measures of central tendancy.\n",
    "#How they are used\n",
    "* Mean can be calculated by finding the average of all the entries within a given row or Column\n",
    "* Meadian is the middle element of any data set if dataset is odd, if it is even then we take two middle element and find their\n",
    "average.\n",
    "* Mode is that value of the dataset which is occured most of the time in the dataset\n",
    "* Range is the difference between the largest value and the smallest value\n",
    "* In statistics, the standard deviation is a measure of the amount of variation or dispersion of a set of values.\n",
    "* A variance is a measure of how far a set of data (numbers) are spread out from their mean (average) value."
   ]
  }
 ],
 "metadata": {
  "kernelspec": {
   "display_name": "Python 3 (ipykernel)",
   "language": "python",
   "name": "python3"
  },
  "language_info": {
   "codemirror_mode": {
    "name": "ipython",
    "version": 3
   },
   "file_extension": ".py",
   "mimetype": "text/x-python",
   "name": "python",
   "nbconvert_exporter": "python",
   "pygments_lexer": "ipython3",
   "version": "3.10.9"
  }
 },
 "nbformat": 4,
 "nbformat_minor": 5
}
