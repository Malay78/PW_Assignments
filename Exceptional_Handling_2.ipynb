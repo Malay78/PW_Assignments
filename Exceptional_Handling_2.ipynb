{
 "cells": [
  {
   "cell_type": "code",
   "execution_count": null,
   "id": "1837de47",
   "metadata": {},
   "outputs": [],
   "source": [
    "Q1. Explain why we have to use the Exception class while creating a Custom Exception.\n",
    "#Ans1.\n",
    "Exceptions need to be derived from the Exception class,either directly or indirectly. The purpose of a custom exception class\n",
    "is to integrate the look-up of localized message strings in a custom message catalog into the mechanism that is used for error\n",
    "reporting in the client infrastructure."
   ]
  },
  {
   "cell_type": "code",
   "execution_count": null,
   "id": "f0666f5a",
   "metadata": {},
   "outputs": [],
   "source": [
    "Q2. Write a python program to print Python Exception Hierarchy."
   ]
  },
  {
   "cell_type": "code",
   "execution_count": null,
   "id": "d659fca4",
   "metadata": {},
   "outputs": [],
   "source": [
    "#Ans2.\n",
    "import inspect \n",
    "def treeClass(cls, ind=0):\n",
    "    print('-'*ind, cls.__name__)\n",
    "    for i in  cls.__subclasses__():\n",
    "        treeClass(i, ind + 3)\n",
    "print(\"Hierarchy for Built-in Exceptions is:\")\n",
    "inspect.getclasstree(inspect.getmro(BaseException))\n",
    "treeClass(BaseException)"
   ]
  },
  {
   "cell_type": "code",
   "execution_count": null,
   "id": "4c0db808",
   "metadata": {},
   "outputs": [],
   "source": [
    "Q3. What errors are defined in the ArithmeticError class? Explain any two with an example.\n",
    "#Ans3.\n",
    "There are 3 Errors in ArithmeticError class-\n",
    "1. ZeroDivisionError\n",
    "2. FloatingPointError\n",
    "3. OverflowError"
   ]
  },
  {
   "cell_type": "code",
   "execution_count": 1,
   "id": "94352da6",
   "metadata": {},
   "outputs": [
    {
     "name": "stdout",
     "output_type": "stream",
     "text": [
      "division by zero {<class 'ZeroDivisionError'>}\n"
     ]
    }
   ],
   "source": [
    "#Example1\n",
    "try:\n",
    "    a=15/0\n",
    "    print(a)\n",
    "except ArithmeticError as e:\n",
    "    print(e,{e.__class__})"
   ]
  },
  {
   "cell_type": "code",
   "execution_count": 2,
   "id": "ace0bbf8",
   "metadata": {},
   "outputs": [
    {
     "name": "stdout",
     "output_type": "stream",
     "text": [
      "(34, 'Result too large')\n"
     ]
    }
   ],
   "source": [
    "#Example2\n",
    "j=5.0\n",
    "try:\n",
    "    for i in range(1,1000):\n",
    "        j=j**i\n",
    "except ArithmeticError as e:\n",
    "    print(e)"
   ]
  },
  {
   "cell_type": "code",
   "execution_count": null,
   "id": "a8a6f75d",
   "metadata": {},
   "outputs": [],
   "source": [
    "Q4. Why LookupError class is used? Explain with an example KeyError and IndexError."
   ]
  },
  {
   "cell_type": "code",
   "execution_count": null,
   "id": "85424b38",
   "metadata": {},
   "outputs": [],
   "source": [
    "#Ans4.\n",
    "The LookupError exception in Python forms the base class for all exceptions that are raised when an index or a key is not\n",
    "found for a sequence or dictionary respectively."
   ]
  },
  {
   "cell_type": "code",
   "execution_count": 3,
   "id": "f5afa279",
   "metadata": {},
   "outputs": [
    {
     "name": "stdout",
     "output_type": "stream",
     "text": [
      "list index out of range,<class 'IndexError'>\n"
     ]
    }
   ],
   "source": [
    "#KeyError\n",
    "x=[1,2,3,4]\n",
    "try:\n",
    "    print(x[10])\n",
    "except LookupError as e:\n",
    "    print(f\"{e},{e.__class__}\")"
   ]
  },
  {
   "cell_type": "code",
   "execution_count": 12,
   "id": "45f7cc8c",
   "metadata": {},
   "outputs": [
    {
     "name": "stdout",
     "output_type": "stream",
     "text": [
      "Enter any keyName\n",
      "'Name' {<class 'KeyError'>}\n"
     ]
    }
   ],
   "source": [
    "#IndexError\n",
    "temp={'name': \"Malay Gupta\", 'Age': 19, 'Course':\"Data Science Masters 2.0\"}\n",
    "enter=input(\"Enter any key\")\n",
    "try:\n",
    "    print(f'{enter} is {temp[enter]}')\n",
    "except LookupError as e:\n",
    "    print(e,{e.__class__})"
   ]
  },
  {
   "cell_type": "code",
   "execution_count": null,
   "id": "3de43898",
   "metadata": {},
   "outputs": [],
   "source": [
    "Q5. Explain ImportError. What is ModuleNotFoundError?"
   ]
  },
  {
   "cell_type": "code",
   "execution_count": 22,
   "id": "59d2d434",
   "metadata": {},
   "outputs": [
    {
     "name": "stdout",
     "output_type": "stream",
     "text": [
      "No module named 'exception' <class 'ModuleNotFoundError'>\n"
     ]
    }
   ],
   "source": [
    "#Ans5.\n",
    "import sys\n",
    "try:\n",
    "    from exception import myexception\n",
    "except ImportError as e:\n",
    "    print(e,e.__class__)"
   ]
  },
  {
   "cell_type": "code",
   "execution_count": null,
   "id": "e43c4af0",
   "metadata": {},
   "outputs": [],
   "source": [
    "A ModuleNotFoundError is that in Python which occurs when you try to import a module that is not installed or not found in \n",
    "the curren Python path."
   ]
  },
  {
   "cell_type": "code",
   "execution_count": null,
   "id": "3ea6696a",
   "metadata": {},
   "outputs": [],
   "source": [
    "Q6. List down some best practices for exception handling in python. "
   ]
  },
  {
   "cell_type": "code",
   "execution_count": 25,
   "id": "c13d3cb4",
   "metadata": {},
   "outputs": [
    {
     "name": "stdout",
     "output_type": "stream",
     "text": [
      " I am handling Zero Division error: division by zero\n"
     ]
    }
   ],
   "source": [
    "#Ans6\n",
    "#Best Practices for Exception handling\n",
    "try:\n",
    "    10/0\n",
    "except ZeroDivisionError as e:\n",
    "    print(\" I am handling Zero Division error:\",e)"
   ]
  },
  {
   "cell_type": "code",
   "execution_count": 26,
   "id": "8f270f0e",
   "metadata": {},
   "outputs": [],
   "source": [
    "#Always use log your error\n",
    "import logging\n",
    "logging.basicConfig(filename=\"error1.log\",level=logging.ERROR)\n",
    "try:\n",
    "    10/0\n",
    "except ZeroDivisionError as e:\n",
    "    logging.error(\"I am trying to handle a zerodivision error\".format(e))"
   ]
  },
  {
   "cell_type": "code",
   "execution_count": 27,
   "id": "d98c8d0e",
   "metadata": {},
   "outputs": [],
   "source": [
    "#Always avoid  to write a multiple exception handling\n",
    "try:\n",
    "    10/0\n",
    "except FileNotFoundError as e:\n",
    "    logging.error(\"I am handling file not found{}\".format(e))\n",
    "except AttributeError as e:\n",
    "    logging.error(\"I am handling attribute error\".format(e))\n",
    "except ZeroDivisionError as e:\n",
    "    logging.error(\"I am trying to handle a zerodivision error\".format(e))"
   ]
  },
  {
   "cell_type": "code",
   "execution_count": null,
   "id": "23c3ac4c",
   "metadata": {},
   "outputs": [],
   "source": [
    "#Document all the error\n",
    "#Cleanup all the resuources"
   ]
  }
 ],
 "metadata": {
  "kernelspec": {
   "display_name": "Python 3 (ipykernel)",
   "language": "python",
   "name": "python3"
  },
  "language_info": {
   "codemirror_mode": {
    "name": "ipython",
    "version": 3
   },
   "file_extension": ".py",
   "mimetype": "text/x-python",
   "name": "python",
   "nbconvert_exporter": "python",
   "pygments_lexer": "ipython3",
   "version": "3.10.9"
  }
 },
 "nbformat": 4,
 "nbformat_minor": 5
}
