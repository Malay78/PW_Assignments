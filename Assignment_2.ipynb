{
 "cells": [
  {
   "cell_type": "code",
   "execution_count": null,
   "id": "12374dc5",
   "metadata": {},
   "outputs": [],
   "source": [
    "Q1. How do you comment code in Python? What are the different types of comments?\n",
    "Ans1. We comment in python using hash('#') function.\n",
    "      Eg- #Hello World!\n",
    "    There are two types of comments in python-\n",
    "    1. Single Lined Comments-: A single line comment of Python is the one that has a hashtag '#' at the begnning of it and \n",
    "        continues until the finish of the line.\n",
    "    2. Multi-Line Comments-: Python does not allow multi-lines comments.It can be done with multiple Hashtags or with Docstring.\n",
    "        Eg-'''Welcome to Jupyter Notebook'''"
   ]
  },
  {
   "cell_type": "code",
   "execution_count": null,
   "id": "3d75bd03",
   "metadata": {},
   "outputs": [],
   "source": [
    "Q2. What are variables in Python? How do you declare and assign values to variables?\n",
    "Ans2. Python Variables are reserved memory locations used to store values with in a Python Program.The equal sign(=) is used to\n",
    "      assign values in variables.\n",
    "  "
   ]
  },
  {
   "cell_type": "code",
   "execution_count": 2,
   "id": "a0c2c0c2",
   "metadata": {},
   "outputs": [
    {
     "name": "stdout",
     "output_type": "stream",
     "text": [
      "[28, 64, 'MG', 63.23]\n"
     ]
    }
   ],
   "source": [
    "  #Example-\n",
    "var=[28,64,\"MG\",63.23]     #Assigning Values to a Variable   \n",
    "print(var)"
   ]
  },
  {
   "cell_type": "code",
   "execution_count": null,
   "id": "84277336",
   "metadata": {},
   "outputs": [],
   "source": [
    "Q3. How do you convert one data type to another in Python?"
   ]
  },
  {
   "cell_type": "code",
   "execution_count": 8,
   "id": "6c590493",
   "metadata": {},
   "outputs": [
    {
     "name": "stdout",
     "output_type": "stream",
     "text": [
      "<class 'int'>\n",
      "<class 'str'>\n"
     ]
    }
   ],
   "source": [
    "#Ans3.\n",
    "var1=45\n",
    "print(type(var1))\n",
    "var2=str(var1)\n",
    "print(type(var2))"
   ]
  },
  {
   "cell_type": "code",
   "execution_count": null,
   "id": "cb4e36fb",
   "metadata": {},
   "outputs": [],
   "source": [
    "Q4. How do you write and execute a Python script from the command line?\n",
    "Ans4. To run a Python script store in a '.py' file in the command line, we have to write 'python' keyword before the file name\n",
    "      in the command prompt.\n",
    "    Example-: Python sample.py"
   ]
  },
  {
   "cell_type": "code",
   "execution_count": null,
   "id": "316809d5",
   "metadata": {},
   "outputs": [],
   "source": [
    "Q5. Given a list my_list = [1, 2, 3, 4, 5], write the code to slice the list and obtain the sub-list [2, 3]."
   ]
  },
  {
   "cell_type": "code",
   "execution_count": 10,
   "id": "5832e4dc",
   "metadata": {},
   "outputs": [
    {
     "name": "stdout",
     "output_type": "stream",
     "text": [
      "[2, 3]\n"
     ]
    }
   ],
   "source": [
    "#Ans5.\n",
    "my_list=[1,2,3,4,5]\n",
    "print(my_list[1:3])"
   ]
  },
  {
   "cell_type": "code",
   "execution_count": null,
   "id": "d50f98aa",
   "metadata": {},
   "outputs": [],
   "source": [
    "Q6. What is a complex number in mathematics, and how is it represented in Python?\n",
    "Ans6.Complex number is the combination of a Real Number and a Imaginary Number.\n",
    "Eg-: 6+5j"
   ]
  },
  {
   "cell_type": "code",
   "execution_count": 11,
   "id": "9df756f5",
   "metadata": {},
   "outputs": [
    {
     "name": "stdout",
     "output_type": "stream",
     "text": [
      "<class 'complex'>\n"
     ]
    }
   ],
   "source": [
    "#Representation in Python\n",
    "var3=9+10j\n",
    "print(type(var3))"
   ]
  },
  {
   "cell_type": "code",
   "execution_count": null,
   "id": "bbe67f4a",
   "metadata": {},
   "outputs": [],
   "source": [
    "Q7. What is the correct way to declare a variable named age and assign the value 25 to it?\n",
    "Ans7.\n",
    "            age=25"
   ]
  },
  {
   "cell_type": "code",
   "execution_count": null,
   "id": "a995975d",
   "metadata": {},
   "outputs": [],
   "source": [
    "Q8. Declare a variable named price and assign the value 9.99 to it. What data type does this variable \n",
    "belong to?"
   ]
  },
  {
   "cell_type": "code",
   "execution_count": 12,
   "id": "66c4f4b2",
   "metadata": {},
   "outputs": [
    {
     "name": "stdout",
     "output_type": "stream",
     "text": [
      "Type of Variable\n",
      "\n",
      "<class 'float'>\n"
     ]
    }
   ],
   "source": [
    "#Ans8.\n",
    "price=9.99\n",
    "print(\"Type of Variable\\n\")\n",
    "print(type(price))"
   ]
  },
  {
   "cell_type": "code",
   "execution_count": null,
   "id": "bed9807f",
   "metadata": {},
   "outputs": [],
   "source": [
    "Q9. Create a variable named name and assign your full name to it as a string. How would you print the \n",
    "value of this variable?"
   ]
  },
  {
   "cell_type": "code",
   "execution_count": 13,
   "id": "512ccbc1",
   "metadata": {},
   "outputs": [
    {
     "name": "stdout",
     "output_type": "stream",
     "text": [
      "Malay Gupta\n"
     ]
    }
   ],
   "source": [
    "#Ans9.\n",
    "name=\"Malay Gupta\"\n",
    "print(name)"
   ]
  },
  {
   "cell_type": "code",
   "execution_count": null,
   "id": "a542d380",
   "metadata": {},
   "outputs": [],
   "source": [
    "Q10. Given the string \"Hello, World!\", extract the substring \"World\"."
   ]
  },
  {
   "cell_type": "code",
   "execution_count": 15,
   "id": "c2e1aa82",
   "metadata": {},
   "outputs": [
    {
     "name": "stdout",
     "output_type": "stream",
     "text": [
      "World\n"
     ]
    }
   ],
   "source": [
    "#Ans10.\n",
    "var4=\"Hello, World!\"\n",
    "print(var4[7:-1])"
   ]
  },
  {
   "cell_type": "code",
   "execution_count": null,
   "id": "32b98711",
   "metadata": {},
   "outputs": [],
   "source": [
    "Q11. Create a variable named \"is_student\" and assign it a boolean value indicating whether you are \n",
    "currently a student or not."
   ]
  },
  {
   "cell_type": "code",
   "execution_count": 16,
   "id": "ff004afe",
   "metadata": {},
   "outputs": [
    {
     "name": "stdout",
     "output_type": "stream",
     "text": [
      "Currently a student\n"
     ]
    }
   ],
   "source": [
    "#Ans11.\n",
    "is_student=True\n",
    "if(is_student==True):\n",
    "    print(\"Currently a student\")\n",
    "else:\n",
    "    print(\"Not a student\")"
   ]
  },
  {
   "cell_type": "code",
   "execution_count": null,
   "id": "6983022e",
   "metadata": {},
   "outputs": [],
   "source": []
  }
 ],
 "metadata": {
  "kernelspec": {
   "display_name": "Python 3 (ipykernel)",
   "language": "python",
   "name": "python3"
  },
  "language_info": {
   "codemirror_mode": {
    "name": "ipython",
    "version": 3
   },
   "file_extension": ".py",
   "mimetype": "text/x-python",
   "name": "python",
   "nbconvert_exporter": "python",
   "pygments_lexer": "ipython3",
   "version": "3.10.9"
  }
 },
 "nbformat": 4,
 "nbformat_minor": 5
}
