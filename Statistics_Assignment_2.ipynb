{
 "cells": [
  {
   "cell_type": "code",
   "execution_count": null,
   "id": "fc0c3ad4",
   "metadata": {},
   "outputs": [],
   "source": [
    "Q1. What are the three measures of central tendency?\n",
    "#Ans1.\n",
    "1. Mean:- The average number found by adding all data points and dividing by the number of data points.\n",
    "2. Meadian:- The middle number found by ordering all data points and picking out the one in the middle(or if there are two\n",
    "             middle numbers, taking the mean of those two numbers).\n",
    "3. Mode:- The most frequent number- that is, the number that occurs the highest number of times.\n"
   ]
  },
  {
   "cell_type": "code",
   "execution_count": null,
   "id": "e6573f77",
   "metadata": {},
   "outputs": [],
   "source": [
    "Q2. What is the difference between the mean, median, and mode? How are they used to measure the \n",
    "central tendency of a dataset?\n",
    "#Ans2.\n",
    "1.Mean-\n",
    "* The average taken of given observation is called Mean.\n",
    "* Add all the numbers and divide it by total number of terms.\n",
    "2.Median-\n",
    "* The middle number in a given set of observations is called Median\n",
    "* Place all the numbers in ascending or descending order.\n",
    "3. Mode-\n",
    "* Most frequently occured number in a given set of observations is called Mode\n",
    "* The mode is derived when a number has frequency occurred in a series."
   ]
  },
  {
   "cell_type": "code",
   "execution_count": null,
   "id": "ba394d01",
   "metadata": {},
   "outputs": [],
   "source": [
    "Q3. Measure the three measures of central tendency for the given height data:\n",
    "\n",
    " [178,177,176,177,178.2,178,175,179,180,175,178.9,176.2,177,172.5,178,176.5]"
   ]
  },
  {
   "cell_type": "code",
   "execution_count": 13,
   "id": "1ba73d2f",
   "metadata": {},
   "outputs": [
    {
     "name": "stdout",
     "output_type": "stream",
     "text": [
      "Mean= 177.01875\n",
      "Median= 177.0\n"
     ]
    },
    {
     "name": "stderr",
     "output_type": "stream",
     "text": [
      "C:\\Users\\Malay Gupta\\AppData\\Local\\Temp\\ipykernel_18552\\187169410.py:6: FutureWarning: Unlike other reduction functions (e.g. `skew`, `kurtosis`), the default behavior of `mode` typically preserves the axis it acts along. In SciPy 1.11.0, this behavior will change: the default value of `keepdims` will become False, the `axis` over which the statistic is taken will be eliminated, and the value None will no longer be accepted. Set `keepdims` to True or False to avoid this warning.\n",
      "  stats.mode(height)\n"
     ]
    },
    {
     "data": {
      "text/plain": [
       "ModeResult(mode=array([177.]), count=array([3]))"
      ]
     },
     "execution_count": 13,
     "metadata": {},
     "output_type": "execute_result"
    }
   ],
   "source": [
    "import numpy as np\n",
    "height=[178,177,176,177,178.2,178,175,179,180,175,178.9,176.2,177,172.5,178,176.5]\n",
    "print(\"Mean=\",np.mean(height))\n",
    "print(\"Median=\", np.median(height))\n",
    "from scipy import stats\n",
    "stats.mode(height)"
   ]
  },
  {
   "cell_type": "code",
   "execution_count": null,
   "id": "314f4c7f",
   "metadata": {},
   "outputs": [],
   "source": [
    "Q4. Find the standard deviation for the given data:\n",
    "\n",
    "[178,177,176,177,178.2,178,175,179,180,175,178.9,176.2,177,172.5,178,176.5]"
   ]
  },
  {
   "cell_type": "code",
   "execution_count": 16,
   "id": "cc4555de",
   "metadata": {},
   "outputs": [
    {
     "data": {
      "text/plain": [
       "1.7885814036548633"
      ]
     },
     "execution_count": 16,
     "metadata": {},
     "output_type": "execute_result"
    }
   ],
   "source": [
    "temp=[178,177,176,177,178.2,178,175,179,180,175,178.9,176.2,177,172.5,178,176.5]\n",
    "import numpy as np\n",
    "np.std(temp)"
   ]
  },
  {
   "cell_type": "code",
   "execution_count": null,
   "id": "eae265c7",
   "metadata": {},
   "outputs": [],
   "source": [
    "Q5. How are measures of dispersion such as range, variance, and standard deviation used to describe \n",
    "the spread of a dataset? Provide an example."
   ]
  },
  {
   "cell_type": "code",
   "execution_count": null,
   "id": "295e0b58",
   "metadata": {},
   "outputs": [],
   "source": [
    "#Ans5.\n",
    "Range:- The range is the difference between largest and smallest value of the dataset\n",
    "Eg:- Find the range of the given distribution.\n",
    "    temp[10,20,25,0,35,45]\n",
    "    range=45-0\n",
    "    range=45\n",
    "Variance:- The variance can be calculated by obtaining the sum of the squared distace of each term in the distribution from the Mean, and then dividing this by the total number of the terms in the distribution.\n",
    "Standard Deviation:- It is the square root of the variance"
   ]
  },
  {
   "cell_type": "code",
   "execution_count": 8,
   "id": "131bfbc6",
   "metadata": {},
   "outputs": [
    {
     "name": "stdout",
     "output_type": "stream",
     "text": [
      "Variance=  541.64\n",
      "Standard Deviation=  23.273160507331188\n"
     ]
    }
   ],
   "source": [
    "#Example for Variance\n",
    "import numpy as np\n",
    "ages_lst=[23,43,23,56,74,32,68,98,45,32]\n",
    "print(\"Variance= \",np.var(ages_lst))\n",
    "#Example for Standard Deviation\n",
    "print(\"Standard Deviation= \",np.std(ages_lst))"
   ]
  },
  {
   "cell_type": "code",
   "execution_count": null,
   "id": "433d649c",
   "metadata": {},
   "outputs": [],
   "source": [
    "Q6. What is a Venn diagram?\n",
    "#Ans6. \n",
    "A venn diagram uses overlapping circles or other shapes to illustrates the logical reltionships between two or more sets of\n",
    "items. The are also called set Diagrams, widely used in statistics. Venn Diagrams are named after British Logician John Venn."
   ]
  },
  {
   "cell_type": "code",
   "execution_count": null,
   "id": "42f63421",
   "metadata": {},
   "outputs": [],
   "source": [
    "Q7. For the two given sets A = (2,3,4,5,6,7) & B = (0,2,6,8,10). Find:\n",
    "\n",
    "(i) A (intersection) B\n",
    "\n",
    "(ii)A ⋃ B"
   ]
  },
  {
   "cell_type": "code",
   "execution_count": 14,
   "id": "b45b9d4e",
   "metadata": {},
   "outputs": [
    {
     "name": "stdout",
     "output_type": "stream",
     "text": [
      "Union: {0, 2, 3, 4, 5, 6, 7, 8, 10}\n",
      "Intersection: {2, 6}\n"
     ]
    }
   ],
   "source": [
    "#Ans7.\n",
    "A = {2,3,4,5,6,7}\n",
    "B= {0,2,6,8,10}\n",
    "k=A | B\n",
    "j=A & B\n",
    "print(\"Union:\",k)\n",
    "print(\"Intersection:\",j)"
   ]
  },
  {
   "cell_type": "code",
   "execution_count": null,
   "id": "f4d2e5a8",
   "metadata": {},
   "outputs": [],
   "source": [
    "Q8. What do you understand about skewness in data?"
   ]
  },
  {
   "cell_type": "code",
   "execution_count": null,
   "id": "c00934e2",
   "metadata": {},
   "outputs": [],
   "source": [
    "#Ans8.\n",
    "Skewness is a measure of the asymmetry of a distribution. A distribution can have right(or positive), left(or negative),\n",
    "or zero skewness. A right skewed distribution is longer on the right side of its peak, and a left skewed distribution is \n",
    "longer on the left side of its peak. It  is mainly used in discriptive statistics."
   ]
  },
  {
   "cell_type": "code",
   "execution_count": null,
   "id": "b440f736",
   "metadata": {},
   "outputs": [],
   "source": [
    "Q9. If a data is right skewed then what will be the position of median with respect to mean?"
   ]
  },
  {
   "cell_type": "code",
   "execution_count": null,
   "id": "8b7bfe51",
   "metadata": {},
   "outputs": [],
   "source": [
    "#Ans9.\n",
    "The median will less than or equal to the mean.\n",
    "mean>=meadian>=mode"
   ]
  },
  {
   "cell_type": "code",
   "execution_count": null,
   "id": "126876a1",
   "metadata": {},
   "outputs": [],
   "source": [
    "Q10. Explain the difference between covariance and correlation. How are these measures used in \n",
    "statistical analysis?"
   ]
  },
  {
   "cell_type": "code",
   "execution_count": null,
   "id": "500851eb",
   "metadata": {},
   "outputs": [],
   "source": [
    "#Ans10.\n",
    "1. Covariance:-\n",
    "* It signifies the direction of the linear relationship between the two variables.\n",
    "* The values of covariance can be any number between the two opposite infinities.\n",
    "* Covarience only measures how two variables change together, not the dependency of one variable on another one.\n",
    "\n",
    "2. Correlation:-\n",
    "* It is a method of statistical evaluation used to study the strength of a relationship between two, numerically measured, continuous variables\n",
    "*  It not only shows the kind of relation(in terms of direction) but also how strong the relationship is.\n",
    "* The main result of a correlation is called the correlation coefficient.\n"
   ]
  },
  {
   "cell_type": "code",
   "execution_count": null,
   "id": "97d4e32a",
   "metadata": {},
   "outputs": [],
   "source": [
    "Q11. What is the formula for calculating the sample mean? Provide an example calculation for a \n",
    "dataset."
   ]
  },
  {
   "cell_type": "code",
   "execution_count": 2,
   "id": "7985fc23",
   "metadata": {},
   "outputs": [],
   "source": [
    "#Ans11.\n",
    "x̄ = ( Σ xi ) / n\n",
    "n= number of elements in the dataset\n"
   ]
  },
  {
   "cell_type": "code",
   "execution_count": 4,
   "id": "44fa2460",
   "metadata": {},
   "outputs": [
    {
     "data": {
      "text/plain": [
       "32.833333333333336"
      ]
     },
     "execution_count": 4,
     "metadata": {},
     "output_type": "execute_result"
    }
   ],
   "source": [
    "#Example-\n",
    "x=[15,35,36,19,67,25]\n",
    "temp=(15+35+36+19+67+25)/len(x)\n",
    "temp"
   ]
  },
  {
   "cell_type": "code",
   "execution_count": null,
   "id": "280fbeb1",
   "metadata": {},
   "outputs": [],
   "source": [
    "Q12. For a normal distribution data what is the relationship between its measure of central tendency?"
   ]
  },
  {
   "cell_type": "code",
   "execution_count": null,
   "id": "a162582a",
   "metadata": {},
   "outputs": [],
   "source": [
    "#Ans12.\n",
    "The all three measures of central tendancies are almost same for the normal distribution"
   ]
  },
  {
   "cell_type": "code",
   "execution_count": null,
   "id": "15c85fc8",
   "metadata": {},
   "outputs": [],
   "source": [
    "Q13. How is covariance different from correlation?\n",
    "#Ans13.\n",
    "Covariance indicates the direction of the linear relationship between variables. Correlation measures both the strength\n",
    "and direction of the linear relationship between two variables."
   ]
  },
  {
   "cell_type": "code",
   "execution_count": null,
   "id": "c80c5c24",
   "metadata": {},
   "outputs": [],
   "source": [
    "Q14. How do outliers affect measures of central tendency and dispersion? Provide an example.\n",
    "#Ans14.\n",
    "Outliers made a big change in the measure of central tendancy and dispersion.\n",
    "Median is used when outliers are in the distribution.\n"
   ]
  },
  {
   "cell_type": "code",
   "execution_count": 8,
   "id": "d910f54c",
   "metadata": {},
   "outputs": [
    {
     "name": "stdout",
     "output_type": "stream",
     "text": [
      "mean=  177.01875\n",
      "mean after adding outlier=  196.01764705882354\n",
      "Median= 177.0\n"
     ]
    }
   ],
   "source": [
    "#Example\n",
    "import numpy as np\n",
    "e=[178,177,176,177,178.2,178,175,179,180,175,178.9,176.2,177,172.5,178,176.5]\n",
    "print(\"mean= \",np.mean(e))\n",
    "#Taking 500 as an outlier in the given dataset\n",
    "e=[178,177,176,177,178.2,178,175,179,180,175,178.9,176.2,177,172.5,178,176.5,500]\n",
    "print(\"mean after adding outlier= \",np.mean(e))\n",
    "print(\"Median=\",np.median(e))"
   ]
  },
  {
   "cell_type": "code",
   "execution_count": null,
   "id": "a0df245f",
   "metadata": {},
   "outputs": [],
   "source": [
    "#There is a negligble change in the output of median and mean "
   ]
  }
 ],
 "metadata": {
  "kernelspec": {
   "display_name": "Python 3 (ipykernel)",
   "language": "python",
   "name": "python3"
  },
  "language_info": {
   "codemirror_mode": {
    "name": "ipython",
    "version": 3
   },
   "file_extension": ".py",
   "mimetype": "text/x-python",
   "name": "python",
   "nbconvert_exporter": "python",
   "pygments_lexer": "ipython3",
   "version": "3.10.9"
  }
 },
 "nbformat": 4,
 "nbformat_minor": 5
}
