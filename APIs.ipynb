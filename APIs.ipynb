{
 "cells": [
  {
   "cell_type": "code",
   "execution_count": null,
   "id": "c7f00768",
   "metadata": {},
   "outputs": [],
   "source": [
    "Q1. What is an API? Give an example, where an API is used in real life.\n",
    "#Ans1.\n",
    "APIs are mechanisms that enable two software components to communicate with each other using a set of definitions and\n",
    "protocols. API stands for Application Programming Interface.\n",
    "There are four different ways that APIs can work depending on when and why they were created.\n",
    "1. SOAP APIs\n",
    "2. RPC APIs\n",
    "3. Websocket APIs\n",
    "4. REST APIs\n",
    "\n",
    "#Examples of API\n",
    "ChatGPT API\n",
    "Google Map API\n",
    "Discord API\n",
    "GitHub API\n",
    "PayPal API\n",
    "YouTube API\n"
   ]
  },
  {
   "cell_type": "code",
   "execution_count": null,
   "id": "d8045744",
   "metadata": {},
   "outputs": [],
   "source": [
    "Q2. Give advantages and disadvantages of using API.\n",
    "#Ans2.\n",
    "Advantages of APIs-\n",
    "1. Increased Interoperability\n",
    "2. Improved Efficiency\n",
    "3. Better User Experience\n",
    "4. Increased Flexibilty\n",
    "5. New Revenue Streams\n",
    "\n",
    "Disadvantages of APIs-\n",
    "1. Security Concerns\n",
    "2. Complexity\n",
    "3. Compatibility Issues\n",
    "4. Dependency on Third-Party Developers\n",
    "5. Governance and Management"
   ]
  },
  {
   "cell_type": "code",
   "execution_count": null,
   "id": "5f2ca85f",
   "metadata": {},
   "outputs": [],
   "source": [
    "Q3. What is a Web API? Differentiate between API and Web API.\n",
    "#Ans3.\n",
    "A Web API is an application programming interface for the Web. A browser API can extend the functionality of a web browser.\n",
    "A server API can extend the functionality of a web server.\n",
    "#Difference between API and Web API\n",
    "API-\n",
    "* API has a light-weight architecture.\n",
    "* It can be used by a client who understands JSON or XML.\n",
    "* All APIs are not web services.\n",
    "\n",
    "Web API-\n",
    "* You need a SOAP protocol to send or recieve and data over the network.\n",
    "* It can be used by any client who understands XML.\n",
    "* All Web Services are APIs"
   ]
  },
  {
   "cell_type": "code",
   "execution_count": null,
   "id": "35fa412e",
   "metadata": {},
   "outputs": [],
   "source": [
    "Q4. Explain REST and SOAP Architecture. Mention shortcomings of SOAP.\n",
    "#Ans4.\n",
    "REST-\n",
    "REST is a set of architectural principles attuned to the needs of lightweight web services and mobile applications. When\n",
    "a request for data is sent to REST API, it is usually done through HTTP. Once a request is received, APIs designed for REST\n",
    "can return messages in a variety of for formats:HTML, XML, JSON and plain text.\n",
    "\n",
    "SOAP-\n",
    "It is a standard protocol that was first designed so that applications built with different languages and on different\n",
    "platforms could communicate. Because it is a protocol, it imposes built-in rules that increase its complexity and overhead,\n",
    "which can lead to longer page load times.\n",
    "\n",
    "#Shortcomings of SOAP API\n",
    "As SOAP can only transfer messages as XML files, your SOAP API will be less performant, as XML is a verbose format compared \n",
    "to JSON."
   ]
  },
  {
   "cell_type": "code",
   "execution_count": null,
   "id": "b9c080bc",
   "metadata": {},
   "outputs": [],
   "source": [
    "Q5. Differentiate between REST and SOAP.\n",
    "#Ans5.\n",
    "REST API-\n",
    "* REST stands for Representational State Transfer.\n",
    "* It works with GET, POST, PUT, DELETE\n",
    "* Works over HTTP and HTTPS\n",
    "* Less structured -> less bulky data\n",
    "\n",
    "SOAP API-\n",
    "* SOAP stands for Simple Object Access Protocol\n",
    "* Because it is XML based and relies on SOAP, it works with WSDL\n",
    "* Works over HTTP, HTTPS, SMPT, XMPP\n",
    "* Highly structured"
   ]
  }
 ],
 "metadata": {
  "kernelspec": {
   "display_name": "Python 3 (ipykernel)",
   "language": "python",
   "name": "python3"
  },
  "language_info": {
   "codemirror_mode": {
    "name": "ipython",
    "version": 3
   },
   "file_extension": ".py",
   "mimetype": "text/x-python",
   "name": "python",
   "nbconvert_exporter": "python",
   "pygments_lexer": "ipython3",
   "version": "3.10.9"
  }
 },
 "nbformat": 4,
 "nbformat_minor": 5
}
