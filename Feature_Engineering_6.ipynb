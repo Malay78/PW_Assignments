{
 "cells": [
  {
   "cell_type": "markdown",
   "id": "44bdfa10",
   "metadata": {},
   "source": [
    "# Assignment: Feature Engineering 6"
   ]
  },
  {
   "cell_type": "code",
   "execution_count": 3,
   "id": "1fa1f65f",
   "metadata": {},
   "outputs": [],
   "source": [
    "import pandas as pd\n",
    "import numpy as np"
   ]
  },
  {
   "cell_type": "markdown",
   "id": "b0b91020",
   "metadata": {},
   "source": [
    "Q1. Pearson correlation coefficient is a measure of the linear relationship between two variables. Suppose \n",
    "you have collected data on the amount of time students spend studying for an exam and their final exam \n",
    "scores. Calculate the Pearson correlation coefficient between these two variables and interpret the result."
   ]
  },
  {
   "cell_type": "code",
   "execution_count": 11,
   "id": "daa98b9d",
   "metadata": {},
   "outputs": [
    {
     "data": {
      "text/html": [
       "<div>\n",
       "<style scoped>\n",
       "    .dataframe tbody tr th:only-of-type {\n",
       "        vertical-align: middle;\n",
       "    }\n",
       "\n",
       "    .dataframe tbody tr th {\n",
       "        vertical-align: top;\n",
       "    }\n",
       "\n",
       "    .dataframe thead th {\n",
       "        text-align: right;\n",
       "    }\n",
       "</style>\n",
       "<table border=\"1\" class=\"dataframe\">\n",
       "  <thead>\n",
       "    <tr style=\"text-align: right;\">\n",
       "      <th></th>\n",
       "      <th>No. of Hours Studied</th>\n",
       "      <th>Exam Score</th>\n",
       "    </tr>\n",
       "  </thead>\n",
       "  <tbody>\n",
       "    <tr>\n",
       "      <th>0</th>\n",
       "      <td>7.0</td>\n",
       "      <td>92</td>\n",
       "    </tr>\n",
       "    <tr>\n",
       "      <th>1</th>\n",
       "      <td>6.0</td>\n",
       "      <td>87</td>\n",
       "    </tr>\n",
       "    <tr>\n",
       "      <th>2</th>\n",
       "      <td>2.0</td>\n",
       "      <td>55</td>\n",
       "    </tr>\n",
       "    <tr>\n",
       "      <th>3</th>\n",
       "      <td>7.5</td>\n",
       "      <td>94</td>\n",
       "    </tr>\n",
       "  </tbody>\n",
       "</table>\n",
       "</div>"
      ],
      "text/plain": [
       "   No. of Hours Studied  Exam Score\n",
       "0                   7.0          92\n",
       "1                   6.0          87\n",
       "2                   2.0          55\n",
       "3                   7.5          94"
      ]
     },
     "execution_count": 11,
     "metadata": {},
     "output_type": "execute_result"
    }
   ],
   "source": [
    "#Ans1.\n",
    "#Taking a sample data\n",
    "student = [[7, 92], [6, 87], [2,55], [7.5, 94]]\n",
    "df = pd.DataFrame(student, columns = [\"No. of Hours Studied\",\"Exam Score\"])\n",
    "df"
   ]
  },
  {
   "cell_type": "code",
   "execution_count": 12,
   "id": "4d0c8622",
   "metadata": {},
   "outputs": [
    {
     "data": {
      "text/html": [
       "<div>\n",
       "<style scoped>\n",
       "    .dataframe tbody tr th:only-of-type {\n",
       "        vertical-align: middle;\n",
       "    }\n",
       "\n",
       "    .dataframe tbody tr th {\n",
       "        vertical-align: top;\n",
       "    }\n",
       "\n",
       "    .dataframe thead th {\n",
       "        text-align: right;\n",
       "    }\n",
       "</style>\n",
       "<table border=\"1\" class=\"dataframe\">\n",
       "  <thead>\n",
       "    <tr style=\"text-align: right;\">\n",
       "      <th></th>\n",
       "      <th>No. of Hours Studied</th>\n",
       "      <th>Exam Score</th>\n",
       "    </tr>\n",
       "  </thead>\n",
       "  <tbody>\n",
       "    <tr>\n",
       "      <th>No. of Hours Studied</th>\n",
       "      <td>1.000000</td>\n",
       "      <td>0.995859</td>\n",
       "    </tr>\n",
       "    <tr>\n",
       "      <th>Exam Score</th>\n",
       "      <td>0.995859</td>\n",
       "      <td>1.000000</td>\n",
       "    </tr>\n",
       "  </tbody>\n",
       "</table>\n",
       "</div>"
      ],
      "text/plain": [
       "                      No. of Hours Studied  Exam Score\n",
       "No. of Hours Studied              1.000000    0.995859\n",
       "Exam Score                        0.995859    1.000000"
      ]
     },
     "execution_count": 12,
     "metadata": {},
     "output_type": "execute_result"
    }
   ],
   "source": [
    "df.corr(method = \"pearson\")"
   ]
  },
  {
   "cell_type": "markdown",
   "id": "3ca7aadd",
   "metadata": {},
   "source": [
    "Q2. Spearman's rank correlation is a measure of the monotonic relationship between two variables. \n",
    "Suppose you have collected data on the amount of sleep individuals get each night and their overall job \n",
    "satisfaction level on a scale of 1 to 10. Calculate the Spearman's rank correlation between these two \n",
    "variables and interpret the result."
   ]
  },
  {
   "cell_type": "code",
   "execution_count": 17,
   "id": "c7ad1992",
   "metadata": {},
   "outputs": [
    {
     "data": {
      "text/html": [
       "<div>\n",
       "<style scoped>\n",
       "    .dataframe tbody tr th:only-of-type {\n",
       "        vertical-align: middle;\n",
       "    }\n",
       "\n",
       "    .dataframe tbody tr th {\n",
       "        vertical-align: top;\n",
       "    }\n",
       "\n",
       "    .dataframe thead th {\n",
       "        text-align: right;\n",
       "    }\n",
       "</style>\n",
       "<table border=\"1\" class=\"dataframe\">\n",
       "  <thead>\n",
       "    <tr style=\"text-align: right;\">\n",
       "      <th></th>\n",
       "      <th>Sleep in Hours</th>\n",
       "      <th>Job Satisfaction Level</th>\n",
       "    </tr>\n",
       "  </thead>\n",
       "  <tbody>\n",
       "    <tr>\n",
       "      <th>0</th>\n",
       "      <td>6.0</td>\n",
       "      <td>7.5</td>\n",
       "    </tr>\n",
       "    <tr>\n",
       "      <th>1</th>\n",
       "      <td>3.5</td>\n",
       "      <td>1.0</td>\n",
       "    </tr>\n",
       "    <tr>\n",
       "      <th>2</th>\n",
       "      <td>8.0</td>\n",
       "      <td>9.5</td>\n",
       "    </tr>\n",
       "    <tr>\n",
       "      <th>3</th>\n",
       "      <td>5.0</td>\n",
       "      <td>6.5</td>\n",
       "    </tr>\n",
       "  </tbody>\n",
       "</table>\n",
       "</div>"
      ],
      "text/plain": [
       "   Sleep in Hours  Job Satisfaction Level\n",
       "0             6.0                     7.5\n",
       "1             3.5                     1.0\n",
       "2             8.0                     9.5\n",
       "3             5.0                     6.5"
      ]
     },
     "execution_count": 17,
     "metadata": {},
     "output_type": "execute_result"
    }
   ],
   "source": [
    "#Ans2.\n",
    "#Taking a sample dataset\n",
    "job = [[6, 7.5], [3.5,1], [8, 9.5], [5,6.5]]\n",
    "df1 = pd.DataFrame(job, columns = [\"Sleep in Hours\", \"Job Satisfaction Level\"])\n",
    "df1"
   ]
  },
  {
   "cell_type": "code",
   "execution_count": 18,
   "id": "48c7dc4f",
   "metadata": {},
   "outputs": [
    {
     "data": {
      "text/html": [
       "<div>\n",
       "<style scoped>\n",
       "    .dataframe tbody tr th:only-of-type {\n",
       "        vertical-align: middle;\n",
       "    }\n",
       "\n",
       "    .dataframe tbody tr th {\n",
       "        vertical-align: top;\n",
       "    }\n",
       "\n",
       "    .dataframe thead th {\n",
       "        text-align: right;\n",
       "    }\n",
       "</style>\n",
       "<table border=\"1\" class=\"dataframe\">\n",
       "  <thead>\n",
       "    <tr style=\"text-align: right;\">\n",
       "      <th></th>\n",
       "      <th>Sleep in Hours</th>\n",
       "      <th>Job Satisfaction Level</th>\n",
       "    </tr>\n",
       "  </thead>\n",
       "  <tbody>\n",
       "    <tr>\n",
       "      <th>Sleep in Hours</th>\n",
       "      <td>1.0</td>\n",
       "      <td>1.0</td>\n",
       "    </tr>\n",
       "    <tr>\n",
       "      <th>Job Satisfaction Level</th>\n",
       "      <td>1.0</td>\n",
       "      <td>1.0</td>\n",
       "    </tr>\n",
       "  </tbody>\n",
       "</table>\n",
       "</div>"
      ],
      "text/plain": [
       "                        Sleep in Hours  Job Satisfaction Level\n",
       "Sleep in Hours                     1.0                     1.0\n",
       "Job Satisfaction Level             1.0                     1.0"
      ]
     },
     "execution_count": 18,
     "metadata": {},
     "output_type": "execute_result"
    }
   ],
   "source": [
    "df1.corr(method = \"spearman\")"
   ]
  },
  {
   "cell_type": "markdown",
   "id": "4ea8c289",
   "metadata": {},
   "source": [
    "Q3. Suppose you are conducting a study to examine the relationship between the number of hours of \n",
    "exercise per week and body mass index (BMI) in a sample of adults. You collected data on both variables \n",
    "for 50 participants. Calculate the Pearson correlation coefficient and the Spearman's rank correlation \n",
    "between these two variables and compare the results."
   ]
  },
  {
   "cell_type": "code",
   "execution_count": 23,
   "id": "1b2cf12f",
   "metadata": {},
   "outputs": [
    {
     "name": "stdout",
     "output_type": "stream",
     "text": [
      "Pearson correlation coefficient: -0.9967332190217943\n",
      "Spearman's rank correlation coefficient: -0.9951980792316926\n"
     ]
    }
   ],
   "source": [
    "#Ans3.\n",
    "#Taking sample data\n",
    "data = {\n",
    "    'Hours_of_Exercise': [1, 2, 3, 4, 5, 6, 7, 8, 9, 10, 1.5, 2.5, 3.5, 4.5, 5.5, 6.5, 7.5, 8.5, 9.5, 10.5,1.2, 2.2, 3.2,\n",
    "                          4.2, 5.2, 6.2, 7.2, 8.2, 9.2, 10.2,1.8, 2.8, 3.8, 4.8, 5.8, 6.8, 7.8, 8.8, 9.8, 10.8,1.1, 2.1, \n",
    "                          3.1, 4.1, 5.1, 6.1, 7.1, 8.1, 9.1, 10.1],\n",
    "    'BMI': [25, 24, 23, 22, 21, 20, 19, 18, 17, 16,24.5, 23.5, 22.5, 21.5, 20.5, 19.5, 18.5, 17.5, 16.5, 15.5,25.2, 24.2,\n",
    "            23.2, 22.2, 21.2, 20.2, 19.2, 18.2, 17.2, 16.2,24.8, 23.8, 22.8, 21.8, 20.8, 19.8, 18.8, 17.8, 16.8, 15.8,\n",
    "            25.1, 24.1, 23.1, 22.1, 21.1, 20.1, 19.1, 18.1, 17.1, 16.1]\n",
    "}\n",
    "df = pd.DataFrame(data)\n",
    "\n",
    "# Pearson correlation coefficient\n",
    "pearson_corr, _ = pearsonr(df['Hours_of_Exercise'], df['BMI'])\n",
    "print(f'Pearson correlation coefficient: {pearson_corr}')\n",
    "\n",
    "# Spearman's rank correlation coefficient\n",
    "spearman_corr, _ = spearmanr(df['Hours_of_Exercise'], df['BMI'])\n",
    "print(f\"Spearman's rank correlation coefficient: {spearman_corr}\")\n",
    "\n"
   ]
  },
  {
   "cell_type": "markdown",
   "id": "6102a887",
   "metadata": {},
   "source": [
    "Q4. A researcher is interested in examining the relationship between the number of hours individuals \n",
    "spend watching television per day and their level of physical activity. The researcher collected data on \n",
    "both variables from a sample of 50 participants. Calculate the Pearson correlation coefficient between \n",
    "these two variables."
   ]
  },
  {
   "cell_type": "code",
   "execution_count": 31,
   "id": "f446fdf4",
   "metadata": {},
   "outputs": [
    {
     "name": "stdout",
     "output_type": "stream",
     "text": [
      "Pearson correlation coefficient: -0.9637909376371089\n"
     ]
    }
   ],
   "source": [
    "#Ans4.\n",
    "# Sample data for hours of TV watched per day and another for physical activity level\n",
    "tv_hours = [2.5, 3.0, 1.0, 4.5, 5.0, 2.0, 3.5, 2.0, 4.0, 3.0,1.5, 2.5, 3.5, 4.5, 5.0, 1.0, 2.5, 3.0, 4.0, 2.5,\n",
    "            3.5, 4.0, 1.0, 2.5, 3.0, 4.5, 5.0, 2.0, 3.5, 2.0, 4.0, 3.0, 1.5, 2.5, 3.5, 4.5, 5.0, 1.0, 2.5, 3.0,\n",
    "            4.0, 2.5, 3.5, 4.0, 1.0, 2.5, 3.0, 4.5, 5.0, 2.0]\n",
    "\n",
    "physical_activity_level = [7, 7, 9, 5, 4, 8, 7, 8, 5, 7,9, 8, 6, 5, 4, 9, 8, 7, 5, 8,6, 5, 9, 8, 7, 5, 4, 8, 6, 7,\n",
    "                           5, 6, 9, 8, 6, 5, 4, 9, 8, 7, 5, 8, 6, 5, 9, 8, 7, 5, 4, 8]\n",
    "\n",
    "data = {'TV_Hours': tv_hours, 'Physical_Activity_Level': physical_activity_level}\n",
    "df3 = pd.DataFrame(data)\n",
    "\n",
    "#  Pearson correlation coefficient\n",
    "correlation = df['TV_Hours'].corr(df['Physical_Activity_Level'], method='pearson')\n",
    "\n",
    "print(f\"Pearson correlation coefficient: {correlation}\")\n"
   ]
  },
  {
   "cell_type": "code",
   "execution_count": null,
   "id": "21548a79",
   "metadata": {},
   "outputs": [],
   "source": [
    "Q5. A survey was conducted to examine the relationship between age and preference for a particular \n",
    "brand of soft drink. The survey results are shown below:"
   ]
  },
  {
   "attachments": {
    "Screenshot%202024-05-17%20155444.png": {
     "image/png": "[encoded data removed]"
    }
   },
   "cell_type": "markdown",
   "id": "c6188611",
   "metadata": {},
   "source": [
    "![Screenshot%202024-05-17%20155444.png](attachment:Screenshot%202024-05-17%20155444.png)"
   ]
  },
  {
   "cell_type": "code",
   "execution_count": 33,
   "id": "b41f3496",
   "metadata": {},
   "outputs": [
    {
     "data": {
      "text/html": [
       "<div>\n",
       "<style scoped>\n",
       "    .dataframe tbody tr th:only-of-type {\n",
       "        vertical-align: middle;\n",
       "    }\n",
       "\n",
       "    .dataframe tbody tr th {\n",
       "        vertical-align: top;\n",
       "    }\n",
       "\n",
       "    .dataframe thead th {\n",
       "        text-align: right;\n",
       "    }\n",
       "</style>\n",
       "<table border=\"1\" class=\"dataframe\">\n",
       "  <thead>\n",
       "    <tr style=\"text-align: right;\">\n",
       "      <th></th>\n",
       "      <th>Age(Years)</th>\n",
       "      <th>Soft Drink Preference</th>\n",
       "    </tr>\n",
       "  </thead>\n",
       "  <tbody>\n",
       "    <tr>\n",
       "      <th>0</th>\n",
       "      <td>25</td>\n",
       "      <td>Coke</td>\n",
       "    </tr>\n",
       "    <tr>\n",
       "      <th>1</th>\n",
       "      <td>42</td>\n",
       "      <td>Pepsi</td>\n",
       "    </tr>\n",
       "    <tr>\n",
       "      <th>2</th>\n",
       "      <td>37</td>\n",
       "      <td>Mountain Dew</td>\n",
       "    </tr>\n",
       "    <tr>\n",
       "      <th>3</th>\n",
       "      <td>19</td>\n",
       "      <td>Coke</td>\n",
       "    </tr>\n",
       "    <tr>\n",
       "      <th>4</th>\n",
       "      <td>31</td>\n",
       "      <td>Pepsi</td>\n",
       "    </tr>\n",
       "    <tr>\n",
       "      <th>5</th>\n",
       "      <td>28</td>\n",
       "      <td>Coke</td>\n",
       "    </tr>\n",
       "  </tbody>\n",
       "</table>\n",
       "</div>"
      ],
      "text/plain": [
       "   Age(Years) Soft Drink Preference\n",
       "0          25                  Coke\n",
       "1          42                 Pepsi\n",
       "2          37          Mountain Dew\n",
       "3          19                  Coke\n",
       "4          31                 Pepsi\n",
       "5          28                  Coke"
      ]
     },
     "execution_count": 33,
     "metadata": {},
     "output_type": "execute_result"
    }
   ],
   "source": [
    "drink = [[25, \"Coke\"], [42, \"Pepsi\"], [37, \"Mountain Dew\"],[19, \"Coke\"], [31, \"Pepsi\"], [28, \"Coke\"]]\n",
    "df4 = pd.DataFrame(drink, columns = [\"Age(Years)\", \"Soft Drink Preference\"])\n",
    "df4"
   ]
  },
  {
   "cell_type": "code",
   "execution_count": 35,
   "id": "41ab1985",
   "metadata": {},
   "outputs": [
    {
     "name": "stderr",
     "output_type": "stream",
     "text": [
      "C:\\Users\\Malay Gupta\\AppData\\Local\\Temp\\ipykernel_20840\\3322284982.py:1: FutureWarning: The default value of numeric_only in DataFrame.corr is deprecated. In a future version, it will default to False. Select only valid columns or specify the value of numeric_only to silence this warning.\n",
      "  df4.corr(method = \"spearman\")\n"
     ]
    },
    {
     "data": {
      "text/html": [
       "<div>\n",
       "<style scoped>\n",
       "    .dataframe tbody tr th:only-of-type {\n",
       "        vertical-align: middle;\n",
       "    }\n",
       "\n",
       "    .dataframe tbody tr th {\n",
       "        vertical-align: top;\n",
       "    }\n",
       "\n",
       "    .dataframe thead th {\n",
       "        text-align: right;\n",
       "    }\n",
       "</style>\n",
       "<table border=\"1\" class=\"dataframe\">\n",
       "  <thead>\n",
       "    <tr style=\"text-align: right;\">\n",
       "      <th></th>\n",
       "      <th>Age(Years)</th>\n",
       "    </tr>\n",
       "  </thead>\n",
       "  <tbody>\n",
       "    <tr>\n",
       "      <th>Age(Years)</th>\n",
       "      <td>1.0</td>\n",
       "    </tr>\n",
       "  </tbody>\n",
       "</table>\n",
       "</div>"
      ],
      "text/plain": [
       "            Age(Years)\n",
       "Age(Years)         1.0"
      ]
     },
     "execution_count": 35,
     "metadata": {},
     "output_type": "execute_result"
    }
   ],
   "source": [
    "df4.corr(method = \"spearman\")"
   ]
  },
  {
   "cell_type": "markdown",
   "id": "4adc89a1",
   "metadata": {},
   "source": [
    "Q6. A company is interested in examining the relationship between the number of sales calls made per day \n",
    "and the number of sales made per week. The company collected data on both variables from a sample of \n",
    "30 sales representatives. Calculate the Pearson correlation coefficient between these two variables."
   ]
  },
  {
   "cell_type": "code",
   "execution_count": 36,
   "id": "0c62af17",
   "metadata": {},
   "outputs": [
    {
     "name": "stdout",
     "output_type": "stream",
     "text": [
      "The Pearson correlation coefficient is: 0.9805505530724807\n"
     ]
    }
   ],
   "source": [
    "#Ans6.\n",
    "import pandas as pd\n",
    "\n",
    "# Sample data of 30 sales representatives\n",
    "sales_calls_per_day = [10, 15, 8, 12, 14, 9, 13, 7, 11, 16, 9, 14, 10, 15, 13, 10, 14, 9, 12, 15, 8, 13, 14, 7, 11, \n",
    "                       15, 9, 13, 12, 10]\n",
    "sales_per_week = [5, 9, 4, 6, 8, 5, 7, 3, 6, 10, 5, 8, 6, 9, 7, 5, 8, 4, 6, 9, 4, 7, 8, 3, 6, 9, 5, 7, 6, 5]\n",
    "\n",
    "data = pd.DataFrame({\n",
    "    'sales_calls_per_day': sales_calls_per_day,\n",
    "    'sales_per_week': sales_per_week\n",
    "})\n",
    "\n",
    "#Pearson correlation coefficient\n",
    "correlation = data['sales_calls_per_day'].corr(data['sales_per_week'])\n",
    "\n",
    "print(f'The Pearson correlation coefficient is: {correlation}')\n"
   ]
  },
  {
   "cell_type": "code",
   "execution_count": null,
   "id": "3ee493e0",
   "metadata": {},
   "outputs": [],
   "source": []
  }
 ],
 "metadata": {
  "kernelspec": {
   "display_name": "Python 3 (ipykernel)",
   "language": "python",
   "name": "python3"
  },
  "language_info": {
   "codemirror_mode": {
    "name": "ipython",
    "version": 3
   },
   "file_extension": ".py",
   "mimetype": "text/x-python",
   "name": "python",
   "nbconvert_exporter": "python",
   "pygments_lexer": "ipython3",
   "version": "3.10.9"
  }
 },
 "nbformat": 4,
 "nbformat_minor": 5
}
