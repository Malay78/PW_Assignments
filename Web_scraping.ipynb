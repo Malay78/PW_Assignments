{
 "cells": [
  {
   "cell_type": "code",
   "execution_count": null,
   "id": "34c853f3",
   "metadata": {},
   "outputs": [],
   "source": [
    "Q1. What is Web Scraping? Why is it Used? Give three areas where Web Scraping is used to get data.\n",
    "#Ans1.\n",
    "Web Scraping is a technique used to collect content and data from the internet. This data is usually saved in a local file\n",
    "so that it can be manipulated and analyzed as needed. If you have ever copied and pasted content from a website into an\n",
    "Excel spreadsheet, this is essentially what web scaping is, but on a very small scale.\n",
    "\n",
    "#Use\n",
    "* Monitoring e-commerce prices.\n",
    "* Finding opportunities for investment.\n",
    "* Analyzing social media web data.\n",
    "* Gathering web data automatically.\n",
    "\n",
    "#Three areas where web scraping is used\n",
    "* Social Media\n",
    "* Machine Learning\n",
    "* Sports Analytics\n"
   ]
  },
  {
   "cell_type": "code",
   "execution_count": null,
   "id": "058807db",
   "metadata": {},
   "outputs": [],
   "source": [
    "Q2. What are the different methods used for Web Scraping?\n",
    "#Ans2.\n",
    "Some methods for web scraping\n",
    "* Beautiful Soup\n",
    "* Requests\n",
    "* Scrapy\n",
    "* Selenium\n",
    "* Playwright\n",
    "* Urllib3"
   ]
  },
  {
   "cell_type": "code",
   "execution_count": null,
   "id": "19ba7ea0",
   "metadata": {},
   "outputs": [],
   "source": [
    "Q3. What is Beautiful Soup? Why is it used?\n",
    "#Ans3.\n",
    "Beautiful Soup is a Python package for parsing HTML and XML documents. Beautiful Soup is used to beautify the raw data into\n",
    "a readable form.\n",
    "#Use\n",
    "It provides simple methods for navigating, searching, and modifying a parse tree in HTML, XML fies."
   ]
  },
  {
   "cell_type": "code",
   "execution_count": null,
   "id": "4dfb0894",
   "metadata": {},
   "outputs": [],
   "source": [
    "Q4. Why is flask used in this Web Scraping project?\n",
    "#Ans4.\n",
    "Flask is a lightweight framework to build websites. We wil use this to parse our collected data and display it as HTML in\n",
    "a new HTML file. The requests module allows us to send http requests to the website we want to scrape. The first line imports\n",
    "the Flask class and the render_template method from the flask library."
   ]
  },
  {
   "cell_type": "code",
   "execution_count": null,
   "id": "04e822cf",
   "metadata": {},
   "outputs": [],
   "source": [
    "\n"
   ]
  }
 ],
 "metadata": {
  "kernelspec": {
   "display_name": "Python 3 (ipykernel)",
   "language": "python",
   "name": "python3"
  },
  "language_info": {
   "codemirror_mode": {
    "name": "ipython",
    "version": 3
   },
   "file_extension": ".py",
   "mimetype": "text/x-python",
   "name": "python",
   "nbconvert_exporter": "python",
   "pygments_lexer": "ipython3",
   "version": "3.10.9"
  }
 },
 "nbformat": 4,
 "nbformat_minor": 5
}
