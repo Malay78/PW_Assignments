{
 "cells": [
  {
   "cell_type": "code",
   "execution_count": null,
   "id": "a3354949",
   "metadata": {},
   "outputs": [],
   "source": [
    "Q1. Which keyword is used to create a function? Create a function to return a list of odd numbers in the \n",
    "range of 1 to 25.\n",
    "Ans1. 'def' keyword is used to create a function. "
   ]
  },
  {
   "cell_type": "code",
   "execution_count": 6,
   "id": "3370aa2a",
   "metadata": {},
   "outputs": [
    {
     "data": {
      "text/plain": [
       "[1, 3, 5, 7, 9, 11, 13, 15, 17, 19, 21, 23, 25]"
      ]
     },
     "execution_count": 6,
     "metadata": {},
     "output_type": "execute_result"
    }
   ],
   "source": [
    "#Function that return a list of odd numbers\n",
    "def odd_num():\n",
    "    l1=[]\n",
    "    for i in range(1,26):\n",
    "        if(i%2!=0):\n",
    "            l1.append(i)\n",
    "    return l1\n",
    "odd_num()"
   ]
  },
  {
   "cell_type": "code",
   "execution_count": null,
   "id": "ec25554d",
   "metadata": {},
   "outputs": [],
   "source": [
    "Q2. Why *args and **kwargs is used in some functions? Create a function each for *args and **kwargs \n",
    "to demonstrate their use.\n",
    "Ans2. *args is used to pass n number of arguments inside a function wiith the help of *. It returns the output in the format\n",
    "       of tuple.\n",
    "      **kwargs is used to pass n number of arguments in the format of dictionary i.e. it consist of key and value inside the\n",
    "      function"
   ]
  },
  {
   "cell_type": "code",
   "execution_count": 13,
   "id": "b201867f",
   "metadata": {},
   "outputs": [
    {
     "data": {
      "text/plain": [
       "(45, 65, 'MG', 'PwSkills')"
      ]
     },
     "execution_count": 13,
     "metadata": {},
     "output_type": "execute_result"
    }
   ],
   "source": [
    "#Function using *args\n",
    "def test1(*args):\n",
    "    return args\n",
    "test1(45,65,\"MG\",\"PwSkills\")"
   ]
  },
  {
   "cell_type": "code",
   "execution_count": 15,
   "id": "cb383c89",
   "metadata": {},
   "outputs": [
    {
     "data": {
      "text/plain": [
       "{'x': 'Malay', 'y': [76, 58, 75, 65, 61], 'z': 78.26}"
      ]
     },
     "execution_count": 15,
     "metadata": {},
     "output_type": "execute_result"
    }
   ],
   "source": [
    "#Function using **kwargs\n",
    "def test2(**kwargs):\n",
    "    return kwargs\n",
    "test2(x=\"Malay\",y=[76,58,75,65,61],z=78.26)"
   ]
  },
  {
   "cell_type": "code",
   "execution_count": null,
   "id": "40d78960",
   "metadata": {},
   "outputs": [],
   "source": [
    "Q3.  What is an iterator in python? Name the method used to initialise the iterator object and the method \n",
    "used for iteration. Use these methods to print the first five elements of the given list [2, 4, 6, 8, 10, 12, 14, \n",
    "16, 18, 20].\n",
    "Ans3. An iterator is an object that contains a countable number of values, it allows you to iterate over collections of data,\n",
    "      such as list,tuples,dictionaries and sets.\n",
    "    #Method used to initialize the iterator object\n",
    "    iter() is the method used to initialize the iterator object\n",
    "    "
   ]
  },
  {
   "cell_type": "code",
   "execution_count": 23,
   "id": "2ab3319f",
   "metadata": {},
   "outputs": [
    {
     "name": "stdout",
     "output_type": "stream",
     "text": [
      "2\n",
      "4\n",
      "6\n",
      "8\n",
      "10\n"
     ]
    }
   ],
   "source": [
    "l3=iter([2,4,6,8,10,12,14,16,18,20])\n",
    "i=1\n",
    "while(i<6):\n",
    "    print(next(l3))\n",
    "    i+=1"
   ]
  },
  {
   "cell_type": "code",
   "execution_count": null,
   "id": "a167cded",
   "metadata": {},
   "outputs": [],
   "source": [
    "Q4.  What is a generator function in python? Why yield keyword is used? Give an example of a generator \n",
    "function\n",
    "Ans4. A generator function in Python is very much similar like normal defined function, but whenever it needs to generate a \n",
    "      value, it does so with the yield keyword rather than return. If a function body contains yield keyword then it is said to\n",
    "      be a generator function.\n",
    "    #Why to use yield function\n",
    "    Yield function is used to throw or give the value as an output to the user."
   ]
  },
  {
   "cell_type": "code",
   "execution_count": 27,
   "id": "c8d595c0",
   "metadata": {},
   "outputs": [
    {
     "name": "stdout",
     "output_type": "stream",
     "text": [
      "45\n",
      "63\n",
      "48\n",
      "46\n"
     ]
    }
   ],
   "source": [
    "#Example of function generator\n",
    "l2=[45,63,12,48,46]\n",
    "def generate():\n",
    "    for i in l2:\n",
    "        if(i>30):\n",
    "            yield i\n",
    "for i in generate():\n",
    "    print(i)"
   ]
  },
  {
   "cell_type": "code",
   "execution_count": null,
   "id": "f0866b88",
   "metadata": {},
   "outputs": [],
   "source": [
    "Q5. Create a generator function for prime numbers less than 1000. Use the next() method to print the \n",
    "first 20 prime numbers."
   ]
  },
  {
   "cell_type": "code",
   "execution_count": 3,
   "id": "75c43b4c",
   "metadata": {},
   "outputs": [
    {
     "name": "stdout",
     "output_type": "stream",
     "text": [
      "2\n",
      "3\n",
      "5\n",
      "7\n",
      "11\n",
      "13\n",
      "17\n",
      "19\n",
      "23\n",
      "29\n",
      "31\n",
      "37\n",
      "41\n",
      "43\n",
      "47\n",
      "53\n",
      "59\n",
      "61\n",
      "67\n",
      "71\n"
     ]
    }
   ],
   "source": [
    "#Ans5.\n",
    "def prime():\n",
    "    count=1\n",
    "    for i in range(2,1000):\n",
    "    \n",
    "        for j in range(2,i):\n",
    "            if(i%j==0):\n",
    "                break\n",
    "        else:\n",
    "            yield i\n",
    "temp=prime()\n",
    "for i in range(20):\n",
    "    print(next(temp))"
   ]
  },
  {
   "cell_type": "code",
   "execution_count": null,
   "id": "35258df1",
   "metadata": {},
   "outputs": [],
   "source": [
    "Q6. Write a python program to print the first 10 Fibonacci numbers using a while loop."
   ]
  },
  {
   "cell_type": "code",
   "execution_count": 7,
   "id": "df38fe99",
   "metadata": {},
   "outputs": [
    {
     "name": "stdout",
     "output_type": "stream",
     "text": [
      "0\n",
      "1\n",
      "1\n",
      "2\n",
      "3\n",
      "5\n",
      "8\n",
      "13\n",
      "21\n",
      "34\n"
     ]
    }
   ],
   "source": [
    "#Ans6.\n",
    "a,b=0,1\n",
    "i=0\n",
    "while(i<10):\n",
    "    print(a)\n",
    "    a,b=b,a+b\n",
    "    i+=1\n",
    "    "
   ]
  },
  {
   "cell_type": "code",
   "execution_count": null,
   "id": "e3bba343",
   "metadata": {},
   "outputs": [],
   "source": [
    "Q7. Write a List Comprehension to iterate through the given string: ‘pwskills’.\n",
    "\n",
    "Expected output: ['p', 'w', 's', 'k', 'i', 'l', 'l', 's']"
   ]
  },
  {
   "cell_type": "code",
   "execution_count": 12,
   "id": "b8a10514",
   "metadata": {},
   "outputs": [
    {
     "name": "stdout",
     "output_type": "stream",
     "text": [
      "['p', 'w', 's', 'k', 'i', 'l', 'l', 's']\n"
     ]
    }
   ],
   "source": [
    "#Ans7.\n",
    "k=\"pwskills\"\n",
    "temp=[]\n",
    "for i in k:\n",
    "    temp.append(i)\n",
    "print(temp)"
   ]
  },
  {
   "cell_type": "code",
   "execution_count": null,
   "id": "a484939e",
   "metadata": {},
   "outputs": [],
   "source": [
    "Q8. Write a python program to check whether a given number is Palindrome or not using a while loop."
   ]
  },
  {
   "cell_type": "code",
   "execution_count": 3,
   "id": "fc2cdca0",
   "metadata": {},
   "outputs": [
    {
     "name": "stdout",
     "output_type": "stream",
     "text": [
      "1221\n",
      "Palindrome\n"
     ]
    }
   ],
   "source": [
    "\n",
    "#Ans8.\n",
    "num1=int(input())\n",
    "temp=num1\n",
    "flag=0\n",
    "while(num1>0):\n",
    "    i=num1%10\n",
    "    flag=flag*10+i\n",
    "    num1=num1//10\n",
    "if(temp==flag):\n",
    "    print(\"Palindrome\")\n",
    "else:\n",
    "    print(\"Not a Palindrome\")"
   ]
  },
  {
   "cell_type": "code",
   "execution_count": null,
   "id": "0be3a8e9",
   "metadata": {},
   "outputs": [],
   "source": [
    "Q9. Write a code to print odd numbers from 1 to 100 using list comprehension"
   ]
  },
  {
   "cell_type": "code",
   "execution_count": 9,
   "id": "acec172b",
   "metadata": {},
   "outputs": [
    {
     "data": {
      "text/plain": [
       "[1,\n",
       " 3,\n",
       " 5,\n",
       " 7,\n",
       " 9,\n",
       " 11,\n",
       " 13,\n",
       " 15,\n",
       " 17,\n",
       " 19,\n",
       " 21,\n",
       " 23,\n",
       " 25,\n",
       " 27,\n",
       " 29,\n",
       " 31,\n",
       " 33,\n",
       " 35,\n",
       " 37,\n",
       " 39,\n",
       " 41,\n",
       " 43,\n",
       " 45,\n",
       " 47,\n",
       " 49,\n",
       " 51,\n",
       " 53,\n",
       " 55,\n",
       " 57,\n",
       " 59,\n",
       " 61,\n",
       " 63,\n",
       " 65,\n",
       " 67,\n",
       " 69,\n",
       " 71,\n",
       " 73,\n",
       " 75,\n",
       " 77,\n",
       " 79,\n",
       " 81,\n",
       " 83,\n",
       " 85,\n",
       " 87,\n",
       " 89,\n",
       " 91,\n",
       " 93,\n",
       " 95,\n",
       " 97,\n",
       " 99]"
      ]
     },
     "execution_count": 9,
     "metadata": {},
     "output_type": "execute_result"
    }
   ],
   "source": [
    "#Ans9.\n",
    "l1=[]\n",
    "for i in range(0,101):\n",
    "        l1.append(i)\n",
    "list(filter(lambda x:x%2!=0,l1))"
   ]
  },
  {
   "cell_type": "code",
   "execution_count": null,
   "id": "d96e801e",
   "metadata": {},
   "outputs": [],
   "source": []
  }
 ],
 "metadata": {
  "kernelspec": {
   "display_name": "Python 3 (ipykernel)",
   "language": "python",
   "name": "python3"
  },
  "language_info": {
   "codemirror_mode": {
    "name": "ipython",
    "version": 3
   },
   "file_extension": ".py",
   "mimetype": "text/x-python",
   "name": "python",
   "nbconvert_exporter": "python",
   "pygments_lexer": "ipython3",
   "version": "3.10.9"
  }
 },
 "nbformat": 4,
 "nbformat_minor": 5
}
